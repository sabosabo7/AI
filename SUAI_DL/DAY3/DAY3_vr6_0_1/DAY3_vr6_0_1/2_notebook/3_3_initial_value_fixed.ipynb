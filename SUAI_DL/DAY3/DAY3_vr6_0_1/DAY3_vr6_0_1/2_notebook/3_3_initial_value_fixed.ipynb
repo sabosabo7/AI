{
 "cells": [
  {
   "cell_type": "markdown",
   "metadata": {},
   "source": [
    "# 初期値の影響(固定値)"
   ]
  },
  {
   "cell_type": "code",
   "execution_count": 1,
   "metadata": {},
   "outputs": [],
   "source": [
    "import numpy as np"
   ]
  },
  {
   "cell_type": "markdown",
   "metadata": {},
   "source": [
    "## 初期値が0の場合"
   ]
  },
  {
   "cell_type": "code",
   "execution_count": 2,
   "metadata": {},
   "outputs": [
    {
     "output_type": "stream",
     "name": "stdout",
     "text": [
      "X= [0 1 2 3 4]\nW1= [[0. 0. 0. 0. 0. 0. 0.]\n [0. 0. 0. 0. 0. 0. 0.]\n [0. 0. 0. 0. 0. 0. 0.]\n [0. 0. 0. 0. 0. 0. 0.]\n [0. 0. 0. 0. 0. 0. 0.]]\nW2= [[0. 0. 0. 0. 0.]\n [0. 0. 0. 0. 0.]\n [0. 0. 0. 0. 0.]\n [0. 0. 0. 0. 0.]\n [0. 0. 0. 0. 0.]\n [0. 0. 0. 0. 0.]\n [0. 0. 0. 0. 0.]]\nW3= [[0. 0. 0.]\n [0. 0. 0.]\n [0. 0. 0.]\n [0. 0. 0.]\n [0. 0. 0.]]\n"
     ]
    }
   ],
   "source": [
    "num_in = 5\n",
    "X = np.arange(num_in)\n",
    "num_node1 = 7\n",
    "W1 = np.zeros((num_in, num_node1))\n",
    "num_node2 = 5\n",
    "W2 = np.zeros((num_node1, num_node2))\n",
    "num_node3 = 3\n",
    "W3 = np.zeros((num_node2, num_node3))\n",
    "print(\"X=\", X)\n",
    "print(\"W1=\", W1)\n",
    "print(\"W2=\", W2)\n",
    "print(\"W3=\", W3)"
   ]
  },
  {
   "cell_type": "markdown",
   "metadata": {},
   "source": [
    "### 順伝播を行う"
   ]
  },
  {
   "cell_type": "code",
   "execution_count": 3,
   "metadata": {},
   "outputs": [
    {
     "output_type": "stream",
     "name": "stdout",
     "text": [
      "h1= [0. 0. 0. 0. 0. 0. 0.]\nh2= [0. 0. 0. 0. 0.]\nh3= [0. 0. 0.]\n"
     ]
    }
   ],
   "source": [
    "h1 = np.dot(X, W1)\n",
    "h2 = np.dot(h1, W2)\n",
    "h3 = np.dot(h2, W3)\n",
    "print(\"h1=\", h1)\n",
    "print(\"h2=\", h2)\n",
    "print(\"h3=\", h3)"
   ]
  },
  {
   "cell_type": "markdown",
   "metadata": {},
   "source": [
    "* 中間層のノードの値は全て0になる\n",
    "* この状態で誤差逆伝播をやっても学習は進まない"
   ]
  },
  {
   "cell_type": "markdown",
   "metadata": {},
   "source": [
    "## 初期値が1の場合"
   ]
  },
  {
   "cell_type": "code",
   "execution_count": 4,
   "metadata": {},
   "outputs": [
    {
     "output_type": "stream",
     "name": "stdout",
     "text": [
      "X= [0 1 2 3 4]\nW1= [[1. 1. 1. 1. 1. 1. 1.]\n [1. 1. 1. 1. 1. 1. 1.]\n [1. 1. 1. 1. 1. 1. 1.]\n [1. 1. 1. 1. 1. 1. 1.]\n [1. 1. 1. 1. 1. 1. 1.]]\nW2= [[1. 1. 1. 1. 1.]\n [1. 1. 1. 1. 1.]\n [1. 1. 1. 1. 1.]\n [1. 1. 1. 1. 1.]\n [1. 1. 1. 1. 1.]\n [1. 1. 1. 1. 1.]\n [1. 1. 1. 1. 1.]]\nW3= [[1. 1. 1.]\n [1. 1. 1.]\n [1. 1. 1.]\n [1. 1. 1.]\n [1. 1. 1.]]\n"
     ]
    }
   ],
   "source": [
    "num_in = 5\n",
    "X = np.arange(num_in)\n",
    "num_node1 = 7\n",
    "W1 = np.ones((num_in, num_node1))\n",
    "num_node2 = 5\n",
    "W2 = np.ones((num_node1, num_node2))\n",
    "num_node3 = 3\n",
    "W3 = np.ones((num_node2, num_node3))\n",
    "print(\"X=\", X)\n",
    "print(\"W1=\", W1)\n",
    "print(\"W2=\", W2)\n",
    "print(\"W3=\", W3)"
   ]
  },
  {
   "cell_type": "markdown",
   "metadata": {},
   "source": [
    "### 順伝播を行う"
   ]
  },
  {
   "cell_type": "code",
   "execution_count": 5,
   "metadata": {},
   "outputs": [
    {
     "output_type": "stream",
     "name": "stdout",
     "text": [
      "h1= [10. 10. 10. 10. 10. 10. 10.]\nh2= [70. 70. 70. 70. 70.]\nh3= [350. 350. 350.]\n"
     ]
    }
   ],
   "source": [
    "h1 = np.dot(X, W1)\n",
    "h2 = np.dot(h1, W2)\n",
    "h3 = np.dot(h2, W3)\n",
    "print(\"h1=\", h1)\n",
    "print(\"h2=\", h2)\n",
    "print(\"h3=\", h3)"
   ]
  },
  {
   "cell_type": "markdown",
   "metadata": {},
   "source": [
    "* 各中間層のノードの値は同じになる。"
   ]
  },
  {
   "cell_type": "markdown",
   "metadata": {},
   "source": [
    "## 初期値が1と2の場合"
   ]
  },
  {
   "cell_type": "code",
   "execution_count": 6,
   "metadata": {},
   "outputs": [
    {
     "output_type": "stream",
     "name": "stdout",
     "text": [
      "X= [0 1 2 3 4]\nW1= [[1. 1. 1. 1. 1. 1. 1.]\n [1. 1. 1. 1. 1. 1. 1.]\n [1. 1. 2. 1. 1. 1. 1.]\n [1. 1. 1. 1. 1. 1. 1.]\n [1. 1. 1. 1. 1. 1. 1.]]\nW2= [[1. 1. 1. 1. 1.]\n [1. 1. 1. 1. 1.]\n [1. 1. 1. 1. 1.]\n [1. 1. 1. 1. 1.]\n [1. 1. 1. 1. 1.]\n [1. 1. 1. 1. 1.]\n [1. 1. 1. 1. 1.]]\nW3= [[1. 1. 1.]\n [1. 1. 1.]\n [1. 1. 1.]\n [1. 1. 1.]\n [1. 1. 1.]]\n"
     ]
    }
   ],
   "source": [
    "num_in = 5\n",
    "X = np.arange(num_in)\n",
    "num_node1 = 7\n",
    "W1 = np.ones((num_in, num_node1))\n",
    "\n",
    "# 1箇所だけ重みの初期値を2にする\n",
    "W1[2,2] = 2.0\n",
    "\n",
    "num_node2 = 5\n",
    "W2 = np.ones((num_node1, num_node2))\n",
    "num_node3 = 3\n",
    "W3 = np.ones((num_node2, num_node3))\n",
    "print(\"X=\", X)\n",
    "print(\"W1=\", W1)\n",
    "print(\"W2=\", W2)\n",
    "print(\"W3=\", W3)"
   ]
  },
  {
   "cell_type": "code",
   "execution_count": 7,
   "metadata": {},
   "outputs": [
    {
     "output_type": "stream",
     "name": "stdout",
     "text": [
      "h1= [10. 10. 12. 10. 10. 10. 10.]\nh2= [72. 72. 72. 72. 72.]\nh3= [360. 360. 360.]\n"
     ]
    }
   ],
   "source": [
    "h1 = np.dot(X, W1)\n",
    "h2 = np.dot(h1, W2)\n",
    "h3 = np.dot(h2, W3)\n",
    "print(\"h1=\", h1)\n",
    "print(\"h2=\", h2)\n",
    "print(\"h3=\", h3)"
   ]
  },
  {
   "cell_type": "markdown",
   "metadata": {},
   "source": [
    "* 2つ目の中間層以降は同じ値になる。"
   ]
  },
  {
   "cell_type": "markdown",
   "metadata": {},
   "source": [
    "### [演習]\n",
    "* W1,W2,W3の初期値を3に変更してみましょう\n",
    "* W1,W2,W3の初期値を-3に変更してみましょう"
   ]
  },
  {
   "cell_type": "code",
   "execution_count": 10,
   "metadata": {},
   "outputs": [
    {
     "output_type": "stream",
     "name": "stdout",
     "text": [
      "X= [0 1 2 3 4]\nW1= [[-3. -3. -3. -3. -3. -3. -3.]\n [-3. -3. -3. -3. -3. -3. -3.]\n [-3. -3. -3. -3. -3. -3. -3.]\n [-3. -3. -3. -3. -3. -3. -3.]\n [-3. -3. -3. -3. -3. -3. -3.]]\nW2= [[-3. -3. -3. -3. -3.]\n [-3. -3. -3. -3. -3.]\n [-3. -3. -3. -3. -3.]\n [-3. -3. -3. -3. -3.]\n [-3. -3. -3. -3. -3.]\n [-3. -3. -3. -3. -3.]\n [-3. -3. -3. -3. -3.]]\nW3= [[-3. -3. -3.]\n [-3. -3. -3.]\n [-3. -3. -3.]\n [-3. -3. -3.]\n [-3. -3. -3.]]\nh1= [-30. -30. -30. -30. -30. -30. -30.]\nh2= [630. 630. 630. 630. 630.]\nh3= [-9450. -9450. -9450.]\n"
     ]
    }
   ],
   "source": [
    "num_in = 5\n",
    "X = np.arange(num_in)\n",
    "num_node1 = 7\n",
    "W1 = np.ones((num_in, num_node1))*(-3)\n",
    "\n",
    "num_node2 = 5\n",
    "W2 = np.ones((num_node1, num_node2))*(-3)\n",
    "num_node3 = 3\n",
    "W3 = np.ones((num_node2, num_node3))*(-3)\n",
    "print(\"X=\", X)\n",
    "print(\"W1=\", W1)\n",
    "print(\"W2=\", W2)\n",
    "print(\"W3=\", W3)\n",
    "h1 = np.dot(X, W1)\n",
    "h2 = np.dot(h1, W2)\n",
    "h3 = np.dot(h2, W3)\n",
    "print(\"h1=\", h1)\n",
    "print(\"h2=\", h2)\n",
    "print(\"h3=\", h3)"
   ]
  },
  {
   "cell_type": "markdown",
   "metadata": {},
   "source": [
    "### [ポイント]\n",
    "* ノードを沢山設定することの意義は、それぞれのノードに別々の役割を担わせることができること。これにより、複雑な関係性を表現することができる。\n",
    "* もし、ノードの出力値が同じになるのであれば、それは、ノードを1つだけ配置していることと同じ意味になる。\n",
    "* つまり、初期値がバラけることによって、ノードを沢山設定する意味が出てくる。\n",
    "* では、初期値をバラけさせるにはどうすればいいか？"
   ]
  },
  {
   "cell_type": "code",
   "execution_count": null,
   "metadata": {},
   "outputs": [],
   "source": []
  }
 ],
 "metadata": {
  "kernelspec": {
   "display_name": "Python 3",
   "language": "python",
   "name": "python3"
  },
  "language_info": {
   "codemirror_mode": {
    "name": "ipython",
    "version": 3
   },
   "file_extension": ".py",
   "mimetype": "text/x-python",
   "name": "python",
   "nbconvert_exporter": "python",
   "pygments_lexer": "ipython3",
   "version": "3.7.3-final"
  }
 },
 "nbformat": 4,
 "nbformat_minor": 2
}