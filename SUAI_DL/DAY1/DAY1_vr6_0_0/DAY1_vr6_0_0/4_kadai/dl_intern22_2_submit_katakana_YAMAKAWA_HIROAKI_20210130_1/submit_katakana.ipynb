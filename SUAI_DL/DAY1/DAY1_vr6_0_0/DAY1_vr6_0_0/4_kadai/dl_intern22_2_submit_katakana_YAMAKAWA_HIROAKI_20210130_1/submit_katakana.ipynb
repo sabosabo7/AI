{
 "cells": [
  {
   "cell_type": "markdown",
   "metadata": {},
   "source": [
    "# カタカナ15文字を自動識別するモデルの構築\n",
    "# 課題投稿用Notebook\n",
    "* これは課題投稿用ファイルです。\n",
    "* このsubmit_katakana.ipynbファイルを編集し、学習済みモデルなどの必要ファイルを同じフォルダにおき、そのフォルダをzipしたものを投稿してください。"
   ]
  },
  {
   "cell_type": "code",
   "execution_count": 1,
   "metadata": {
    "scrolled": true
   },
   "outputs": [
    {
     "output_type": "stream",
     "name": "stdout",
     "text": [
      "0\n"
     ]
    },
    {
     "output_type": "error",
     "ename": "FileNotFoundError",
     "evalue": "[Errno 2] No such file or directory: 'katakana_model_d50_ep6_w.pickle'",
     "traceback": [
      "\u001b[1;31m---------------------------------------------------------------------------\u001b[0m",
      "\u001b[1;31mFileNotFoundError\u001b[0m                         Traceback (most recent call last)",
      "\u001b[1;32m<ipython-input-1-084654e7878f>\u001b[0m in \u001b[0;36m<module>\u001b[1;34m\u001b[0m\n\u001b[0;32m     63\u001b[0m \u001b[1;33m\u001b[0m\u001b[0m\n\u001b[0;32m     64\u001b[0m \u001b[1;32mif\u001b[0m \u001b[0m__name__\u001b[0m\u001b[1;33m==\u001b[0m\u001b[1;34m\"__main__\"\u001b[0m\u001b[1;33m:\u001b[0m\u001b[1;33m\u001b[0m\u001b[1;33m\u001b[0m\u001b[0m\n\u001b[1;32m---> 65\u001b[1;33m     \u001b[0mmain\u001b[0m\u001b[1;33m(\u001b[0m\u001b[1;33m)\u001b[0m\u001b[1;33m\u001b[0m\u001b[1;33m\u001b[0m\u001b[0m\n\u001b[0m",
      "\u001b[1;32m<ipython-input-1-084654e7878f>\u001b[0m in \u001b[0;36mmain\u001b[1;34m()\u001b[0m\n\u001b[0;32m     57\u001b[0m \u001b[1;33m\u001b[0m\u001b[0m\n\u001b[0;32m     58\u001b[0m     \u001b[1;31m# 予測し精度を算出する\u001b[0m\u001b[1;33m\u001b[0m\u001b[1;33m\u001b[0m\u001b[1;33m\u001b[0m\u001b[0m\n\u001b[1;32m---> 59\u001b[1;33m     \u001b[0mutil\u001b[0m\u001b[1;33m.\u001b[0m\u001b[0maccuracy\u001b[0m\u001b[1;33m(\u001b[0m\u001b[0mfunc_predict\u001b[0m\u001b[1;33m,\u001b[0m \u001b[0mtest_data\u001b[0m\u001b[1;33m)\u001b[0m\u001b[1;33m\u001b[0m\u001b[1;33m\u001b[0m\u001b[0m\n\u001b[0m\u001b[0;32m     60\u001b[0m \u001b[1;33m\u001b[0m\u001b[0m\n\u001b[0;32m     61\u001b[0m     \u001b[1;32mreturn\u001b[0m\u001b[1;33m\u001b[0m\u001b[1;33m\u001b[0m\u001b[0m\n",
      "\u001b[1;32mc:\\Users\\sabosabo\\Documents\\prog\\SUAI_DL\\DAY1\\DAY1_vr6_0_0\\DAY1_vr6_0_0\\4_kadai\\2_notebook\\util.py\u001b[0m in \u001b[0;36maccuracy\u001b[1;34m(func_predict, test_data)\u001b[0m\n\u001b[0;32m     54\u001b[0m         \u001b[0mdata\u001b[0m \u001b[1;33m=\u001b[0m \u001b[0mtest_data\u001b[0m\u001b[1;33m[\u001b[0m\u001b[0mmask\u001b[0m\u001b[1;33m]\u001b[0m\u001b[1;33m\u001b[0m\u001b[1;33m\u001b[0m\u001b[0m\n\u001b[0;32m     55\u001b[0m         \u001b[0mlabel\u001b[0m \u001b[1;33m=\u001b[0m \u001b[0mtest_label\u001b[0m\u001b[1;33m[\u001b[0m\u001b[0mmask\u001b[0m\u001b[1;33m]\u001b[0m\u001b[1;33m\u001b[0m\u001b[1;33m\u001b[0m\u001b[0m\n\u001b[1;32m---> 56\u001b[1;33m         \u001b[0mloss\u001b[0m\u001b[1;33m,\u001b[0m \u001b[0maccuracy\u001b[0m  \u001b[1;33m=\u001b[0m \u001b[0mfunc_predict\u001b[0m\u001b[1;33m(\u001b[0m\u001b[0mdata\u001b[0m\u001b[1;33m,\u001b[0m \u001b[0mlabel\u001b[0m\u001b[1;33m)\u001b[0m\u001b[1;33m\u001b[0m\u001b[1;33m\u001b[0m\u001b[0m\n\u001b[0m\u001b[0;32m     57\u001b[0m         \u001b[0mprint\u001b[0m\u001b[1;33m(\u001b[0m\u001b[0mloss\u001b[0m\u001b[1;33m,\u001b[0m \u001b[0maccuracy\u001b[0m\u001b[1;33m)\u001b[0m\u001b[1;33m\u001b[0m\u001b[1;33m\u001b[0m\u001b[0m\n\u001b[0;32m     58\u001b[0m \u001b[1;33m\u001b[0m\u001b[0m\n",
      "\u001b[1;32m<ipython-input-1-084654e7878f>\u001b[0m in \u001b[0;36mfunc_predict\u001b[1;34m(test_data, test_label)\u001b[0m\n\u001b[0;32m     37\u001b[0m \u001b[1;33m\u001b[0m\u001b[0m\n\u001b[0;32m     38\u001b[0m     \u001b[1;31m# 以下を自由に編集してください\u001b[0m\u001b[1;33m\u001b[0m\u001b[1;33m\u001b[0m\u001b[1;33m\u001b[0m\u001b[0m\n\u001b[1;32m---> 39\u001b[1;33m     \u001b[1;32mwith\u001b[0m \u001b[0mopen\u001b[0m\u001b[1;33m(\u001b[0m\u001b[1;34m\"katakana_model_d50_ep6_w.pickle\"\u001b[0m\u001b[1;33m,\u001b[0m \u001b[1;34m\"rb\"\u001b[0m\u001b[1;33m)\u001b[0m \u001b[1;32mas\u001b[0m \u001b[0mf\u001b[0m\u001b[1;33m:\u001b[0m\u001b[1;33m\u001b[0m\u001b[1;33m\u001b[0m\u001b[0m\n\u001b[0m\u001b[0;32m     40\u001b[0m         \u001b[0mw\u001b[0m \u001b[1;33m=\u001b[0m \u001b[0mpickle\u001b[0m\u001b[1;33m.\u001b[0m\u001b[0mload\u001b[0m\u001b[1;33m(\u001b[0m\u001b[0mf\u001b[0m\u001b[1;33m)\u001b[0m\u001b[1;33m\u001b[0m\u001b[1;33m\u001b[0m\u001b[0m\n\u001b[0;32m     41\u001b[0m     \u001b[1;32mwith\u001b[0m \u001b[0mopen\u001b[0m\u001b[1;33m(\u001b[0m\u001b[1;34m\"katakana_model_d50_ep6_c.pickle\"\u001b[0m\u001b[1;33m,\u001b[0m \u001b[1;34m\"rb\"\u001b[0m\u001b[1;33m)\u001b[0m \u001b[1;32mas\u001b[0m \u001b[0mf\u001b[0m\u001b[1;33m:\u001b[0m\u001b[1;33m\u001b[0m\u001b[1;33m\u001b[0m\u001b[0m\n",
      "\u001b[1;31mFileNotFoundError\u001b[0m: [Errno 2] No such file or directory: 'katakana_model_d50_ep6_w.pickle'"
     ]
    }
   ],
   "source": [
    "import numpy as np\n",
    "import glob\n",
    "import os,sys\n",
    "import util\n",
    "import pickle\n",
    "from model import TwoConvNet\n",
    "\n",
    "def makedataset():\n",
    "    \"\"\"\n",
    "    データセットをつくる関数です。\n",
    "    自由に編集してください。\n",
    "    \"\"\"\n",
    "    \n",
    "    # 次の行は変更しないこと\n",
    "    test_data= util.loaddata()\n",
    "    \n",
    "    # 以下は自由に編集しても構いません\n",
    "    # 必要な前処理をここに記述してください  \n",
    "    \n",
    "    # 正規化\n",
    "    test_data = test_data / test_data.max()\n",
    "    test_data = test_data.astype('float32')\n",
    "\n",
    "    # 配列形式変更\n",
    "    test_data = test_data.reshape(-1, 1,28,28)\n",
    "\n",
    "    return test_data\n",
    "\n",
    "\n",
    "def func_predict(test_data, test_label):\n",
    "    \"\"\"\n",
    "    予測する関数\n",
    "    data : 画像データ\n",
    "    return loss, accuracy\n",
    "    引数とreturn以外は、自由に編集してください    \n",
    "    \"\"\"\n",
    "    \n",
    "    # 以下を自由に編集してください\n",
    "    with open(\"katakana_modeltwo_d50_ep6_w.pickle\", \"rb\") as f:\n",
    "        w = pickle.load(f)\n",
    "    with open(\"katakana_modeltwo_d50_ep6_c.pickle\", \"rb\") as f:\n",
    "        c = pickle.load(f)\n",
    "\n",
    "    model= TwoConvNet(param=w,const=c,output_size=15)\n",
    "    accuracy = model.accuracy(test_data, test_label)\n",
    "    loss  = model.loss(test_data, test_label,train_flg=False)\n",
    "    \n",
    "    return loss, accuracy # 編集不可\n",
    "\n",
    "\n",
    "def main():\n",
    "    \"\"\"\n",
    "    編集しないでください。\n",
    "    \"\"\"\n",
    "    # テスト用データをつくる\n",
    "    test_data = makedataset()\n",
    "\n",
    "    # 予測し精度を算出する\n",
    "    util.accuracy(func_predict, test_data)\n",
    "    \n",
    "    return\n",
    "\n",
    "\n",
    "if __name__==\"__main__\":\n",
    "    main()"
   ]
  },
  {
   "cell_type": "code",
   "execution_count": null,
   "metadata": {},
   "outputs": [],
   "source": []
  }
 ],
 "metadata": {
  "kernelspec": {
   "display_name": "Python 3",
   "language": "python",
   "name": "python3"
  },
  "language_info": {
   "codemirror_mode": {
    "name": "ipython",
    "version": 3
   },
   "file_extension": ".py",
   "mimetype": "text/x-python",
   "name": "python",
   "nbconvert_exporter": "python",
   "pygments_lexer": "ipython3",
   "version": "3.7.3-final"
  }
 },
 "nbformat": 4,
 "nbformat_minor": 2
}