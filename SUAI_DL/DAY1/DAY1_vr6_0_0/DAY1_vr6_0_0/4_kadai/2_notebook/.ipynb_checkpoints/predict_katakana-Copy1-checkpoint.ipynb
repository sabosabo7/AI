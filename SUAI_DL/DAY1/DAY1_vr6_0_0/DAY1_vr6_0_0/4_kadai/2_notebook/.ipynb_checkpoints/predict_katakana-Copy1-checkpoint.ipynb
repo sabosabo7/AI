{
 "cells": [
  {
   "cell_type": "markdown",
   "metadata": {},
   "source": [
    "# 課題提出用フォーマット"
   ]
  },
  {
   "cell_type": "code",
   "execution_count": 6,
   "metadata": {},
   "outputs": [],
   "source": [
    "\"\"\"\n",
    "ここを編集し、.pyファイルにして、学習済みモデルなどと一緒に提出\n",
    "\"\"\"\n",
    "\n",
    "import numpy as np\n",
    "import pandas as pd\n",
    "import keras\n",
    "import os, sys\n",
    "\n",
    "from PIL import Image\n",
    "import numpy as np\n",
    "import matplotlib.pyplot as plt\n",
    "from IPython.display import display\n",
    "import glob\n",
    "import os,sys\n",
    "# from sklearn.preprocessing import OneHotEncoder\n",
    "# from sklearn.preprocessing import LabelEncoder\n",
    "from sklearn.preprocessing import LabelBinarizer\n",
    "\n",
    "\n",
    "dic_katakana = {\"a\":0,\"i\":1,\"u\":2,\"e\":3,\"o\":4}\n",
    "pixel = 28\n",
    "\n",
    "# trainデータのファイルパスを取得\n",
    "li_fpath = glob.glob(\"../1_data/test/*/*.png\")\n",
    "li_fpath[:10]\n",
    "\n",
    "\n",
    "# numpy形式に変換\n",
    "num_image = len(li_fpath)\n",
    "channel = 1 # グレースケール\n",
    "test_data = np.empty((num_image, channel, pixel, pixel))\n",
    "test_label = []\n",
    "\n",
    "for i, fpath in enumerate(li_fpath):\n",
    "    \n",
    "    label_str = os.path.split(fpath)[1].split(\"_\")[0]\n",
    "    label_int = dic_katakana[label_str]\n",
    "    test_label.append(label_int)\n",
    "    \n",
    "    img_ = Image.open(fpath)\n",
    "    img_ = np.array(img_).astype(np.float32)\n",
    "    test_data[i, 0, :] = img_\n",
    "    \n",
    "print(\"test_data.shape=\", test_data.shape)\n",
    "print()\n",
    "\n",
    "# 正規化\n",
    "test_data = test_data / test_data.max()\n",
    "test_data = test_data.astype('float32')\n",
    "print(test_data)\n",
    "print()\n",
    "\n",
    "# one hotベクトル化\n",
    "lb = LabelBinarizer()\n",
    "test_label =lb.fit_transform(test_label).astype('int32')\n",
    "print(test_label)\n",
    "\n",
    "\n",
    "\n",
    "\n",
    "def main(dirpath):\n",
    "    \n",
    "    ## データを読む\n",
    "    test_data = np.load(os.path.join(dirpath, \"test_data.npy\"))\n",
    "    test_label = np.load(os.path.join(dirpath, \"test_label.npy\"))\n",
    "    print(\"test_data.shape=\", test_data.shape)\n",
    "    print(\"test_label.shape=\", test_label.shape)\n",
    "\n",
    "    ## 学習結果を読む\n",
    "    model = keras.models.load_model(\"katakana_model\")\n",
    "\n",
    "    ## 予測\n",
    "    score = model.evaluate(test_data, test_label, verbose=0)\n",
    "    print('Test loss:', score[0])\n",
    "    print('Test accuracy:', score[1])\n",
    "\n",
    "    return"
   ]
  },
  {
   "cell_type": "code",
   "execution_count": 8,
   "metadata": {},
   "outputs": [
    {
     "name": "stderr",
     "output_type": "stream",
     "text": [
      "usage: Exercises for DL\n",
      "predictKatakana: error: unrecognized arguments: -f /Users/ogata/Library/Jupyter/runtime/kernel-d778c083-321b-4a35-b815-48f56969e6a9.json\n"
     ]
    },
    {
     "ename": "SystemExit",
     "evalue": "2",
     "output_type": "error",
     "traceback": [
      "An exception has occurred, use %tb to see the full traceback.\n",
      "\u001b[0;31mSystemExit\u001b[0m\u001b[0;31m:\u001b[0m 2\n"
     ]
    },
    {
     "name": "stderr",
     "output_type": "stream",
     "text": [
      "/Users/ogata/.pyenv/versions/anaconda3-5.1.0/lib/python3.6/site-packages/IPython/core/interactiveshell.py:2918: UserWarning: To exit: use 'exit', 'quit', or Ctrl-D.\n",
      "  warn(\"To exit: use 'exit', 'quit', or Ctrl-D.\", stacklevel=1)\n"
     ]
    }
   ],
   "source": [
    "if __name__==\"__main__\":\n",
    "\n",
    "    \"\"\"\n",
    "    これ以下は変更しないこと\n",
    "    \"\"\"\n",
    "    \n",
    "    import argparse\n",
    "    parser = argparse.ArgumentParser(\n",
    "                prog='predictKatakana',\n",
    "                usage='Exercises for DL',\n",
    "                description='description',\n",
    "                epilog='end',\n",
    "                add_help=True, # -h/–help オプションの追加\n",
    "                )\n",
    "\n",
    "    parser.add_argument('-d', '--dirpath', help='directory path', action='store', required=True)\n",
    "    args = parser.parse_args()\n",
    "    main(dirpath=args.dirpath)"
   ]
  },
  {
   "cell_type": "code",
   "execution_count": null,
   "metadata": {},
   "outputs": [],
   "source": []
  }
 ],
 "metadata": {
  "kernelspec": {
   "display_name": "Python 3",
   "language": "python",
   "name": "python3"
  },
  "language_info": {
   "codemirror_mode": {
    "name": "ipython",
    "version": 3
   },
   "file_extension": ".py",
   "mimetype": "text/x-python",
   "name": "python",
   "nbconvert_exporter": "python",
   "pygments_lexer": "ipython3",
   "version": "3.6.4"
  }
 },
 "nbformat": 4,
 "nbformat_minor": 2
}
