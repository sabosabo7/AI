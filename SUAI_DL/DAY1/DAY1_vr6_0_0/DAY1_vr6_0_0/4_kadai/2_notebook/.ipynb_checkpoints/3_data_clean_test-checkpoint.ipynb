{
 "cells": [
  {
   "cell_type": "markdown",
   "metadata": {},
   "source": [
    "# カタカナデータの前処理"
   ]
  },
  {
   "cell_type": "code",
   "execution_count": 1,
   "metadata": {
    "ExecuteTime": {
     "end_time": "2018-03-30T05:44:34.738010Z",
     "start_time": "2018-03-30T05:44:33.614086Z"
    },
    "scrolled": true
   },
   "outputs": [],
   "source": [
    "from PIL import Image\n",
    "import numpy as np\n",
    "import matplotlib.pyplot as plt\n",
    "from IPython.display import display\n",
    "import glob\n",
    "import os,sys\n",
    "# from sklearn.preprocessing import OneHotEncoder\n",
    "# from sklearn.preprocessing import LabelEncoder\n",
    "from sklearn.preprocessing import LabelBinarizer\n",
    "\n",
    "\n",
    "dic_katakana = {\"a\":0,\"i\":1,\"u\":2,\"e\":3,\"o\":4}\n",
    "pixel = 28"
   ]
  },
  {
   "cell_type": "markdown",
   "metadata": {},
   "source": [
    "## 元画像を表示させる\n",
    "元画像は、28ピクセル*28ピクセルのサイズで、0か255の2値画像。"
   ]
  },
  {
   "cell_type": "code",
   "execution_count": 3,
   "metadata": {
    "scrolled": false
   },
   "outputs": [
    {
     "data": {
      "image/png": "[encoded data removed]",
      "text/plain": [
       "<PIL.PngImagePlugin.PngImageFile image mode=L size=28x28 at 0x1A1557EC50>"
      ]
     },
     "metadata": {},
     "output_type": "display_data"
    },
    {
     "data": {
      "image/png": "[encoded data removed]",
      "text/plain": [
       "<PIL.PngImagePlugin.PngImageFile image mode=L size=28x28 at 0x1A1568EBE0>"
      ]
     },
     "metadata": {},
     "output_type": "display_data"
    },
    {
     "data": {
      "image/png": "[encoded data removed]",
      "text/plain": [
       "<PIL.PngImagePlugin.PngImageFile image mode=L size=28x28 at 0x1A1557EC88>"
      ]
     },
     "metadata": {},
     "output_type": "display_data"
    },
    {
     "data": {
      "image/png": "[encoded data removed]",
      "text/plain": [
       "<PIL.PngImagePlugin.PngImageFile image mode=L size=28x28 at 0x1A1568EBE0>"
      ]
     },
     "metadata": {},
     "output_type": "display_data"
    },
    {
     "data": {
      "image/png": "[encoded data removed]",
      "text/plain": [
       "<PIL.PngImagePlugin.PngImageFile image mode=L size=28x28 at 0x1A1557ECF8>"
      ]
     },
     "metadata": {},
     "output_type": "display_data"
    }
   ],
   "source": [
    "id_ = 200\n",
    "for katakana in dic_katakana.keys():\n",
    "    img_ = Image.open(\"../1_data/test/%s/%s_%s.png\"%(katakana,katakana, id_))\n",
    "    display(img_)"
   ]
  },
  {
   "cell_type": "markdown",
   "metadata": {},
   "source": [
    "## 元画像をnumpy形式に変換"
   ]
  },
  {
   "cell_type": "code",
   "execution_count": 4,
   "metadata": {},
   "outputs": [
    {
     "data": {
      "text/plain": [
       "['../1_data/test/u/u_1398.png',\n",
       " '../1_data/test/u/u_588.png',\n",
       " '../1_data/test/u/u_205.png',\n",
       " '../1_data/test/u/u_1429.png',\n",
       " '../1_data/test/u/u_563.png',\n",
       " '../1_data/test/u/u_577.png',\n",
       " '../1_data/test/u/u_211.png',\n",
       " '../1_data/test/u/u_1373.png',\n",
       " '../1_data/test/u/u_239.png',\n",
       " '../1_data/test/u/u_1415.png']"
      ]
     },
     "execution_count": 4,
     "metadata": {},
     "output_type": "execute_result"
    }
   ],
   "source": [
    "# trainデータのファイルパスを取得\n",
    "li_fpath = glob.glob(\"../1_data/test/*/*.png\")\n",
    "li_fpath[:10]"
   ]
  },
  {
   "cell_type": "code",
   "execution_count": 5,
   "metadata": {},
   "outputs": [
    {
     "name": "stdout",
     "output_type": "stream",
     "text": [
      "test_data.shape= (6500, 1, 28, 28)\n",
      "\n",
      "[[[[1.         1.         1.         ... 1.         1.\n",
      "    1.        ]\n",
      "   [1.         1.         1.         ... 1.         1.\n",
      "    1.        ]\n",
      "   [1.         1.         1.         ... 1.         1.\n",
      "    1.        ]\n",
      "   ...\n",
      "   [1.         1.         1.         ... 1.         1.\n",
      "    1.        ]\n",
      "   [1.         1.         1.         ... 1.         1.\n",
      "    1.        ]\n",
      "   [1.         1.         1.         ... 1.         1.\n",
      "    1.        ]]]\n",
      "\n",
      "\n",
      " [[[1.         1.         1.         ... 1.         1.\n",
      "    1.        ]\n",
      "   [1.         1.         1.         ... 1.         1.\n",
      "    1.        ]\n",
      "   [1.         1.         1.         ... 1.         1.\n",
      "    1.        ]\n",
      "   ...\n",
      "   [1.         1.         1.         ... 1.         1.\n",
      "    1.        ]\n",
      "   [1.         1.         1.         ... 1.         1.\n",
      "    1.        ]\n",
      "   [1.         1.         1.         ... 1.         1.\n",
      "    1.        ]]]\n",
      "\n",
      "\n",
      " [[[1.         1.         1.         ... 1.         1.\n",
      "    1.        ]\n",
      "   [1.         1.         1.         ... 1.         1.\n",
      "    1.        ]\n",
      "   [1.         1.         1.         ... 1.         1.\n",
      "    1.        ]\n",
      "   ...\n",
      "   [1.         1.         1.         ... 1.         1.\n",
      "    1.        ]\n",
      "   [1.         1.         1.         ... 1.         1.\n",
      "    1.        ]\n",
      "   [1.         1.         1.         ... 1.         1.\n",
      "    1.        ]]]\n",
      "\n",
      "\n",
      " ...\n",
      "\n",
      "\n",
      " [[[1.         1.         1.         ... 1.         1.\n",
      "    1.        ]\n",
      "   [0.9529412  0.85882354 0.8862745  ... 1.         1.\n",
      "    1.        ]\n",
      "   [0.33333334 0.         0.         ... 1.         1.\n",
      "    1.        ]\n",
      "   ...\n",
      "   [1.         1.         1.         ... 0.         0.\n",
      "    0.1764706 ]\n",
      "   [1.         1.         1.         ... 0.20392157 0.5058824\n",
      "    0.99215686]\n",
      "   [1.         1.         1.         ... 1.         1.\n",
      "    1.        ]]]\n",
      "\n",
      "\n",
      " [[[1.         1.         1.         ... 1.         1.\n",
      "    1.        ]\n",
      "   [0.7137255  0.         0.         ... 1.         1.\n",
      "    1.        ]\n",
      "   [0.         0.         0.         ... 1.         1.\n",
      "    1.        ]\n",
      "   ...\n",
      "   [1.         1.         1.         ... 0.         0.\n",
      "    0.07058824]\n",
      "   [1.         1.         1.         ... 0.         0.\n",
      "    0.00784314]\n",
      "   [1.         1.         1.         ... 0.         0.38431373\n",
      "    0.92156863]]]\n",
      "\n",
      "\n",
      " [[[0.6117647  0.         0.         ... 1.         1.\n",
      "    1.        ]\n",
      "   [0.20392157 0.         0.         ... 1.         1.\n",
      "    1.        ]\n",
      "   [0.30980393 0.         0.         ... 1.         1.\n",
      "    1.        ]\n",
      "   ...\n",
      "   [0.6862745  0.         0.         ... 0.         0.\n",
      "    0.        ]\n",
      "   [1.         0.         0.         ... 0.15294118 0.69411767\n",
      "    1.        ]\n",
      "   [1.         0.73333335 0.18039216 ... 1.         1.\n",
      "    1.        ]]]]\n",
      "\n",
      "[[0 0 1 0 0]\n",
      " [0 0 1 0 0]\n",
      " [0 0 1 0 0]\n",
      " ...\n",
      " [0 0 0 1 0]\n",
      " [0 0 0 1 0]\n",
      " [0 0 0 1 0]]\n"
     ]
    }
   ],
   "source": [
    "# numpy形式に変換\n",
    "num_image = len(li_fpath)\n",
    "channel = 1 # グレースケール\n",
    "test_data = np.empty((num_image, channel, pixel, pixel))\n",
    "test_label = []\n",
    "\n",
    "for i, fpath in enumerate(li_fpath):\n",
    "    \n",
    "    label_str = os.path.split(fpath)[1].split(\"_\")[0]\n",
    "    label_int = dic_katakana[label_str]\n",
    "    test_label.append(label_int)\n",
    "    \n",
    "    img_ = Image.open(fpath)\n",
    "    img_ = np.array(img_).astype(np.float32)\n",
    "    test_data[i, 0, :] = img_\n",
    "    \n",
    "print(\"test_data.shape=\", test_data.shape)\n",
    "print()\n",
    "\n",
    "# 正規化\n",
    "test_data = test_data / test_data.max()\n",
    "test_data = test_data.astype('float32')\n",
    "print(test_data)\n",
    "print()\n",
    "\n",
    "# one hotベクトル化\n",
    "lb = LabelBinarizer()\n",
    "test_label =lb.fit_transform(test_label).astype('int32')\n",
    "print(test_label)\n"
   ]
  },
  {
   "cell_type": "markdown",
   "metadata": {},
   "source": [
    "## 出力"
   ]
  },
  {
   "cell_type": "code",
   "execution_count": 6,
   "metadata": {},
   "outputs": [],
   "source": [
    "np.save(\"../1_data/test_data.npy\", test_data)\n",
    "np.save(\"../1_data/test_label.npy\", test_label)"
   ]
  },
  {
   "cell_type": "code",
   "execution_count": null,
   "metadata": {},
   "outputs": [],
   "source": []
  }
 ],
 "metadata": {
  "anaconda-cloud": {},
  "kernelspec": {
   "display_name": "Python 3",
   "language": "python",
   "name": "python3"
  },
  "language_info": {
   "codemirror_mode": {
    "name": "ipython",
    "version": 3
   },
   "file_extension": ".py",
   "mimetype": "text/x-python",
   "name": "python",
   "nbconvert_exporter": "python",
   "pygments_lexer": "ipython3",
   "version": "3.6.4"
  }
 },
 "nbformat": 4,
 "nbformat_minor": 1
}
