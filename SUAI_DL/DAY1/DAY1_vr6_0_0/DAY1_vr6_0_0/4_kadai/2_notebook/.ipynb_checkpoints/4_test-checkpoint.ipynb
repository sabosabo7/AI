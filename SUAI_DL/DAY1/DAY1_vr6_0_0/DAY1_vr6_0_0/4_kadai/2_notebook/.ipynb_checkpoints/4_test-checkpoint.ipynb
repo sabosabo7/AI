{
 "cells": [
  {
   "cell_type": "markdown",
   "metadata": {},
   "source": [
    "# カタカナ文字認識のテストサンプル"
   ]
  },
  {
   "cell_type": "code",
   "execution_count": 6,
   "metadata": {},
   "outputs": [],
   "source": [
    "import numpy as np\n",
    "import pandas as pd\n",
    "import keras"
   ]
  },
  {
   "cell_type": "markdown",
   "metadata": {},
   "source": [
    "## データを読む"
   ]
  },
  {
   "cell_type": "code",
   "execution_count": 7,
   "metadata": {},
   "outputs": [
    {
     "name": "stdout",
     "output_type": "stream",
     "text": [
      "test_data.shape= (14500, 1, 28, 28)\n",
      "test_label.shape= (14500, 15)\n"
     ]
    }
   ],
   "source": [
    "test_data = np.load(\"../1_data/test_data.npy\")\n",
    "test_label = np.load(\"../1_data/test_label.npy\")\n",
    "print(\"test_data.shape=\", test_data.shape)\n",
    "print(\"test_label.shape=\", test_label.shape)"
   ]
  },
  {
   "cell_type": "code",
   "execution_count": 8,
   "metadata": {},
   "outputs": [
    {
     "name": "stdout",
     "output_type": "stream",
     "text": [
      "[[[[0.99607843 1.         0.4862745  ... 0.99607843 0.99607843\n",
      "    0.99607843]\n",
      "   [0.99607843 1.         1.         ... 0.99607843 0.99607843\n",
      "    0.99607843]\n",
      "   [0.99607843 0.99607843 1.         ... 0.99607843 0.99607843\n",
      "    0.99607843]\n",
      "   ...\n",
      "   [0.99607843 0.99607843 0.99215686 ... 0.99215686 0.99215686\n",
      "    0.99215686]\n",
      "   [0.99607843 0.99607843 0.99215686 ... 0.99607843 0.99607843\n",
      "    0.99607843]\n",
      "   [0.99607843 0.99607843 0.99215686 ... 0.99607843 0.99607843\n",
      "    0.99607843]]]\n",
      "\n",
      "\n",
      " [[[0.99607843 0.99607843 0.99607843 ... 0.99607843 0.99607843\n",
      "    0.99607843]\n",
      "   [0.99607843 0.99607843 0.99607843 ... 0.99607843 0.99607843\n",
      "    0.99607843]\n",
      "   [0.99607843 0.99607843 0.99607843 ... 0.99607843 0.99607843\n",
      "    0.99607843]\n",
      "   ...\n",
      "   [0.99607843 0.99607843 0.99607843 ... 0.0627451  1.\n",
      "    1.        ]\n",
      "   [0.99607843 0.99607843 0.99607843 ... 0.99215686 1.\n",
      "    0.99215686]\n",
      "   [0.99607843 0.99607843 0.99607843 ... 1.         0.99607843\n",
      "    0.99607843]]]\n",
      "\n",
      "\n",
      " [[[0.99607843 0.99607843 0.99607843 ... 0.99607843 0.99607843\n",
      "    0.99607843]\n",
      "   [0.99607843 0.99607843 0.99607843 ... 0.99607843 0.99607843\n",
      "    0.99607843]\n",
      "   [0.99607843 0.99607843 0.99607843 ... 0.99607843 0.99607843\n",
      "    0.99607843]\n",
      "   ...\n",
      "   [0.99607843 0.99607843 0.99607843 ... 1.         1.\n",
      "    0.98039216]\n",
      "   [0.99607843 0.99607843 0.99607843 ... 0.6745098  0.99607843\n",
      "    0.99215686]\n",
      "   [0.99607843 0.99607843 0.99607843 ... 1.         1.\n",
      "    0.99607843]]]\n",
      "\n",
      "\n",
      " ...\n",
      "\n",
      "\n",
      " [[[1.         1.         1.         ... 1.         1.\n",
      "    1.        ]\n",
      "   [0.9529412  0.85882354 0.8862745  ... 1.         1.\n",
      "    1.        ]\n",
      "   [0.33333334 0.         0.         ... 1.         1.\n",
      "    1.        ]\n",
      "   ...\n",
      "   [1.         1.         1.         ... 0.         0.\n",
      "    0.1764706 ]\n",
      "   [1.         1.         1.         ... 0.20392157 0.5058824\n",
      "    0.99215686]\n",
      "   [1.         1.         1.         ... 1.         1.\n",
      "    1.        ]]]\n",
      "\n",
      "\n",
      " [[[1.         1.         1.         ... 1.         1.\n",
      "    1.        ]\n",
      "   [0.7137255  0.         0.         ... 1.         1.\n",
      "    1.        ]\n",
      "   [0.         0.         0.         ... 1.         1.\n",
      "    1.        ]\n",
      "   ...\n",
      "   [1.         1.         1.         ... 0.         0.\n",
      "    0.07058824]\n",
      "   [1.         1.         1.         ... 0.         0.\n",
      "    0.00784314]\n",
      "   [1.         1.         1.         ... 0.         0.38431373\n",
      "    0.92156863]]]\n",
      "\n",
      "\n",
      " [[[0.6117647  0.         0.         ... 1.         1.\n",
      "    1.        ]\n",
      "   [0.20392157 0.         0.         ... 1.         1.\n",
      "    1.        ]\n",
      "   [0.30980393 0.         0.         ... 1.         1.\n",
      "    1.        ]\n",
      "   ...\n",
      "   [0.6862745  0.         0.         ... 0.         0.\n",
      "    0.        ]\n",
      "   [1.         0.         0.         ... 0.15294118 0.69411767\n",
      "    1.        ]\n",
      "   [1.         0.73333335 0.18039216 ... 1.         1.\n",
      "    1.        ]]]]\n",
      "\n"
     ]
    }
   ],
   "source": [
    "# 正規化\n",
    "test_data = (test_data - test_data.min()) / test_data.max()\n",
    "test_data = test_data.astype('float32')\n",
    "print(test_data)\n",
    "print()"
   ]
  },
  {
   "cell_type": "markdown",
   "metadata": {},
   "source": [
    "## 学習結果を読む"
   ]
  },
  {
   "cell_type": "code",
   "execution_count": 9,
   "metadata": {},
   "outputs": [],
   "source": [
    "model = keras.models.load_model(\"katakana_model\")"
   ]
  },
  {
   "cell_type": "markdown",
   "metadata": {},
   "source": [
    "## 精度"
   ]
  },
  {
   "cell_type": "code",
   "execution_count": 10,
   "metadata": {},
   "outputs": [
    {
     "name": "stdout",
     "output_type": "stream",
     "text": [
      "Test loss: 0.21707331311985337\n",
      "Test accuracy: 0.9459310344827586\n"
     ]
    }
   ],
   "source": [
    "score = model.evaluate(test_data, test_label, verbose=0)\n",
    "print('Test loss:', score[0])\n",
    "print('Test accuracy:', score[1])"
   ]
  },
  {
   "cell_type": "code",
   "execution_count": 5,
   "metadata": {},
   "outputs": [
    {
     "data": {
      "text/plain": [
       "array([[5.6680577e-04, 4.4373687e-07, 9.9928743e-01, 2.7842036e-05,\n",
       "        1.1745009e-04]], dtype=float32)"
      ]
     },
     "execution_count": 5,
     "metadata": {},
     "output_type": "execute_result"
    }
   ],
   "source": [
    "model.predict(test_data[:1])"
   ]
  },
  {
   "cell_type": "markdown",
   "metadata": {},
   "source": [
    "## 予測のみ"
   ]
  },
  {
   "cell_type": "code",
   "execution_count": null,
   "metadata": {},
   "outputs": [],
   "source": [
    "label_pred = model.predict(test_data, verbose=0)\n",
    "\n",
    "label_ind_pred = np.argmax(label_pred, axis=1)\n",
    "label_ind = np.argmax(test_label, axis=1)\n",
    "np.sum(label_ind_pred==label_ind) / len(label_ind)"
   ]
  }
 ],
 "metadata": {
  "kernelspec": {
   "display_name": "Python 3",
   "language": "python",
   "name": "python3"
  },
  "language_info": {
   "codemirror_mode": {
    "name": "ipython",
    "version": 3
   },
   "file_extension": ".py",
   "mimetype": "text/x-python",
   "name": "python",
   "nbconvert_exporter": "python",
   "pygments_lexer": "ipython3",
   "version": "3.6.4"
  }
 },
 "nbformat": 4,
 "nbformat_minor": 2
}
