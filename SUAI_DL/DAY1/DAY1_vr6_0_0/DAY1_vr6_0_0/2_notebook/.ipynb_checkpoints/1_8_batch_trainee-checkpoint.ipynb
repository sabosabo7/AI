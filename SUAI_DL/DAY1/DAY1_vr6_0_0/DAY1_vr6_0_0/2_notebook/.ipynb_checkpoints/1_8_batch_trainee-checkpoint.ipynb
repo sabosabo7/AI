{
 "cells": [
  {
   "cell_type": "markdown",
   "metadata": {},
   "source": [
    "# バッチ処理部分の実装\n",
    "バッチ処理によって予測を行う関数を実装する"
   ]
  },
  {
   "cell_type": "code",
   "execution_count": null,
   "metadata": {
    "ExecuteTime": {
     "end_time": "2018-03-30T07:18:37.183381Z",
     "start_time": "2018-03-30T07:18:36.094825Z"
    },
    "scrolled": true
   },
   "outputs": [],
   "source": [
    "from PIL import Image\n",
    "import numpy as np\n",
    "import matplotlib.pyplot as plt\n",
    "import pickle\n",
    "from sklearn.metrics import accuracy_score\n",
    "\n",
    "# Load the MNIST dataset\n",
    "import tensorflow as tf\n",
    "mnist = tf.keras.datasets.mnist\n",
    "(X_train, y_train),(X_test, y_test) = mnist.load_data()\n",
    "\n",
    "from sklearn.preprocessing import LabelBinarizer\n",
    "lb = LabelBinarizer()\n",
    "\n",
    "train = X_train/255\n",
    "test = X_test/255\n",
    "train = train.reshape(-1, 28*28)\n",
    "test = test.reshape(-1, 28*28)\n",
    "train_labels = lb.fit_transform(y_train)\n",
    "test_labels = lb.fit_transform(y_test)"
   ]
  },
  {
   "cell_type": "markdown",
   "metadata": {},
   "source": [
    "## 学習済みの重みを読む"
   ]
  },
  {
   "cell_type": "code",
   "execution_count": null,
   "metadata": {
    "ExecuteTime": {
     "end_time": "2018-03-30T07:18:37.214758Z",
     "start_time": "2018-03-30T07:18:37.188209Z"
    }
   },
   "outputs": [],
   "source": [
    "def init_network():\n",
    "    with open(\"sample_weight.pkl\", \"rb\") as f:\n",
    "        network = pickle.load(f)\n",
    "    return network\n",
    "\n",
    "network = init_network()\n",
    "print(network.keys())\n",
    "print(\"\")\n",
    "\n",
    "W1, W2, W3 = network[\"W1\"],network[\"W2\"],network[\"W3\"]\n",
    "b1, b2, b3 = network[\"b1\"],network[\"b2\"],network[\"b3\"] \n",
    "\n",
    "print(network[\"W1\"])"
   ]
  },
  {
   "cell_type": "markdown",
   "metadata": {},
   "source": [
    "## 予測を行う"
   ]
  },
  {
   "cell_type": "code",
   "execution_count": null,
   "metadata": {
    "ExecuteTime": {
     "end_time": "2018-03-30T07:18:37.275481Z",
     "start_time": "2018-03-30T07:18:37.231652Z"
    }
   },
   "outputs": [],
   "source": [
    "def sigmoid(x):\n",
    "    return 1 / (1+ np.exp(-x))\n",
    "\n",
    "def softmax(x):\n",
    "    if x.ndim == 2:\n",
    "        x = x.T\n",
    "        x = x - np.max(x, axis=0)\n",
    "        y = np.exp(x) / np.sum(np.exp(x), axis=0)\n",
    "        return y.T \n",
    "\n",
    "def predict(network, x):\n",
    "    \"\"\"\n",
    "    クラス分類するための関数\n",
    "    network : 重み行列を納めたdict\n",
    "    x : 入力ベクトル\n",
    "    \"\"\"\n",
    "    W1, W2, W3 = network[\"W1\"],network[\"W2\"],network[\"W3\"]\n",
    "    b1, b2, b3 = network[\"b1\"],network[\"b2\"],network[\"b3\"]    \n",
    "    \n",
    "    # 順伝搬の計算\n",
    "    a1 = np.dot(x, W1) + b1\n",
    "    z1 = sigmoid(a1)\n",
    "    a2 = np.dot(z1, W2) + b2\n",
    "    z2 = sigmoid(a2)\n",
    "    a3 = np.dot(z2, W3) + b3\n",
    "    return softmax(a3)"
   ]
  },
  {
   "cell_type": "markdown",
   "metadata": {
    "ExecuteTime": {
     "end_time": "2018-03-30T07:12:35.140644Z",
     "start_time": "2018-03-30T07:12:35.125923Z"
    }
   },
   "source": [
    "### バッチ処理によって予測を行う"
   ]
  },
  {
   "cell_type": "markdown",
   "metadata": {},
   "source": [
    "### [演習]\n",
    "* 以下のpredict関数に、一度に1000個のデータを入力させてみましょう"
   ]
  },
  {
   "cell_type": "code",
   "execution_count": null,
   "metadata": {
    "ExecuteTime": {
     "end_time": "2018-03-30T07:18:37.497794Z",
     "start_time": "2018-03-30T07:18:37.463708Z"
    },
    "scrolled": true
   },
   "outputs": [],
   "source": [
    "# テストデータについて、識別を行う\n",
    "NUM = 1000\n",
    "\n",
    "y = predict(    )\n",
    "p =  np.argmax(y, axis=1)\n",
    "    \n",
    "#　正解データ    \n",
    "t = np.argmax(test_labels[:NUM], axis=1)\n",
    "\n",
    "# 予測結果と正解データの比較\n",
    "print(p)\n",
    "print(t)\n",
    "\n",
    "# 識別精度\n",
    "accuracy_score(t, p)"
   ]
  },
  {
   "cell_type": "markdown",
   "metadata": {},
   "source": [
    "### バッチ時の行列の形状の確認"
   ]
  },
  {
   "cell_type": "code",
   "execution_count": null,
   "metadata": {
    "ExecuteTime": {
     "end_time": "2018-03-30T08:17:17.879810Z",
     "start_time": "2018-03-30T08:17:17.866761Z"
    }
   },
   "outputs": [],
   "source": [
    "print(test[:NUM].shape, W1.shape, W2.shape, W3.shape, test_labels[:NUM].shape)\n",
    "print(\"                                     \" , b1.shape, \"      \" ,b2.shape,\"    \" ,  b3.shape)"
   ]
  }
 ],
 "metadata": {
  "kernelspec": {
   "display_name": "Python 3",
   "language": "python",
   "name": "python3"
  },
  "language_info": {
   "codemirror_mode": {
    "name": "ipython",
    "version": 3
   },
   "file_extension": ".py",
   "mimetype": "text/x-python",
   "name": "python",
   "nbconvert_exporter": "python",
   "pygments_lexer": "ipython3",
   "version": "3.6.8"
  }
 },
 "nbformat": 4,
 "nbformat_minor": 2
}
