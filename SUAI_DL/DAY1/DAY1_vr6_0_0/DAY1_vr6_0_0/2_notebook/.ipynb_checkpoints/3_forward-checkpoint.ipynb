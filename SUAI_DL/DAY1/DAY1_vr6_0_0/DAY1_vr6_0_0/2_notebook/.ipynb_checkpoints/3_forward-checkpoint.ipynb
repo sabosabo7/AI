{
 "cells": [
  {
   "cell_type": "markdown",
   "metadata": {},
   "source": [
    "# 信号伝達の計算"
   ]
  },
  {
   "cell_type": "code",
   "execution_count": null,
   "metadata": {
    "ExecuteTime": {
     "end_time": "2018-03-28T14:43:02.757207Z",
     "start_time": "2018-03-28T14:43:02.752318Z"
    }
   },
   "outputs": [],
   "source": [
    "import numpy as np"
   ]
  },
  {
   "cell_type": "markdown",
   "metadata": {
    "ExecuteTime": {
     "end_time": "2018-03-28T14:35:09.791226Z",
     "start_time": "2018-03-28T14:35:09.787244Z"
    }
   },
   "source": [
    "## シグモイド関数"
   ]
  },
  {
   "cell_type": "code",
   "execution_count": null,
   "metadata": {
    "ExecuteTime": {
     "end_time": "2018-03-28T14:43:02.765796Z",
     "start_time": "2018-03-28T14:43:02.761089Z"
    }
   },
   "outputs": [],
   "source": [
    "def sigmoid(x):\n",
    "    return 1 / (1+ np.exp(-x))"
   ]
  },
  {
   "cell_type": "markdown",
   "metadata": {},
   "source": [
    "## 恒等関数"
   ]
  },
  {
   "cell_type": "code",
   "execution_count": null,
   "metadata": {
    "ExecuteTime": {
     "end_time": "2018-03-28T14:43:02.773757Z",
     "start_time": "2018-03-28T14:43:02.769727Z"
    }
   },
   "outputs": [],
   "source": [
    "def identity_function(x):\n",
    "    return x"
   ]
  },
  {
   "cell_type": "markdown",
   "metadata": {},
   "source": [
    "## 1層のニューラルネットワークの信号伝達"
   ]
  },
  {
   "cell_type": "code",
   "execution_count": null,
   "metadata": {
    "ExecuteTime": {
     "end_time": "2018-03-28T14:43:02.792239Z",
     "start_time": "2018-03-28T14:43:02.777453Z"
    }
   },
   "outputs": [],
   "source": [
    "x = np.array([1,2])\n",
    "print(x.shape)\n",
    "W = np.array([[1,2,3],[4,5,6]])\n",
    "print(W.shape)\n",
    "np.dot(x.T, W)"
   ]
  },
  {
   "cell_type": "markdown",
   "metadata": {},
   "source": [
    "## 3層のニューラルネットワークの信号伝達"
   ]
  },
  {
   "cell_type": "code",
   "execution_count": null,
   "metadata": {
    "ExecuteTime": {
     "end_time": "2018-03-28T14:43:02.814316Z",
     "start_time": "2018-03-28T14:43:02.795520Z"
    }
   },
   "outputs": [],
   "source": [
    "# 1層目\n",
    "x = np.array([1.0, 0.5])\n",
    "W1 = np.array([[0.1, 0.3, 0.5],[0.2, 0.4, 0.6]])\n",
    "b1 = np.array([0.1, 0.2, 0.3])\n",
    "a1 = np.dot(x, W1) + b1 \n",
    "print(a1)\n",
    "# 中間層の活性化関数にはシグモイド関数を用いる\n",
    "z1 = sigmoid(a1)\n",
    "print(z1)"
   ]
  },
  {
   "cell_type": "code",
   "execution_count": null,
   "metadata": {
    "ExecuteTime": {
     "end_time": "2018-03-28T14:43:02.831965Z",
     "start_time": "2018-03-28T14:43:02.819140Z"
    }
   },
   "outputs": [],
   "source": [
    "# 2層目\n",
    "W2 = np.array([[0.1, 0.4],[0.2, 0.5], [0.3, 0.6]])\n",
    "b2 = np.array([0.1, 0.2])\n",
    "a2 = np.dot(z1, W2) + b2\n",
    "print(a2)\n",
    "# 中間層の活性化関数にはシグモイド関数を用いる\n",
    "z2 = sigmoid(a2)\n",
    "print(z2)"
   ]
  },
  {
   "cell_type": "code",
   "execution_count": null,
   "metadata": {
    "ExecuteTime": {
     "end_time": "2018-03-28T14:43:02.852968Z",
     "start_time": "2018-03-28T14:43:02.835586Z"
    }
   },
   "outputs": [],
   "source": [
    "# 3層目\n",
    "W3 = np.array([[0.1, 0.3],[0.2, 0.4]])\n",
    "b3 = np.array([0.1, 0.2])\n",
    "a3 = np.dot(z2, W3) + b3\n",
    "print(a3)\n",
    "# 最終層の活性化関数には、問題を簡単にするために恒等関数を用いる\n",
    "# 実際には、ソフトマックス関数などが使われる\n",
    "y = identity_function(a3)\n",
    "print(y)"
   ]
  },
  {
   "cell_type": "markdown",
   "metadata": {
    "ExecuteTime": {
     "end_time": "2018-03-28T14:42:52.336396Z",
     "start_time": "2018-03-28T14:42:52.327458Z"
    }
   },
   "source": [
    "### [演習]\n",
    "* 入力層の値を変えてみましょう\n",
    "* 重みを変えてみましょう\n",
    "* バイアスを変えてみましょう\n",
    "* 中間層の活性化関数を変えてみましょう"
   ]
  }
 ],
 "metadata": {
  "kernelspec": {
   "display_name": "Python 3",
   "language": "python",
   "name": "python3"
  },
  "language_info": {
   "codemirror_mode": {
    "name": "ipython",
    "version": 3
   },
   "file_extension": ".py",
   "mimetype": "text/x-python",
   "name": "python",
   "nbconvert_exporter": "python",
   "pygments_lexer": "ipython3",
   "version": "3.6.4"
  }
 },
 "nbformat": 4,
 "nbformat_minor": 2
}
