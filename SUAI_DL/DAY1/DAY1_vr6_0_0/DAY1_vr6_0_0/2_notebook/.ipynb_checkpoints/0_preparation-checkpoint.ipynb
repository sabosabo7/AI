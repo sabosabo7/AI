{
 "cells": [
  {
   "cell_type": "markdown",
   "metadata": {},
   "source": [
    "## 事前準備のお願い\n",
    "- こちらのNotebookがすべてエラーなく実行できれば事前準備はOKです\n",
    "- 実行するときは，実行したい部分（セル）をクリックした後にShiftキーとEnterキーを同時押し"
   ]
  },
  {
   "cell_type": "code",
   "execution_count": 1,
   "metadata": {
    "scrolled": true
   },
   "outputs": [],
   "source": [
    "%matplotlib inline"
   ]
  },
  {
   "cell_type": "markdown",
   "metadata": {},
   "source": [
    "### (1) Anaconda3-2019.03がインストールされていることを確認\n",
    "* Anaconda3-2019.03でない場合は、一旦このNotebookを閉じて、Anaconda3-2019.03をインストールしなおしてください。その際、バージョンの混乱を避けるため、先にインストール済みのAnacondaをアンインストールしておいて下さい。\n",
    "* Anaconda3-2019.03のAnacondaがインストールされていることを確認できた方は、(2)以降に進んでください。"
   ]
  },
  {
   "cell_type": "markdown",
   "metadata": {},
   "source": [
    "### (2) 各ライブラリのバージョン確認"
   ]
  },
  {
   "cell_type": "code",
   "execution_count": 2,
   "metadata": {},
   "outputs": [
    {
     "name": "stdout",
     "output_type": "stream",
     "text": [
      "1.16.2\n",
      "1.16.2であればok\n",
      "0.24.2\n",
      "0.24.2であればok\n",
      "0.20.3\n",
      "0.20.3であればok\n",
      "3.0.3\n",
      "3.0.3であればok\n",
      "0.9.0\n",
      "0.9.0であればok\n",
      "5.4.1\n",
      "5.4.1であればok\n"
     ]
    }
   ],
   "source": [
    "import numpy as np\n",
    "print(np.__version__)\n",
    "print(\"1.16.2であればok\")\n",
    "\n",
    "import pandas as pd\n",
    "print(pd.__version__)\n",
    "print(\"0.24.2であればok\")\n",
    "\n",
    "import sklearn as sk\n",
    "print(sk.__version__)\n",
    "print(\"0.20.3であればok\")\n",
    "\n",
    "import matplotlib as mpl\n",
    "print(mpl.__version__)\n",
    "print(\"3.0.3であればok\")\n",
    "\n",
    "import seaborn as sns\n",
    "print(sns.__version__)\n",
    "print(\"0.9.0であればok\")\n",
    "\n",
    "\n",
    "import PIL as pil\n",
    "print(pil.__version__)\n",
    "print(\"5.4.1であればok\")"
   ]
  },
  {
   "cell_type": "markdown",
   "metadata": {},
   "source": [
    "### (3) tensorflowのインストール\n",
    "* 端末にて以下を実行しインストールする\n",
    "```\n",
    "pip install tensorflow==1.14.0\n",
    "```"
   ]
  },
  {
   "cell_type": "code",
   "execution_count": 3,
   "metadata": {
    "ExecuteTime": {
     "end_time": "2018-03-30T03:28:08.645449Z",
     "start_time": "2018-03-30T03:28:08.636314Z"
    }
   },
   "outputs": [
    {
     "name": "stdout",
     "output_type": "stream",
     "text": [
      "1.14.0\n",
      "1.14.0であればok\n"
     ]
    }
   ],
   "source": [
    "import tensorflow as tf\n",
    "print(tf.__version__)\n",
    "print(\"1.14.0であればok\")"
   ]
  },
  {
   "cell_type": "markdown",
   "metadata": {},
   "source": [
    "### (4)TensofFlowが問題なくインストールできていることの確認"
   ]
  },
  {
   "cell_type": "code",
   "execution_count": 4,
   "metadata": {
    "ExecuteTime": {
     "end_time": "2018-03-30T03:28:21.309288Z",
     "start_time": "2018-03-30T03:28:21.287675Z"
    }
   },
   "outputs": [
    {
     "name": "stdout",
     "output_type": "stream",
     "text": [
      "b'Hello, TensorFlow!'\n"
     ]
    }
   ],
   "source": [
    "# Python\n",
    "import tensorflow as tf\n",
    "hello = tf.constant('Hello, TensorFlow!')\n",
    "sess = tf.Session()\n",
    "print(sess.run(hello))"
   ]
  },
  {
   "cell_type": "markdown",
   "metadata": {
    "collapsed": true
   },
   "source": [
    "### (5)MNISTデータをダウンロードする"
   ]
  },
  {
   "cell_type": "code",
   "execution_count": 5,
   "metadata": {
    "scrolled": true
   },
   "outputs": [
    {
     "name": "stdout",
     "output_type": "stream",
     "text": [
      "学習用データの数 (60000,)\n",
      "テスト用データの数 (10000,)\n"
     ]
    }
   ],
   "source": [
    "import tensorflow as tf\n",
    "mnist = tf.keras.datasets.mnist\n",
    "(X_train, y_train),(X_test, y_test) = mnist.load_data()\n",
    "\n",
    "print(\"学習用データの数\",y_train.shape) # 60000であればok\n",
    "print(\"テスト用データの数\",y_test.shape) # 10000であればok"
   ]
  },
  {
   "cell_type": "code",
   "execution_count": 6,
   "metadata": {
    "ExecuteTime": {
     "end_time": "2018-03-30T03:28:44.482101Z",
     "start_time": "2018-03-30T03:28:43.987197Z"
    }
   },
   "outputs": [
    {
     "name": "stdout",
     "output_type": "stream",
     "text": [
      "label= 5\n"
     ]
    },
    {
     "data": {
      "image/png": "[encoded data removed]",
      "text/plain": [
       "<Figure size 432x288 with 1 Axes>"
      ]
     },
     "metadata": {
      "needs_background": "light"
     },
     "output_type": "display_data"
    }
   ],
   "source": [
    "import numpy as np\n",
    "import matplotlib.pylab as plt\n",
    "label = y_train[0]\n",
    "img = X_train[0,:]\n",
    "print(\"label=\", label)\n",
    "plt.imshow(img)\n",
    "plt.gray()\n",
    "plt.show()\n",
    "\n",
    "# 手書きの5が表示されればok"
   ]
  },
  {
   "cell_type": "markdown",
   "metadata": {},
   "source": [
    "### (6) kerasのインストール\n",
    "* 端末にて以下を実行しインストールする\n",
    "```\n",
    "pip install keras==2.2.4\n",
    "```"
   ]
  },
  {
   "cell_type": "code",
   "execution_count": 7,
   "metadata": {
    "ExecuteTime": {
     "end_time": "2018-03-30T03:31:32.201453Z",
     "start_time": "2018-03-30T03:31:32.193507Z"
    }
   },
   "outputs": [
    {
     "name": "stdout",
     "output_type": "stream",
     "text": [
      "2.2.4\n",
      "2.2.4であればok\n"
     ]
    },
    {
     "name": "stderr",
     "output_type": "stream",
     "text": [
      "Using TensorFlow backend.\n"
     ]
    }
   ],
   "source": [
    "import keras\n",
    "keras.__version__\n",
    "print(keras.__version__)\n",
    "print(\"2.2.4であればok\")"
   ]
  },
  {
   "cell_type": "markdown",
   "metadata": {},
   "source": [
    "### (7) 端末にてplotlyをインストール\n",
    "* pip install plotly==4.1.1"
   ]
  },
  {
   "cell_type": "code",
   "execution_count": 8,
   "metadata": {},
   "outputs": [
    {
     "name": "stdout",
     "output_type": "stream",
     "text": [
      "4.1.1\n",
      "4.1.1であればok\n"
     ]
    }
   ],
   "source": [
    "import plotly\n",
    "print(plotly.__version__)\n",
    "print(\"4.1.1であればok\")"
   ]
  },
  {
   "cell_type": "markdown",
   "metadata": {},
   "source": [
    "### (8)端末にてAugmentorをインストール\n",
    "* pip install Augmentor\n",
    "* versionは、0.2.3以降であればok"
   ]
  },
  {
   "cell_type": "code",
   "execution_count": 9,
   "metadata": {},
   "outputs": [
    {
     "name": "stdout",
     "output_type": "stream",
     "text": [
      "0.2.6\n",
      "0.2.6であればok\n"
     ]
    }
   ],
   "source": [
    "import Augmentor\n",
    "print(Augmentor.__version__)\n",
    "print(\"0.2.6であればok\")"
   ]
  },
  {
   "cell_type": "markdown",
   "metadata": {},
   "source": [
    "### (9) Mecab環境の構築"
   ]
  },
  {
   "cell_type": "markdown",
   "metadata": {},
   "source": [
    "### Windowsの場合\n",
    "* 1.Mecabのインストール    \n",
    "    * http://oita.oika.me/2018/05/03/python3-mecab-on-windows/\n",
    "* 2.mecab-python-windowsのインストール    \n",
    "```\n",
    "pip install mecab-python-windows\n",
    "```\n",
    "        \n",
    "        \n",
    "\n",
    "### Mac, Linuxの場合\n",
    "#### 1.swigのインストール\n",
    "* Macの場合\n",
    "    * brew install swig\n",
    "* Ubuntuの場合\n",
    "    * sudo apt-get install swig\n",
    "    \n",
    "\n",
    "#### 2. MeCabのインストール\n",
    "* MeCabの公式サイト  \n",
    "    http://taku910.github.io/mecab/#install  \n",
    "* インストール方法  \n",
    "    mecab-0.996.tar.gzをダウンロードし、端末にて以下を実行する。\n",
    "    \n",
    "    ```    \n",
    "    tar zxfv mecab-0.996.tar.gz\n",
    "    cd mecab-0.996\n",
    "    ./configure \n",
    "    make\n",
    "    make check\n",
    "    sudo make install\n",
    "    ```\n",
    "\n",
    "    次に、辞書のインストール。mecab-ipadic-2.7.0-20070801.tar.gzをダウンロードし、端末にて以下を実行する。\n",
    "    \n",
    "    ```\n",
    "    tar zxfv mecab-ipadic-2.7.0-20070801.tar.gz\n",
    "    cd mecab-ipadic-2.7.0-20070801\n",
    "    ./configure --with-charset=utf8\n",
    "    make\n",
    "    sudo make install\n",
    "    ```\n",
    "\n",
    "#### 3. mecab-python3のインストール\n",
    "```\n",
    "pip install -U mecab-python3==0.996.2\n",
    "```\n"
   ]
  },
  {
   "cell_type": "code",
   "execution_count": 10,
   "metadata": {},
   "outputs": [
    {
     "name": "stdout",
     "output_type": "stream",
     "text": [
      "0.996\n",
      "0.996であればok\n"
     ]
    }
   ],
   "source": [
    "import MeCab\n",
    "print(MeCab.VERSION)\n",
    "print(\"0.996であればok\")"
   ]
  },
  {
   "cell_type": "markdown",
   "metadata": {},
   "source": [
    "### (10) 端末にて、gensimをインストール\n",
    "* pip install gensim==3.8.0"
   ]
  },
  {
   "cell_type": "code",
   "execution_count": 11,
   "metadata": {},
   "outputs": [
    {
     "name": "stdout",
     "output_type": "stream",
     "text": [
      "3.8.0\n",
      "3.8.0であればok\n"
     ]
    }
   ],
   "source": [
    "import gensim\n",
    "print(gensim.__version__)\n",
    "print(\"3.8.0であればok\")"
   ]
  },
  {
   "cell_type": "code",
   "execution_count": null,
   "metadata": {},
   "outputs": [],
   "source": []
  }
 ],
 "metadata": {
  "kernelspec": {
   "display_name": "Python 3",
   "language": "python",
   "name": "python3"
  },
  "language_info": {
   "codemirror_mode": {
    "name": "ipython",
    "version": 3
   },
   "file_extension": ".py",
   "mimetype": "text/x-python",
   "name": "python",
   "nbconvert_exporter": "python",
   "pygments_lexer": "ipython3",
   "version": "3.7.3"
  }
 },
 "nbformat": 4,
 "nbformat_minor": 2
}
