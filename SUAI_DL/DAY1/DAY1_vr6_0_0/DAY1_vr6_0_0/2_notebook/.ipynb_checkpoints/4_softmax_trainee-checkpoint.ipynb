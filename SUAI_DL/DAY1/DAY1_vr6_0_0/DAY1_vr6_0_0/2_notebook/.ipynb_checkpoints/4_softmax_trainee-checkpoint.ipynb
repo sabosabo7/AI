{
 "cells": [
  {
   "cell_type": "markdown",
   "metadata": {
    "ExecuteTime": {
     "end_time": "2018-03-28T14:45:19.508576Z",
     "start_time": "2018-03-28T14:45:19.500809Z"
    }
   },
   "source": [
    "# ソフトマックス関数"
   ]
  },
  {
   "cell_type": "code",
   "execution_count": null,
   "metadata": {
    "ExecuteTime": {
     "end_time": "2018-03-30T00:22:25.611045Z",
     "start_time": "2018-03-30T00:22:25.233609Z"
    }
   },
   "outputs": [],
   "source": [
    "import numpy as np\n",
    "import matplotlib.pyplot as plt"
   ]
  },
  {
   "cell_type": "markdown",
   "metadata": {},
   "source": [
    "## ソフトマックス関数\n",
    "* ソフトマックス関数は、複数の入力を正規化し、合計値が1になるようにする関数\n",
    "* 正規化する前に、指数関数(exp)を計算している。"
   ]
  },
  {
   "cell_type": "markdown",
   "metadata": {},
   "source": [
    "$\\displaystyle{y(k)=\\frac{\\exp(a_k)}{\\Sigma_{i=1}^{n}(\\exp(a_i))}}$  \n",
    "  \n",
    "$k$:出力ノードの番号"
   ]
  },
  {
   "cell_type": "markdown",
   "metadata": {
    "ExecuteTime": {
     "end_time": "2018-03-30T00:21:43.169551Z",
     "start_time": "2018-03-30T00:21:43.165222Z"
    }
   },
   "source": [
    "### [問]\n",
    "* expしてから正規化する理由は？\n",
    "* 参考として、exp関数を以下に示す。"
   ]
  },
  {
   "cell_type": "code",
   "execution_count": null,
   "metadata": {
    "ExecuteTime": {
     "end_time": "2018-03-30T00:26:47.689137Z",
     "start_time": "2018-03-30T00:26:47.513916Z"
    }
   },
   "outputs": [],
   "source": [
    "# exp関数\n",
    "x = np.linspace(-5,5,100)\n",
    "y = np.exp(x)\n",
    "plt.plot(x,y)\n",
    "plt.show()"
   ]
  },
  {
   "cell_type": "markdown",
   "metadata": {
    "ExecuteTime": {
     "end_time": "2018-03-30T00:14:48.802011Z",
     "start_time": "2018-03-30T00:14:48.636003Z"
    }
   },
   "source": [
    "### ソフトマックス関数実装上の注意\n",
    "指数関数の値が大きくなり、オーバーフローを起こす可能性がある。例えば、"
   ]
  },
  {
   "cell_type": "code",
   "execution_count": null,
   "metadata": {
    "ExecuteTime": {
     "end_time": "2018-03-30T00:26:50.090829Z",
     "start_time": "2018-03-30T00:26:50.077331Z"
    }
   },
   "outputs": [],
   "source": [
    "print(np.exp(40))\n",
    "print(np.exp(100))\n",
    "print(np.exp(1000))"
   ]
  },
  {
   "cell_type": "markdown",
   "metadata": {},
   "source": [
    "これを回避する方法の一つとして、入力信号の最大値を引くという方法がある。  \n",
    "ここでもその方法で実装することにする。"
   ]
  },
  {
   "cell_type": "markdown",
   "metadata": {},
   "source": [
    "### [演習]\n",
    "- 以下のソフトマックス関数を完成させましょう"
   ]
  },
  {
   "cell_type": "code",
   "execution_count": null,
   "metadata": {
    "ExecuteTime": {
     "end_time": "2018-03-30T00:33:46.920402Z",
     "start_time": "2018-03-30T00:33:46.911373Z"
    }
   },
   "outputs": [],
   "source": [
    "def softmax_1(x):    \n",
    "    \"\"\"\n",
    "    オーバーフロー対策なしの場合\n",
    "    \"\"\"    \n",
    "    return\n",
    "\n",
    "def softmax_2(x):\n",
    "    \"\"\"\n",
    "    オーバーフロー対策ありの場合\n",
    "    \"\"\"\n",
    "    return"
   ]
  },
  {
   "cell_type": "code",
   "execution_count": null,
   "metadata": {
    "ExecuteTime": {
     "end_time": "2018-03-30T00:33:47.073526Z",
     "start_time": "2018-03-30T00:33:47.041044Z"
    },
    "scrolled": true
   },
   "outputs": [],
   "source": [
    "x = np.array([1.0, 2.0, 3.0])\n",
    "\n",
    "# オーバーフロー対策なしの場合\n",
    "y = softmax_1(x)\n",
    "print(y)\n",
    "# 合計が1になることの確認\n",
    "print(\"合計=\", np.sum(y))\n",
    "\n",
    "# オーバーフロー対策ありの場合\n",
    "y = softmax_2(x)\n",
    "print(y)\n",
    "# 合計が1になることの確認\n",
    "print(\"合計=\", np.sum(y))"
   ]
  },
  {
   "cell_type": "markdown",
   "metadata": {},
   "source": [
    "* 最大値を引いても還り値は同じであることがわかる"
   ]
  },
  {
   "cell_type": "markdown",
   "metadata": {},
   "source": [
    "### [演習]\n",
    "* 上記セルのxの配列に大きな値を入れて、オーバーフローを発生させてみましょう。"
   ]
  },
  {
   "cell_type": "markdown",
   "metadata": {},
   "source": [
    "### [演習]\n",
    "* 以下のセルの実行結果をみながら、ソフトマックス関数の特徴を考察してみましょう。\n",
    "* expしてから正規化するのではなく、単純に正規化するとどうなりますか？(冒頭の問い)\n",
    "* expしてから正規化するのではなく、シグモイド関数に通してから正規化するとどうなりますか？"
   ]
  },
  {
   "cell_type": "code",
   "execution_count": null,
   "metadata": {},
   "outputs": [],
   "source": [
    "def sigmoid(x):\n",
    "    return 1 / (1+ np.exp(-x))\n",
    "\n",
    "\n",
    "x = np.array([1, 0, 2])\n",
    "print(\"x=\", x)\n",
    "print(\"ソフトマックス=\", softmax_2(x).round(3))\n",
    "print(\"単純な正規化=\", (x/np.sum(x)).round(3))\n",
    "print(\"シグモイド関数を通した後に正規化=\", (sigmoid(x)/sigmoid(x).sum()).round(3))\n",
    "print()\n",
    "x = np.array([5, 0, 10])\n",
    "print(\"x=\", x)\n",
    "print(\"ソフトマックス=\", softmax_2(x).round(3))\n",
    "print(\"単純な正規化=\", (x/np.sum(x)).round(3))\n",
    "print(\"シグモイド関数を通した後に正規化=\", (sigmoid(x)/sigmoid(x).sum()).round(3))\n",
    "print()\n",
    "x = np.array([50, 0, 100])\n",
    "print(\"x=\", x)\n",
    "print(\"ソフトマックス=\", softmax_2(x).round(3))\n",
    "print(\"単純な正規化=\", (x/np.sum(x)).round(3))\n",
    "print(\"シグモイド関数を通した後に正規化=\", (sigmoid(x)/sigmoid(x).sum()).round(3))\n",
    "print()\n",
    "x = np.array([-50, 0, 1])\n",
    "print(\"x=\", x)\n",
    "print(\"ソフトマックス=\", softmax_2(x).round(3))\n",
    "print(\"単純な正規化=\", (x/np.sum(x)).round(3))\n",
    "print(\"シグモイド関数を通した後に正規化=\", (sigmoid(x)/sigmoid(x).sum()).round(3))\n",
    "print()\n",
    "x = np.array([-50, 0, 10])\n",
    "print(\"x=\", x)\n",
    "print(\"ソフトマックス=\", softmax_2(x).round(3))\n",
    "print(\"単純な正規化=\", (x/np.sum(x)).round(3))\n",
    "print(\"シグモイド関数を通した後に正規化=\", (sigmoid(x)/sigmoid(x).sum()).round(3))"
   ]
  },
  {
   "cell_type": "markdown",
   "metadata": {},
   "source": [
    "\n",
    "\n",
    "### [演習]\n",
    "* オーバーフロー対策ありソフトマックス関数のxに大きな値が入ってもエラーが出ずに計算できることを確認しましょう。"
   ]
  },
  {
   "cell_type": "markdown",
   "metadata": {},
   "source": [
    "## ソフトマックス関数の2次元への拡張"
   ]
  },
  {
   "cell_type": "markdown",
   "metadata": {},
   "source": [
    "### [演習]\n",
    "- ソフトマックス関数を2次元へ拡張させましょう。以下のソフトマックス関数を完成させてください。\n",
    "\n",
    "### [問]\n",
    "- ソフトマックス関数を2次元へ拡張させる意味は何でしょうか？　 2次元へ拡張させると、どういう計算が可能になるでしょうか？"
   ]
  },
  {
   "cell_type": "code",
   "execution_count": null,
   "metadata": {},
   "outputs": [],
   "source": [
    "# ヒント\n",
    "x = np.array([[1.0, 2.0, 3.0],\n",
    "                        [4.0, 3.0, 2.0]])\n",
    "print(x.T)\n",
    "print()\n",
    "x = x.T\n",
    "print(np.max(x, axis=0))\n",
    "print()\n",
    "print(np.exp(x))\n",
    "print()\n",
    "print(np.sum(np.exp(x), axis=0))"
   ]
  },
  {
   "cell_type": "code",
   "execution_count": null,
   "metadata": {},
   "outputs": [],
   "source": [
    "def softmax(x):\n",
    "    if x.ndim == 2:\n",
    "\n",
    "        return\n",
    "\n",
    "    x = x - np.max(x) # オーバーフロー対策\n",
    "    return np.exp(x) / np.sum(np.exp(x))"
   ]
  },
  {
   "cell_type": "code",
   "execution_count": null,
   "metadata": {},
   "outputs": [],
   "source": [
    "# 入力[1.0, 2.0, 3.0]に対するソフトマックスと入力[4.0, 3.0, 2.0]に対するソフトマックを計算できるようにすること\n",
    "\n",
    "x = np.array([[1.0, 2.0, 3.0],\n",
    "                        [4.0, 3.0, 2.0]])\n",
    "\n",
    "y = softmax(x)\n",
    "print(\"y=\")\n",
    "print(y)\n",
    "print(\"yの合計=\")\n",
    "print(y.sum(axis=1))"
   ]
  },
  {
   "cell_type": "code",
   "execution_count": null,
   "metadata": {},
   "outputs": [],
   "source": []
  }
 ],
 "metadata": {
  "kernelspec": {
   "display_name": "Python 3",
   "language": "python",
   "name": "python3"
  },
  "language_info": {
   "codemirror_mode": {
    "name": "ipython",
    "version": 3
   },
   "file_extension": ".py",
   "mimetype": "text/x-python",
   "name": "python",
   "nbconvert_exporter": "python",
   "pygments_lexer": "ipython3",
   "version": "3.6.4"
  }
 },
 "nbformat": 4,
 "nbformat_minor": 2
}
