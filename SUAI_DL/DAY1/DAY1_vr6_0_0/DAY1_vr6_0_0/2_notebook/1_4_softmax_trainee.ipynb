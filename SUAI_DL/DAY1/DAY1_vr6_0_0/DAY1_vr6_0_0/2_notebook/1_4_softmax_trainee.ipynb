{
 "cells": [
  {
   "cell_type": "markdown",
   "metadata": {
    "ExecuteTime": {
     "end_time": "2018-03-28T14:45:19.508576Z",
     "start_time": "2018-03-28T14:45:19.500809Z"
    }
   },
   "source": [
    "# ソフトマックス関数"
   ]
  },
  {
   "cell_type": "code",
   "execution_count": 6,
   "metadata": {
    "ExecuteTime": {
     "end_time": "2018-03-30T00:22:25.611045Z",
     "start_time": "2018-03-30T00:22:25.233609Z"
    }
   },
   "outputs": [],
   "source": [
    "import numpy as np\n",
    "import matplotlib.pyplot as plt"
   ]
  },
  {
   "cell_type": "markdown",
   "metadata": {},
   "source": [
    "## ソフトマックス関数\n",
    "* ソフトマックス関数は、複数の入力を正規化し、合計値が1になるようにする関数\n",
    "* 正規化する前に、指数関数(exp)を計算している。"
   ]
  },
  {
   "cell_type": "markdown",
   "metadata": {},
   "source": [
    "$\\displaystyle{y_k=\\frac{\\exp(a_k)}{\\Sigma_{i=1}^{K}(\\exp(a_i))}}$  \n",
    "   \n",
    "$y_k$:出力層のノード番号$k$に対応するソフトマックスの出力値     \n",
    "$K$:出力層のノード数  \n",
    "$k$:出力層のノード番号  "
   ]
  },
  {
   "cell_type": "markdown",
   "metadata": {
    "ExecuteTime": {
     "end_time": "2018-03-30T00:21:43.169551Z",
     "start_time": "2018-03-30T00:21:43.165222Z"
    }
   },
   "source": [
    "### [問]\n",
    "* expしてから正規化する理由は？\n",
    "* 参考として、exp関数を以下に示す。"
   ]
  },
  {
   "cell_type": "code",
   "execution_count": 2,
   "metadata": {
    "ExecuteTime": {
     "end_time": "2018-03-30T00:26:47.689137Z",
     "start_time": "2018-03-30T00:26:47.513916Z"
    }
   },
   "outputs": [
    {
     "output_type": "display_data",
     "data": {
      "text/plain": "<Figure size 432x288 with 1 Axes>",
      "image/svg+xml": "<?xml version=\"1.0\" encoding=\"utf-8\" standalone=\"no\"?>\r\n<!DOCTYPE svg PUBLIC \"-//W3C//DTD SVG 1.1//EN\"\r\n  \"http://www.w3.org/Graphics/SVG/1.1/DTD/svg11.dtd\">\r\n<!-- Created with matplotlib (https://matplotlib.org/) -->\r\n<svg height=\"252.018125pt\" version=\"1.1\" viewBox=\"0 0 378.7875 252.018125\" width=\"378.7875pt\" xmlns=\"http://www.w3.org/2000/svg\" xmlns:xlink=\"http://www.w3.org/1999/xlink\">\r\n <defs>\r\n  <style type=\"text/css\">\r\n*{stroke-linecap:butt;stroke-linejoin:round;}\r\n  </style>\r\n </defs>\r\n <g id=\"figure_1\">\r\n  <g id=\"patch_1\">\r\n   <path d=\"M 0 252.018125 \r\nL 378.7875 252.018125 \r\nL 378.7875 0 \r\nL 0 0 \r\nz\r\n\" style=\"fill:none;\"/>\r\n  </g>\r\n  <g id=\"axes_1\">\r\n   <g id=\"patch_2\">\r\n    <path d=\"M 33.2875 228.14 \r\nL 368.0875 228.14 \r\nL 368.0875 10.7 \r\nL 33.2875 10.7 \r\nz\r\n\" style=\"fill:#ffffff;\"/>\r\n   </g>\r\n   <g id=\"matplotlib.axis_1\">\r\n    <g id=\"xtick_1\">\r\n     <g id=\"line2d_1\">\r\n      <defs>\r\n       <path d=\"M 0 0 \r\nL 0 3.5 \r\n\" id=\"m637ccb2958\" style=\"stroke:#000000;stroke-width:0.8;\"/>\r\n      </defs>\r\n      <g>\r\n       <use style=\"stroke:#000000;stroke-width:0.8;\" x=\"78.942045\" xlink:href=\"#m637ccb2958\" y=\"228.14\"/>\r\n      </g>\r\n     </g>\r\n     <g id=\"text_1\">\r\n      <!-- −4 -->\r\n      <defs>\r\n       <path d=\"M 10.59375 35.5 \r\nL 73.1875 35.5 \r\nL 73.1875 27.203125 \r\nL 10.59375 27.203125 \r\nz\r\n\" id=\"DejaVuSans-8722\"/>\r\n       <path d=\"M 37.796875 64.3125 \r\nL 12.890625 25.390625 \r\nL 37.796875 25.390625 \r\nz\r\nM 35.203125 72.90625 \r\nL 47.609375 72.90625 \r\nL 47.609375 25.390625 \r\nL 58.015625 25.390625 \r\nL 58.015625 17.1875 \r\nL 47.609375 17.1875 \r\nL 47.609375 0 \r\nL 37.796875 0 \r\nL 37.796875 17.1875 \r\nL 4.890625 17.1875 \r\nL 4.890625 26.703125 \r\nz\r\n\" id=\"DejaVuSans-52\"/>\r\n      </defs>\r\n      <g transform=\"translate(71.570952 242.738437)scale(0.1 -0.1)\">\r\n       <use xlink:href=\"#DejaVuSans-8722\"/>\r\n       <use x=\"83.789062\" xlink:href=\"#DejaVuSans-52\"/>\r\n      </g>\r\n     </g>\r\n    </g>\r\n    <g id=\"xtick_2\">\r\n     <g id=\"line2d_2\">\r\n      <g>\r\n       <use style=\"stroke:#000000;stroke-width:0.8;\" x=\"139.814773\" xlink:href=\"#m637ccb2958\" y=\"228.14\"/>\r\n      </g>\r\n     </g>\r\n     <g id=\"text_2\">\r\n      <!-- −2 -->\r\n      <defs>\r\n       <path d=\"M 19.1875 8.296875 \r\nL 53.609375 8.296875 \r\nL 53.609375 0 \r\nL 7.328125 0 \r\nL 7.328125 8.296875 \r\nQ 12.9375 14.109375 22.625 23.890625 \r\nQ 32.328125 33.6875 34.8125 36.53125 \r\nQ 39.546875 41.84375 41.421875 45.53125 \r\nQ 43.3125 49.21875 43.3125 52.78125 \r\nQ 43.3125 58.59375 39.234375 62.25 \r\nQ 35.15625 65.921875 28.609375 65.921875 \r\nQ 23.96875 65.921875 18.8125 64.3125 \r\nQ 13.671875 62.703125 7.8125 59.421875 \r\nL 7.8125 69.390625 \r\nQ 13.765625 71.78125 18.9375 73 \r\nQ 24.125 74.21875 28.421875 74.21875 \r\nQ 39.75 74.21875 46.484375 68.546875 \r\nQ 53.21875 62.890625 53.21875 53.421875 \r\nQ 53.21875 48.921875 51.53125 44.890625 \r\nQ 49.859375 40.875 45.40625 35.40625 \r\nQ 44.1875 33.984375 37.640625 27.21875 \r\nQ 31.109375 20.453125 19.1875 8.296875 \r\nz\r\n\" id=\"DejaVuSans-50\"/>\r\n      </defs>\r\n      <g transform=\"translate(132.443679 242.738437)scale(0.1 -0.1)\">\r\n       <use xlink:href=\"#DejaVuSans-8722\"/>\r\n       <use x=\"83.789062\" xlink:href=\"#DejaVuSans-50\"/>\r\n      </g>\r\n     </g>\r\n    </g>\r\n    <g id=\"xtick_3\">\r\n     <g id=\"line2d_3\">\r\n      <g>\r\n       <use style=\"stroke:#000000;stroke-width:0.8;\" x=\"200.6875\" xlink:href=\"#m637ccb2958\" y=\"228.14\"/>\r\n      </g>\r\n     </g>\r\n     <g id=\"text_3\">\r\n      <!-- 0 -->\r\n      <defs>\r\n       <path d=\"M 31.78125 66.40625 \r\nQ 24.171875 66.40625 20.328125 58.90625 \r\nQ 16.5 51.421875 16.5 36.375 \r\nQ 16.5 21.390625 20.328125 13.890625 \r\nQ 24.171875 6.390625 31.78125 6.390625 \r\nQ 39.453125 6.390625 43.28125 13.890625 \r\nQ 47.125 21.390625 47.125 36.375 \r\nQ 47.125 51.421875 43.28125 58.90625 \r\nQ 39.453125 66.40625 31.78125 66.40625 \r\nz\r\nM 31.78125 74.21875 \r\nQ 44.046875 74.21875 50.515625 64.515625 \r\nQ 56.984375 54.828125 56.984375 36.375 \r\nQ 56.984375 17.96875 50.515625 8.265625 \r\nQ 44.046875 -1.421875 31.78125 -1.421875 \r\nQ 19.53125 -1.421875 13.0625 8.265625 \r\nQ 6.59375 17.96875 6.59375 36.375 \r\nQ 6.59375 54.828125 13.0625 64.515625 \r\nQ 19.53125 74.21875 31.78125 74.21875 \r\nz\r\n\" id=\"DejaVuSans-48\"/>\r\n      </defs>\r\n      <g transform=\"translate(197.50625 242.738437)scale(0.1 -0.1)\">\r\n       <use xlink:href=\"#DejaVuSans-48\"/>\r\n      </g>\r\n     </g>\r\n    </g>\r\n    <g id=\"xtick_4\">\r\n     <g id=\"line2d_4\">\r\n      <g>\r\n       <use style=\"stroke:#000000;stroke-width:0.8;\" x=\"261.560227\" xlink:href=\"#m637ccb2958\" y=\"228.14\"/>\r\n      </g>\r\n     </g>\r\n     <g id=\"text_4\">\r\n      <!-- 2 -->\r\n      <g transform=\"translate(258.378977 242.738437)scale(0.1 -0.1)\">\r\n       <use xlink:href=\"#DejaVuSans-50\"/>\r\n      </g>\r\n     </g>\r\n    </g>\r\n    <g id=\"xtick_5\">\r\n     <g id=\"line2d_5\">\r\n      <g>\r\n       <use style=\"stroke:#000000;stroke-width:0.8;\" x=\"322.432955\" xlink:href=\"#m637ccb2958\" y=\"228.14\"/>\r\n      </g>\r\n     </g>\r\n     <g id=\"text_5\">\r\n      <!-- 4 -->\r\n      <g transform=\"translate(319.251705 242.738437)scale(0.1 -0.1)\">\r\n       <use xlink:href=\"#DejaVuSans-52\"/>\r\n      </g>\r\n     </g>\r\n    </g>\r\n   </g>\r\n   <g id=\"matplotlib.axis_2\">\r\n    <g id=\"ytick_1\">\r\n     <g id=\"line2d_6\">\r\n      <defs>\r\n       <path d=\"M 0 0 \r\nL -3.5 0 \r\n\" id=\"m8d28bf5266\" style=\"stroke:#000000;stroke-width:0.8;\"/>\r\n      </defs>\r\n      <g>\r\n       <use style=\"stroke:#000000;stroke-width:0.8;\" x=\"33.2875\" xlink:href=\"#m8d28bf5266\" y=\"218.265338\"/>\r\n      </g>\r\n     </g>\r\n     <g id=\"text_6\">\r\n      <!-- 0 -->\r\n      <g transform=\"translate(19.925 222.064557)scale(0.1 -0.1)\">\r\n       <use xlink:href=\"#DejaVuSans-48\"/>\r\n      </g>\r\n     </g>\r\n    </g>\r\n    <g id=\"ytick_2\">\r\n     <g id=\"line2d_7\">\r\n      <g>\r\n       <use style=\"stroke:#000000;stroke-width:0.8;\" x=\"33.2875\" xlink:href=\"#m8d28bf5266\" y=\"191.625962\"/>\r\n      </g>\r\n     </g>\r\n     <g id=\"text_7\">\r\n      <!-- 20 -->\r\n      <g transform=\"translate(13.5625 195.425181)scale(0.1 -0.1)\">\r\n       <use xlink:href=\"#DejaVuSans-50\"/>\r\n       <use x=\"63.623047\" xlink:href=\"#DejaVuSans-48\"/>\r\n      </g>\r\n     </g>\r\n    </g>\r\n    <g id=\"ytick_3\">\r\n     <g id=\"line2d_8\">\r\n      <g>\r\n       <use style=\"stroke:#000000;stroke-width:0.8;\" x=\"33.2875\" xlink:href=\"#m8d28bf5266\" y=\"164.986585\"/>\r\n      </g>\r\n     </g>\r\n     <g id=\"text_8\">\r\n      <!-- 40 -->\r\n      <g transform=\"translate(13.5625 168.785804)scale(0.1 -0.1)\">\r\n       <use xlink:href=\"#DejaVuSans-52\"/>\r\n       <use x=\"63.623047\" xlink:href=\"#DejaVuSans-48\"/>\r\n      </g>\r\n     </g>\r\n    </g>\r\n    <g id=\"ytick_4\">\r\n     <g id=\"line2d_9\">\r\n      <g>\r\n       <use style=\"stroke:#000000;stroke-width:0.8;\" x=\"33.2875\" xlink:href=\"#m8d28bf5266\" y=\"138.347209\"/>\r\n      </g>\r\n     </g>\r\n     <g id=\"text_9\">\r\n      <!-- 60 -->\r\n      <defs>\r\n       <path d=\"M 33.015625 40.375 \r\nQ 26.375 40.375 22.484375 35.828125 \r\nQ 18.609375 31.296875 18.609375 23.390625 \r\nQ 18.609375 15.53125 22.484375 10.953125 \r\nQ 26.375 6.390625 33.015625 6.390625 \r\nQ 39.65625 6.390625 43.53125 10.953125 \r\nQ 47.40625 15.53125 47.40625 23.390625 \r\nQ 47.40625 31.296875 43.53125 35.828125 \r\nQ 39.65625 40.375 33.015625 40.375 \r\nz\r\nM 52.59375 71.296875 \r\nL 52.59375 62.3125 \r\nQ 48.875 64.0625 45.09375 64.984375 \r\nQ 41.3125 65.921875 37.59375 65.921875 \r\nQ 27.828125 65.921875 22.671875 59.328125 \r\nQ 17.53125 52.734375 16.796875 39.40625 \r\nQ 19.671875 43.65625 24.015625 45.921875 \r\nQ 28.375 48.1875 33.59375 48.1875 \r\nQ 44.578125 48.1875 50.953125 41.515625 \r\nQ 57.328125 34.859375 57.328125 23.390625 \r\nQ 57.328125 12.15625 50.6875 5.359375 \r\nQ 44.046875 -1.421875 33.015625 -1.421875 \r\nQ 20.359375 -1.421875 13.671875 8.265625 \r\nQ 6.984375 17.96875 6.984375 36.375 \r\nQ 6.984375 53.65625 15.1875 63.9375 \r\nQ 23.390625 74.21875 37.203125 74.21875 \r\nQ 40.921875 74.21875 44.703125 73.484375 \r\nQ 48.484375 72.75 52.59375 71.296875 \r\nz\r\n\" id=\"DejaVuSans-54\"/>\r\n      </defs>\r\n      <g transform=\"translate(13.5625 142.146427)scale(0.1 -0.1)\">\r\n       <use xlink:href=\"#DejaVuSans-54\"/>\r\n       <use x=\"63.623047\" xlink:href=\"#DejaVuSans-48\"/>\r\n      </g>\r\n     </g>\r\n    </g>\r\n    <g id=\"ytick_5\">\r\n     <g id=\"line2d_10\">\r\n      <g>\r\n       <use style=\"stroke:#000000;stroke-width:0.8;\" x=\"33.2875\" xlink:href=\"#m8d28bf5266\" y=\"111.707832\"/>\r\n      </g>\r\n     </g>\r\n     <g id=\"text_10\">\r\n      <!-- 80 -->\r\n      <defs>\r\n       <path d=\"M 31.78125 34.625 \r\nQ 24.75 34.625 20.71875 30.859375 \r\nQ 16.703125 27.09375 16.703125 20.515625 \r\nQ 16.703125 13.921875 20.71875 10.15625 \r\nQ 24.75 6.390625 31.78125 6.390625 \r\nQ 38.8125 6.390625 42.859375 10.171875 \r\nQ 46.921875 13.96875 46.921875 20.515625 \r\nQ 46.921875 27.09375 42.890625 30.859375 \r\nQ 38.875 34.625 31.78125 34.625 \r\nz\r\nM 21.921875 38.8125 \r\nQ 15.578125 40.375 12.03125 44.71875 \r\nQ 8.5 49.078125 8.5 55.328125 \r\nQ 8.5 64.0625 14.71875 69.140625 \r\nQ 20.953125 74.21875 31.78125 74.21875 \r\nQ 42.671875 74.21875 48.875 69.140625 \r\nQ 55.078125 64.0625 55.078125 55.328125 \r\nQ 55.078125 49.078125 51.53125 44.71875 \r\nQ 48 40.375 41.703125 38.8125 \r\nQ 48.828125 37.15625 52.796875 32.3125 \r\nQ 56.78125 27.484375 56.78125 20.515625 \r\nQ 56.78125 9.90625 50.3125 4.234375 \r\nQ 43.84375 -1.421875 31.78125 -1.421875 \r\nQ 19.734375 -1.421875 13.25 4.234375 \r\nQ 6.78125 9.90625 6.78125 20.515625 \r\nQ 6.78125 27.484375 10.78125 32.3125 \r\nQ 14.796875 37.15625 21.921875 38.8125 \r\nz\r\nM 18.3125 54.390625 \r\nQ 18.3125 48.734375 21.84375 45.5625 \r\nQ 25.390625 42.390625 31.78125 42.390625 \r\nQ 38.140625 42.390625 41.71875 45.5625 \r\nQ 45.3125 48.734375 45.3125 54.390625 \r\nQ 45.3125 60.0625 41.71875 63.234375 \r\nQ 38.140625 66.40625 31.78125 66.40625 \r\nQ 25.390625 66.40625 21.84375 63.234375 \r\nQ 18.3125 60.0625 18.3125 54.390625 \r\nz\r\n\" id=\"DejaVuSans-56\"/>\r\n      </defs>\r\n      <g transform=\"translate(13.5625 115.507051)scale(0.1 -0.1)\">\r\n       <use xlink:href=\"#DejaVuSans-56\"/>\r\n       <use x=\"63.623047\" xlink:href=\"#DejaVuSans-48\"/>\r\n      </g>\r\n     </g>\r\n    </g>\r\n    <g id=\"ytick_6\">\r\n     <g id=\"line2d_11\">\r\n      <g>\r\n       <use style=\"stroke:#000000;stroke-width:0.8;\" x=\"33.2875\" xlink:href=\"#m8d28bf5266\" y=\"85.068455\"/>\r\n      </g>\r\n     </g>\r\n     <g id=\"text_11\">\r\n      <!-- 100 -->\r\n      <defs>\r\n       <path d=\"M 12.40625 8.296875 \r\nL 28.515625 8.296875 \r\nL 28.515625 63.921875 \r\nL 10.984375 60.40625 \r\nL 10.984375 69.390625 \r\nL 28.421875 72.90625 \r\nL 38.28125 72.90625 \r\nL 38.28125 8.296875 \r\nL 54.390625 8.296875 \r\nL 54.390625 0 \r\nL 12.40625 0 \r\nz\r\n\" id=\"DejaVuSans-49\"/>\r\n      </defs>\r\n      <g transform=\"translate(7.2 88.867674)scale(0.1 -0.1)\">\r\n       <use xlink:href=\"#DejaVuSans-49\"/>\r\n       <use x=\"63.623047\" xlink:href=\"#DejaVuSans-48\"/>\r\n       <use x=\"127.246094\" xlink:href=\"#DejaVuSans-48\"/>\r\n      </g>\r\n     </g>\r\n    </g>\r\n    <g id=\"ytick_7\">\r\n     <g id=\"line2d_12\">\r\n      <g>\r\n       <use style=\"stroke:#000000;stroke-width:0.8;\" x=\"33.2875\" xlink:href=\"#m8d28bf5266\" y=\"58.429079\"/>\r\n      </g>\r\n     </g>\r\n     <g id=\"text_12\">\r\n      <!-- 120 -->\r\n      <g transform=\"translate(7.2 62.228297)scale(0.1 -0.1)\">\r\n       <use xlink:href=\"#DejaVuSans-49\"/>\r\n       <use x=\"63.623047\" xlink:href=\"#DejaVuSans-50\"/>\r\n       <use x=\"127.246094\" xlink:href=\"#DejaVuSans-48\"/>\r\n      </g>\r\n     </g>\r\n    </g>\r\n    <g id=\"ytick_8\">\r\n     <g id=\"line2d_13\">\r\n      <g>\r\n       <use style=\"stroke:#000000;stroke-width:0.8;\" x=\"33.2875\" xlink:href=\"#m8d28bf5266\" y=\"31.789702\"/>\r\n      </g>\r\n     </g>\r\n     <g id=\"text_13\">\r\n      <!-- 140 -->\r\n      <g transform=\"translate(7.2 35.588921)scale(0.1 -0.1)\">\r\n       <use xlink:href=\"#DejaVuSans-49\"/>\r\n       <use x=\"63.623047\" xlink:href=\"#DejaVuSans-52\"/>\r\n       <use x=\"127.246094\" xlink:href=\"#DejaVuSans-48\"/>\r\n      </g>\r\n     </g>\r\n    </g>\r\n   </g>\r\n   <g id=\"line2d_14\">\r\n    <path clip-path=\"url(#p1da36e8763)\" d=\"M 48.505682 218.256364 \r\nL 51.580062 218.25541 \r\nL 54.654442 218.254354 \r\nL 57.728822 218.253187 \r\nL 60.803202 218.251895 \r\nL 63.877583 218.250467 \r\nL 66.951963 218.248886 \r\nL 70.026343 218.247137 \r\nL 73.100723 218.245203 \r\nL 76.175103 218.243062 \r\nL 79.249483 218.240695 \r\nL 82.323864 218.238076 \r\nL 85.398244 218.235178 \r\nL 88.472624 218.231972 \r\nL 91.547004 218.228426 \r\nL 94.621384 218.224502 \r\nL 97.695764 218.220162 \r\nL 100.770145 218.21536 \r\nL 103.844525 218.210048 \r\nL 106.918905 218.204172 \r\nL 109.993285 218.19767 \r\nL 113.067665 218.190478 \r\nL 116.142045 218.182521 \r\nL 119.216426 218.173719 \r\nL 122.290806 218.163981 \r\nL 125.365186 218.153208 \r\nL 128.439566 218.141289 \r\nL 131.513946 218.128105 \r\nL 134.588326 218.113518 \r\nL 137.662707 218.097382 \r\nL 140.737087 218.07953 \r\nL 143.811467 218.059781 \r\nL 146.885847 218.037932 \r\nL 149.960227 218.013762 \r\nL 153.034607 217.987022 \r\nL 156.108988 217.957441 \r\nL 159.183368 217.924715 \r\nL 162.257748 217.888511 \r\nL 165.332128 217.848459 \r\nL 168.406508 217.80415 \r\nL 171.480888 217.755131 \r\nL 174.555269 217.700902 \r\nL 177.629649 217.640909 \r\nL 180.704029 217.57454 \r\nL 183.778409 217.501117 \r\nL 186.852789 217.419889 \r\nL 189.927169 217.330028 \r\nL 193.00155 217.230616 \r\nL 196.07593 217.120638 \r\nL 199.15031 216.99897 \r\nL 202.22469 216.864371 \r\nL 205.29907 216.715465 \r\nL 208.37345 216.550732 \r\nL 211.447831 216.36849 \r\nL 214.522211 216.166879 \r\nL 217.596591 215.943838 \r\nL 220.670971 215.697091 \r\nL 223.745351 215.424117 \r\nL 226.819731 215.12213 \r\nL 229.894112 214.788045 \r\nL 232.968492 214.418451 \r\nL 236.042872 214.009574 \r\nL 239.117252 213.557238 \r\nL 242.191632 213.056825 \r\nL 245.266012 212.503223 \r\nL 248.340393 211.89078 \r\nL 251.414773 211.213243 \r\nL 254.489153 210.463691 \r\nL 257.563533 209.634471 \r\nL 260.637913 208.717115 \r\nL 263.712293 207.702255 \r\nL 266.786674 206.579528 \r\nL 269.861054 205.337468 \r\nL 272.935434 203.963393 \r\nL 276.009814 202.443271 \r\nL 279.084194 200.761578 \r\nL 282.158574 198.901141 \r\nL 285.232955 196.842963 \r\nL 288.307335 194.566026 \r\nL 291.381715 192.047077 \r\nL 294.456095 189.260396 \r\nL 297.530475 186.177524 \r\nL 300.604855 182.76698 \r\nL 303.679236 178.993937 \r\nL 306.753616 174.819865 \r\nL 309.827996 170.202141 \r\nL 312.902376 165.093609 \r\nL 315.976756 159.442102 \r\nL 319.051136 153.189908 \r\nL 322.125517 146.273183 \r\nL 325.199897 138.621294 \r\nL 328.274277 130.156102 \r\nL 331.348657 120.791164 \r\nL 334.423037 110.430847 \r\nL 337.497417 98.969354 \r\nL 340.571798 86.289645 \r\nL 343.646178 72.262236 \r\nL 346.720558 56.743885 \r\nL 349.794938 39.576123 \r\nL 352.869318 20.583636 \r\n\" style=\"fill:none;stroke:#1f77b4;stroke-linecap:square;stroke-width:1.5;\"/>\r\n   </g>\r\n   <g id=\"patch_3\">\r\n    <path d=\"M 33.2875 228.14 \r\nL 33.2875 10.7 \r\n\" style=\"fill:none;stroke:#000000;stroke-linecap:square;stroke-linejoin:miter;stroke-width:0.8;\"/>\r\n   </g>\r\n   <g id=\"patch_4\">\r\n    <path d=\"M 368.0875 228.14 \r\nL 368.0875 10.7 \r\n\" style=\"fill:none;stroke:#000000;stroke-linecap:square;stroke-linejoin:miter;stroke-width:0.8;\"/>\r\n   </g>\r\n   <g id=\"patch_5\">\r\n    <path d=\"M 33.2875 228.14 \r\nL 368.0875 228.14 \r\n\" style=\"fill:none;stroke:#000000;stroke-linecap:square;stroke-linejoin:miter;stroke-width:0.8;\"/>\r\n   </g>\r\n   <g id=\"patch_6\">\r\n    <path d=\"M 33.2875 10.7 \r\nL 368.0875 10.7 \r\n\" style=\"fill:none;stroke:#000000;stroke-linecap:square;stroke-linejoin:miter;stroke-width:0.8;\"/>\r\n   </g>\r\n  </g>\r\n </g>\r\n <defs>\r\n  <clipPath id=\"p1da36e8763\">\r\n   <rect height=\"217.44\" width=\"334.8\" x=\"33.2875\" y=\"10.7\"/>\r\n  </clipPath>\r\n </defs>\r\n</svg>\r\n",
      "image/png": "[encoded data removed]"
     },
     "metadata": {
      "needs_background": "light"
     }
    }
   ],
   "source": [
    "# exp関数\n",
    "x = np.linspace(-5,5,100)\n",
    "y = np.exp(x)\n",
    "plt.plot(x,y)\n",
    "plt.show()"
   ]
  },
  {
   "cell_type": "markdown",
   "metadata": {
    "ExecuteTime": {
     "end_time": "2018-03-30T00:14:48.802011Z",
     "start_time": "2018-03-30T00:14:48.636003Z"
    }
   },
   "source": [
    "### ソフトマックス関数実装上の注意\n",
    "指数関数の値が大きくなり、オーバーフローを起こす可能性がある。例えば、"
   ]
  },
  {
   "cell_type": "code",
   "execution_count": 3,
   "metadata": {
    "ExecuteTime": {
     "end_time": "2018-03-30T00:26:50.090829Z",
     "start_time": "2018-03-30T00:26:50.077331Z"
    }
   },
   "outputs": [
    {
     "output_type": "stream",
     "name": "stdout",
     "text": [
      "2.3538526683702e+17\n2.6881171418161356e+43\ninf\n"
     ]
    }
   ],
   "source": [
    "print(np.exp(40))\n",
    "print(np.exp(100))\n",
    "print(np.exp(1000))"
   ]
  },
  {
   "cell_type": "markdown",
   "metadata": {},
   "source": [
    "これを回避する方法の一つとして、入力信号の最大値を引くという方法がある。  \n",
    "ここでもその方法で実装することにする。"
   ]
  },
  {
   "cell_type": "markdown",
   "metadata": {},
   "source": [
    "### [演習]\n",
    "- 以下のソフトマックス関数を完成させましょう"
   ]
  },
  {
   "cell_type": "code",
   "execution_count": 4,
   "metadata": {
    "ExecuteTime": {
     "end_time": "2018-03-30T00:33:46.920402Z",
     "start_time": "2018-03-30T00:33:46.911373Z"
    }
   },
   "outputs": [],
   "source": [
    "def softmax_1(x):    \n",
    "    \"\"\"\n",
    "    オーバーフロー対策なしの場合\n",
    "    \"\"\"    \n",
    "    return np.exp(x)/np.exp(x).sum()\n",
    "\n",
    "def softmax_2(x):\n",
    "    \"\"\"\n",
    "    オーバーフロー対策ありの場合\n",
    "    \"\"\"\n",
    "    return softmax_1(x-x.max()) "
   ]
  },
  {
   "cell_type": "code",
   "execution_count": 5,
   "metadata": {
    "ExecuteTime": {
     "end_time": "2018-03-30T00:33:47.073526Z",
     "start_time": "2018-03-30T00:33:47.041044Z"
    },
    "scrolled": true
   },
   "outputs": [
    {
     "output_type": "stream",
     "name": "stdout",
     "text": [
      "[0.09003057 0.24472847 0.66524096]\n合計= 1.0\n[0.09003057 0.24472847 0.66524096]\n合計= 0.9999999999999999\n"
     ]
    }
   ],
   "source": [
    "x = np.array([1.0, 2.0, 3.0])\n",
    "\n",
    "# オーバーフロー対策なしの場合\n",
    "y = softmax_1(x)\n",
    "print(y)\n",
    "# 合計が1になることの確認\n",
    "print(\"合計=\", np.sum(y))\n",
    "\n",
    "# オーバーフロー対策ありの場合\n",
    "y = softmax_2(x)\n",
    "print(y)\n",
    "# 合計が1になることの確認\n",
    "print(\"合計=\", np.sum(y))"
   ]
  },
  {
   "cell_type": "markdown",
   "metadata": {},
   "source": [
    "* 最大値を引いても還り値は同じであることがわかる"
   ]
  },
  {
   "cell_type": "markdown",
   "metadata": {},
   "source": [
    "### [演習]\n",
    "* 上記セルのxの配列に大きな値を入れて、オーバーフローを発生させてみましょう。"
   ]
  },
  {
   "cell_type": "code",
   "execution_count": 7,
   "metadata": {},
   "outputs": [
    {
     "output_type": "stream",
     "name": "stdout",
     "text": [
      "[nan nan nan] [0. 0. 1.]\n"
     ]
    }
   ],
   "source": [
    "x=np.array([1e4,1e6,1e8])\n",
    "y1=softmax_1(x)\n",
    "y2=softmax_2(x)\n",
    "print(y1,y2)"
   ]
  },
  {
   "cell_type": "markdown",
   "metadata": {},
   "source": [
    "### [演習]\n",
    "* 以下のセルの実行結果をみながら、ソフトマックス関数の特徴を考察してみましょう。\n",
    "* expしてから正規化するのではなく、単純に正規化するとどうなりますか？(冒頭の問い)\n",
    "* expしてから正規化するのではなく、シグモイド関数に通してから正規化するとどうなりますか？"
   ]
  },
  {
   "cell_type": "code",
   "execution_count": 8,
   "metadata": {},
   "outputs": [
    {
     "output_type": "stream",
     "name": "stdout",
     "text": [
      "x= [1 0 2]\nソフトマックス= [0.245 0.09  0.665]\n単純な正規化= [0.333 0.    0.667]\nシグモイド関数を通した後に正規化= [0.346 0.237 0.417]\n\nx= [ 5  0 10]\nソフトマックス= [0.007 0.    0.993]\n単純な正規化= [0.333 0.    0.667]\nシグモイド関数を通した後に正規化= [0.398 0.201 0.401]\n\nx= [105 100 110]\nソフトマックス= [0.007 0.    0.993]\n単純な正規化= [0.333 0.317 0.349]\nシグモイド関数を通した後に正規化= [0.333 0.333 0.333]\n\nx= [ 50   0 100]\nソフトマックス= [0. 0. 1.]\n単純な正規化= [0.333 0.    0.667]\nシグモイド関数を通した後に正規化= [0.4 0.2 0.4]\n\nx= [-50   0   1]\nソフトマックス= [0.    0.269 0.731]\n単純な正規化= [ 1.02 -0.   -0.02]\nシグモイド関数を通した後に正規化= [0.    0.406 0.594]\n\nx= [-50   0  10]\nソフトマックス= [0. 0. 1.]\n単純な正規化= [ 1.25 -0.   -0.25]\nシグモイド関数を通した後に正規化= [0.    0.333 0.667]\n"
     ]
    }
   ],
   "source": [
    "def sigmoid(x):\n",
    "    return 1 / (1+ np.exp(-x))\n",
    "\n",
    "\n",
    "x = np.array([1, 0, 2])\n",
    "print(\"x=\", x)\n",
    "print(\"ソフトマックス=\", softmax_2(x).round(3))\n",
    "print(\"単純な正規化=\", (x/np.sum(x)).round(3))\n",
    "print(\"シグモイド関数を通した後に正規化=\", (sigmoid(x)/sigmoid(x).sum()).round(3))\n",
    "print()\n",
    "x = np.array([5, 0, 10])\n",
    "print(\"x=\", x)\n",
    "print(\"ソフトマックス=\", softmax_2(x).round(3))\n",
    "print(\"単純な正規化=\", (x/np.sum(x)).round(3))\n",
    "print(\"シグモイド関数を通した後に正規化=\", (sigmoid(x)/sigmoid(x).sum()).round(3))\n",
    "print()\n",
    "x = np.array([5+100, 0+100, 10+100])\n",
    "print(\"x=\", x)\n",
    "print(\"ソフトマックス=\", softmax_2(x).round(3))\n",
    "print(\"単純な正規化=\", (x/np.sum(x)).round(3))\n",
    "print(\"シグモイド関数を通した後に正規化=\", (sigmoid(x)/sigmoid(x).sum()).round(3))\n",
    "print()\n",
    "x = np.array([50, 0, 100])\n",
    "print(\"x=\", x)\n",
    "print(\"ソフトマックス=\", softmax_2(x).round(3))\n",
    "print(\"単純な正規化=\", (x/np.sum(x)).round(3))\n",
    "print(\"シグモイド関数を通した後に正規化=\", (sigmoid(x)/sigmoid(x).sum()).round(3))\n",
    "print()\n",
    "x = np.array([-50, 0, 1])\n",
    "print(\"x=\", x)\n",
    "print(\"ソフトマックス=\", softmax_2(x).round(3))\n",
    "print(\"単純な正規化=\", (x/np.sum(x)).round(3))\n",
    "print(\"シグモイド関数を通した後に正規化=\", (sigmoid(x)/sigmoid(x).sum()).round(3))\n",
    "print()\n",
    "x = np.array([-50, 0, 10])\n",
    "print(\"x=\", x)\n",
    "print(\"ソフトマックス=\", softmax_2(x).round(3))\n",
    "print(\"単純な正規化=\", (x/np.sum(x)).round(3))\n",
    "print(\"シグモイド関数を通した後に正規化=\", (sigmoid(x)/sigmoid(x).sum()).round(3))"
   ]
  },
  {
   "cell_type": "markdown",
   "metadata": {},
   "source": [
    "\n",
    "\n",
    "### [演習]\n",
    "* オーバーフロー対策ありソフトマックス関数のxに大きな値が入ってもエラーが出ずに計算できることを確認しましょう。"
   ]
  },
  {
   "cell_type": "markdown",
   "metadata": {},
   "source": [
    "## ソフトマックス関数のバッチ対応"
   ]
  },
  {
   "cell_type": "markdown",
   "metadata": {},
   "source": [
    "### [演習]\n",
    "- 複数データをまとめて処理することをバッチ処理と言います。\n",
    "- ソフトマックス関数をバッチ対応させましょう。\n",
    "- 以下のソフトマックス関数を完成させてください。"
   ]
  },
  {
   "cell_type": "code",
   "execution_count": 9,
   "metadata": {},
   "outputs": [
    {
     "output_type": "stream",
     "name": "stdout",
     "text": [
      "[[1. 4.]\n [2. 3.]\n [3. 2.]]\n\n[3. 4.]\n\n[[ 2.71828183 54.59815003]\n [ 7.3890561  20.08553692]\n [20.08553692  7.3890561 ]]\n\n[30.19287485 82.07274306]\n"
     ]
    }
   ],
   "source": [
    "# ヒント\n",
    "x = np.array([[1.0, 2.0, 3.0],\n",
    "                        [4.0, 3.0, 2.0]])\n",
    "print(x.T)\n",
    "print()\n",
    "x = x.T\n",
    "print(np.max(x, axis=0))\n",
    "print()\n",
    "print(np.exp(x))\n",
    "print()\n",
    "print(np.sum(np.exp(x), axis=0))"
   ]
  },
  {
   "cell_type": "code",
   "execution_count": 26,
   "metadata": {},
   "outputs": [],
   "source": [
    "def softmax(x):\n",
    "    if x.ndim == 2:\n",
    "        x=x.T\n",
    "        x-=x.max(axis=0)\n",
    "        y=np.exp(x)/np.exp(x).sum(axis=0)\n",
    "        return y.T\n",
    "    x = x - np.max(x) # オーバーフロー対策\n",
    "    return np.exp(x) / np.sum(np.exp(x))\n",
    "\n",
    "def softmax2(x):\n",
    "    if x.ndim == 2:\n",
    "        return np.vstack([softmax2(x[0]),softmax2(x[1])])\n",
    "\n",
    "    x = x - np.max(x) # オーバーフロー対策\n",
    "    return np.exp(x) / np.sum(np.exp(x))"
   ]
  },
  {
   "cell_type": "code",
   "execution_count": 28,
   "metadata": {},
   "outputs": [
    {
     "output_type": "stream",
     "name": "stdout",
     "text": [
      "y1=\n[[0.09003057 0.24472847 0.66524096]\n [0.66524096 0.24472847 0.09003057]]\ny1の合計=\n[1. 1.]\ny2=\n[[0.09003057 0.24472847 0.66524096]\n [0.66524096 0.24472847 0.09003057]]\ny2の合計=\n[1. 1.]\n"
     ]
    }
   ],
   "source": [
    "\n",
    "# 入力[1.0, 2.0, 3.0]に対するソフトマックスと入力[4.0, 3.0, 2.0]に対するソフトマックスを計算できるようにすること\n",
    "\n",
    "x = np.array([[1.0, 2.0, 3.0],\n",
    "                        [4.0, 3.0, 2.0]])#*10000\n",
    "y1 = softmax(x)\n",
    "print(\"y1=\")\n",
    "print(y1)\n",
    "print(\"y1の合計=\")\n",
    "print(y1.sum(axis=1))\n",
    "\n",
    "y2 = softmax2(x)\n",
    "print(\"y2=\")\n",
    "print(y2)\n",
    "print(\"y2の合計=\")\n",
    "print(y2.sum(axis=1))"
   ]
  },
  {
   "cell_type": "code",
   "execution_count": 25,
   "metadata": {},
   "outputs": [
    {
     "output_type": "execute_result",
     "data": {
      "text/plain": [
       "array([30000., 40000.])"
      ]
     },
     "metadata": {},
     "execution_count": 25
    }
   ],
   "source": [
    "x.max(axis=1)"
   ]
  },
  {
   "cell_type": "code",
   "execution_count": null,
   "metadata": {},
   "outputs": [],
   "source": []
  }
 ],
 "metadata": {
  "kernelspec": {
   "display_name": "Python 3",
   "language": "python",
   "name": "python3"
  },
  "language_info": {
   "codemirror_mode": {
    "name": "ipython",
    "version": 3
   },
   "file_extension": ".py",
   "mimetype": "text/x-python",
   "name": "python",
   "nbconvert_exporter": "python",
   "pygments_lexer": "ipython3",
   "version": "3.7.3-final"
  }
 },
 "nbformat": 4,
 "nbformat_minor": 2
}