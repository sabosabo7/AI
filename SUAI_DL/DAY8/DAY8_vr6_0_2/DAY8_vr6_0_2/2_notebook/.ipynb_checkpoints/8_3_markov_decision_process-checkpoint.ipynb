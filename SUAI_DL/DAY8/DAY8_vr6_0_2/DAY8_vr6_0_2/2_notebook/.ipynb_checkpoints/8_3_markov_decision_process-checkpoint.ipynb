{
 "cells": [
  {
   "cell_type": "markdown",
   "metadata": {},
   "source": [
    "# マルコフ決定過程の考え方を迷路問題を用いて確認する"
   ]
  },
  {
   "cell_type": "code",
   "execution_count": 1,
   "metadata": {},
   "outputs": [],
   "source": [
    "import numpy as np\n",
    "import pandas as pd\n",
    "import matplotlib.pyplot as plt\n",
    "from common.meiro import State, Action, Environment"
   ]
  },
  {
   "cell_type": "code",
   "execution_count": 2,
   "metadata": {},
   "outputs": [],
   "source": [
    "class Agent():\n",
    "    \"\"\"\n",
    "    エージェントのクラス\n",
    "    \"\"\"\n",
    "    def __init__(self, env):\n",
    "        self.actions = env.actions\n",
    "\n",
    "    def policy(self, state):\n",
    "        \"\"\"\n",
    "        方策関数\n",
    "        \"\"\"\n",
    "        # 仮のエージェントであるため、stateを使わずに\n",
    "        # 次の行動を全くのランダムに選択する\n",
    "        return np.random.choice(self.actions)"
   ]
  },
  {
   "cell_type": "markdown",
   "metadata": {},
   "source": [
    "## 実行"
   ]
  },
  {
   "cell_type": "code",
   "execution_count": 3,
   "metadata": {
    "scrolled": true
   },
   "outputs": [
    {
     "name": "stdout",
     "output_type": "stream",
     "text": [
      "Episode 0: Agent gets 0.6799999999999999 reward.\n",
      "Episode 1: Agent gets -2.3200000000000003 reward.\n",
      "Episode 2: Agent gets -2.0 reward.\n",
      "Episode 3: Agent gets -6.400000000000004 reward.\n",
      "Episode 4: Agent gets 0.92 reward.\n",
      "Episode 5: Agent gets -1.56 reward.\n",
      "Episode 6: Agent gets -2.12 reward.\n",
      "Episode 7: Agent gets -0.16000000000000036 reward.\n",
      "Episode 8: Agent gets -2.2 reward.\n",
      "Episode 9: Agent gets -2.3200000000000003 reward.\n",
      "Episode 10: Agent gets -0.04000000000000026 reward.\n",
      "Episode 11: Agent gets -1.32 reward.\n",
      "Episode 12: Agent gets -4.720000000000002 reward.\n",
      "Episode 13: Agent gets -2.12 reward.\n",
      "Episode 14: Agent gets 0.64 reward.\n",
      "Episode 15: Agent gets 0.4 reward.\n",
      "Episode 16: Agent gets -0.6400000000000008 reward.\n",
      "Episode 17: Agent gets -1.120000000000001 reward.\n",
      "Episode 18: Agent gets -3.000000000000001 reward.\n",
      "Episode 19: Agent gets -2.400000000000002 reward.\n",
      "Episode 20: Agent gets -2.4800000000000004 reward.\n",
      "Episode 21: Agent gets -0.6800000000000008 reward.\n",
      "Episode 22: Agent gets 0.8 reward.\n",
      "Episode 23: Agent gets -1.16 reward.\n",
      "Episode 24: Agent gets -2.3600000000000003 reward.\n",
      "Episode 25: Agent gets -7.560000000000005 reward.\n",
      "Episode 26: Agent gets 0.64 reward.\n",
      "Episode 27: Agent gets -5.320000000000005 reward.\n",
      "Episode 28: Agent gets 0.72 reward.\n",
      "Episode 29: Agent gets -1.3599999999999999 reward.\n",
      "Episode 30: Agent gets 0.4800000000000001 reward.\n",
      "Episode 31: Agent gets -1.3599999999999999 reward.\n",
      "Episode 32: Agent gets -3.7200000000000015 reward.\n",
      "Episode 33: Agent gets -2.320000000000002 reward.\n",
      "Episode 34: Agent gets 0.88 reward.\n",
      "Episode 35: Agent gets -1.44 reward.\n",
      "Episode 36: Agent gets 0.8 reward.\n",
      "Episode 37: Agent gets -2.2800000000000002 reward.\n",
      "Episode 38: Agent gets -2.8000000000000007 reward.\n",
      "Episode 39: Agent gets -5.840000000000003 reward.\n",
      "Episode 40: Agent gets 0.64 reward.\n",
      "Episode 41: Agent gets 0.31999999999999995 reward.\n",
      "Episode 42: Agent gets -1.240000000000001 reward.\n",
      "Episode 43: Agent gets 0.11999999999999977 reward.\n",
      "Episode 44: Agent gets -1.16 reward.\n",
      "Episode 45: Agent gets -1.7200000000000002 reward.\n",
      "Episode 46: Agent gets -2.6800000000000024 reward.\n",
      "Episode 47: Agent gets 0.4800000000000001 reward.\n",
      "Episode 48: Agent gets -0.36000000000000054 reward.\n",
      "Episode 49: Agent gets -0.24000000000000044 reward.\n",
      "Episode 50: Agent gets -2.2 reward.\n",
      "Episode 51: Agent gets 0.84 reward.\n",
      "Episode 52: Agent gets 0.6799999999999999 reward.\n",
      "Episode 53: Agent gets 0.1599999999999998 reward.\n",
      "Episode 54: Agent gets 0.2799999999999999 reward.\n",
      "Episode 55: Agent gets -1.6 reward.\n",
      "Episode 56: Agent gets 0.64 reward.\n",
      "Episode 57: Agent gets -1.52 reward.\n",
      "Episode 58: Agent gets -1.9200000000000004 reward.\n",
      "Episode 59: Agent gets 0.76 reward.\n",
      "Episode 60: Agent gets -2.6400000000000006 reward.\n",
      "Episode 61: Agent gets -0.28000000000000047 reward.\n",
      "Episode 62: Agent gets -2.0 reward.\n",
      "Episode 63: Agent gets 0.64 reward.\n",
      "Episode 64: Agent gets -2.5200000000000005 reward.\n",
      "Episode 65: Agent gets -2.3200000000000003 reward.\n",
      "Episode 66: Agent gets -2.7600000000000007 reward.\n",
      "Episode 67: Agent gets 0.1599999999999998 reward.\n",
      "Episode 68: Agent gets 0.84 reward.\n",
      "Episode 69: Agent gets 0.31999999999999995 reward.\n",
      "Episode 70: Agent gets 0.23999999999999988 reward.\n",
      "Episode 71: Agent gets 0.52 reward.\n",
      "Episode 72: Agent gets -2.12 reward.\n",
      "Episode 73: Agent gets -0.7600000000000009 reward.\n",
      "Episode 74: Agent gets -2.6400000000000006 reward.\n",
      "Episode 75: Agent gets -1.9200000000000004 reward.\n",
      "Episode 76: Agent gets -1.56 reward.\n",
      "Episode 77: Agent gets 0.23999999999999988 reward.\n",
      "Episode 78: Agent gets 0.1599999999999998 reward.\n",
      "Episode 79: Agent gets -4.080000000000002 reward.\n",
      "Episode 80: Agent gets 0.6000000000000001 reward.\n",
      "Episode 81: Agent gets -4.600000000000002 reward.\n",
      "Episode 82: Agent gets -1.32 reward.\n",
      "Episode 83: Agent gets -0.6400000000000008 reward.\n",
      "Episode 84: Agent gets -1.3599999999999999 reward.\n",
      "Episode 85: Agent gets 0.64 reward.\n",
      "Episode 86: Agent gets -3.360000000000001 reward.\n",
      "Episode 87: Agent gets -0.4400000000000006 reward.\n",
      "Episode 88: Agent gets -1.32 reward.\n",
      "Episode 89: Agent gets -1.12 reward.\n",
      "Episode 90: Agent gets -1.9600000000000004 reward.\n",
      "Episode 91: Agent gets -2.2800000000000002 reward.\n",
      "Episode 92: Agent gets 0.76 reward.\n",
      "Episode 93: Agent gets -0.2000000000000004 reward.\n",
      "Episode 94: Agent gets -1.6800000000000002 reward.\n",
      "Episode 95: Agent gets 0.56 reward.\n",
      "Episode 96: Agent gets -1.4 reward.\n",
      "Episode 97: Agent gets -1.6800000000000002 reward.\n",
      "Episode 98: Agent gets -2.3200000000000003 reward.\n",
      "Episode 99: Agent gets -3.4800000000000013 reward.\n"
     ]
    }
   ],
   "source": [
    "# 迷路の条件を設定する\n",
    "grid = np.array([\n",
    "                            [0, 0, 0, 1],\n",
    "                            [0, 9, 0, -1],\n",
    "                            [0, 0, 0, 0]\n",
    "                        ])\n",
    "\n",
    "# 環境をつくる\n",
    "env = Environment(grid, move_prob=0.95, agent_init_state=(0,0))\n",
    "\n",
    "# エージェントをつくる\n",
    "agent = Agent(env)\n",
    "\n",
    "# エピソード回数を設定する\n",
    "num_episode = 100\n",
    "\n",
    "# 迷路ゲームを実行する\n",
    "li_total_rewards = []\n",
    "for e in range(num_episode):\n",
    "\n",
    "    # エージェントの初期位置を決める\n",
    "    state = env.reset()\n",
    "    \n",
    "    # 報酬の合計を初期化する\n",
    "    total_reward = 0\n",
    "    \n",
    "    # エピソード終了フラグを初期化\n",
    "    done = False\n",
    "\n",
    "    while not done:\n",
    "        \"\"\"\n",
    "        1エピソードのループ\n",
    "        \"\"\"\n",
    "        # 次の行動を選択する\n",
    "        action = agent.policy(state)\n",
    "        \n",
    "        # その行動を実際にとってみてみると、次の状態と獲得報酬額がわかる\n",
    "        next_state, reward, done = env.step(action)\n",
    "        \n",
    "        # 報酬を積算する\n",
    "        total_reward += reward\n",
    "        \n",
    "        # 状態を更新する\n",
    "        state = next_state\n",
    "\n",
    "    print(\"Episode {}: Agent gets {} reward.\".format(e, total_reward))\n",
    "    li_total_rewards.append(total_reward)\n",
    "\n",
    "    \n"
   ]
  },
  {
   "cell_type": "markdown",
   "metadata": {},
   "source": [
    "## 結果の可視化"
   ]
  },
  {
   "cell_type": "code",
   "execution_count": 4,
   "metadata": {},
   "outputs": [
    {
     "data": {
      "image/png": "[encoded data removed]",
      "text/plain": [
       "<Figure size 432x288 with 1 Axes>"
      ]
     },
     "metadata": {
      "needs_background": "light"
     },
     "output_type": "display_data"
    }
   ],
   "source": [
    "# グラフ\n",
    "pd.DataFrame({\"total_reward\":li_total_rewards}).plot()\n",
    "plt.ylabel(\"total reward\")\n",
    "plt.xlabel(\"episode\")\n",
    "plt.show()        "
   ]
  },
  {
   "cell_type": "markdown",
   "metadata": {},
   "source": [
    "### [演習]\n",
    "* 上記のコードには、方策関数を学習させる仕組みが入っていないため、エピソードをなんど繰り返しても報酬合計は大きくなりません\n",
    "* 方策関数をかしこくするには、どのような考え方を導入すればいいでしょうか？ "
   ]
  },
  {
   "cell_type": "code",
   "execution_count": null,
   "metadata": {},
   "outputs": [],
   "source": []
  }
 ],
 "metadata": {
  "kernelspec": {
   "display_name": "Python 3",
   "language": "python",
   "name": "python3"
  },
  "language_info": {
   "codemirror_mode": {
    "name": "ipython",
    "version": 3
   },
   "file_extension": ".py",
   "mimetype": "text/x-python",
   "name": "python",
   "nbconvert_exporter": "python",
   "pygments_lexer": "ipython3",
   "version": "3.7.3"
  }
 },
 "nbformat": 4,
 "nbformat_minor": 2
}
