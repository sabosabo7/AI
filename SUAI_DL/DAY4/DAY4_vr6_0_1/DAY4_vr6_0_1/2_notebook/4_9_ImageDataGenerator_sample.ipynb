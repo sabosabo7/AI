{
 "cells": [
  {
   "cell_type": "markdown",
   "metadata": {},
   "source": [
    "# ImageDataGeneratorを用いたデータ拡張\n",
    "https://keras.io/preprocessing/image/"
   ]
  },
  {
   "cell_type": "code",
   "execution_count": 1,
   "metadata": {},
   "outputs": [
    {
     "output_type": "stream",
     "name": "stderr",
     "text": [
      "Using TensorFlow backend.\n"
     ]
    }
   ],
   "source": [
    "import numpy as np\n",
    "from PIL import Image\n",
    "from keras.preprocessing.image import ImageDataGenerator\n",
    "import sklearn.preprocessing as sp\n",
    "import pandas as pd"
   ]
  },
  {
   "cell_type": "markdown",
   "metadata": {},
   "source": [
    "## numpy形式の画像を拡張する場合"
   ]
  },
  {
   "cell_type": "code",
   "execution_count": 2,
   "metadata": {},
   "outputs": [],
   "source": [
    "def onehot_to_str(label):\n",
    "    \"\"\"\n",
    "    ワンホットベクトル形式のラベルをカタカナ文字に変換する\n",
    "    \"\"\"\n",
    "    dic_katakana = {\"a\":0,\"i\":1,\"u\":2,\"e\":3,\"o\":4,\"ka\":5,\"ki\":6,\"ku\":7,\"ke\":8,\"ko\":9,\"sa\":10,\"si\":11,\"su\":12,\"se\":13,\"so\":14}\n",
    "    label_int = np.argmax(label)\n",
    "    for key, value in dic_katakana.items():\n",
    "        if value==label_int:\n",
    "            return key\n",
    "    \n",
    "\n",
    "#画像読み込み\n",
    "data = np.load(\"../../../../DAY1/DAY1_vr6_0_0/DAY1_vr6_0_0/4_kadai/1_data/train_data.npy\")  # パスは適宜変更すること\n",
    "label = np.load(\"../../../../DAY1/DAY1_vr6_0_0/DAY1_vr6_0_0/4_kadai/1_data/train_label.npy\")  # パスは適宜変更すること\n"
   ]
  },
  {
   "cell_type": "code",
   "execution_count": 10,
   "metadata": {},
   "outputs": [],
   "source": [
    "# add_data=np.empty((0,28,28,1))\n",
    "# add_label=np.empty(0)\n",
    "for t in range(data.shape[0]):\n",
    "    _data = data[[t]]\n",
    "    _label = label[[t]]\n",
    "    _label = onehot_to_str(_label)\n",
    "            \n",
    "    # 軸をN,H,W,Cに入れ替え\n",
    "    _data = _data.transpose(0,2,3,1)\n",
    "\n",
    "    # ImageDataGeneratorのオブジェクト生成\n",
    "    datagen = ImageDataGenerator(\n",
    "            rescale=1./255,\n",
    "            shear_range=0.1,\n",
    "            zoom_range=[1,1.5],\n",
    "            rotation_range=10,\n",
    "            horizontal_flip=False,\n",
    "            vertical_flip=False,\n",
    "            fill_mode=\"constant\",cval=255)\n",
    "\n",
    "    # 生成後枚数\n",
    "    num_image = 10\n",
    "\n",
    "    # 生成\n",
    "    g = datagen.flow(_data, batch_size=1, save_to_dir=\"../1_data/temp7/\",\n",
    "                    save_format='png', save_prefix='out_%s_from_npy_'%_label)\n",
    "    for i in range(num_image):\n",
    "            batches = g.next()\n",
    "\n"
   ]
  },
  {
   "cell_type": "code",
   "execution_count": 11,
   "metadata": {},
   "outputs": [],
   "source": [
    "import matplotlib.pyplot as plt\n",
    "from matplotlib import cm\n",
    "import glob"
   ]
  },
  {
   "cell_type": "code",
   "execution_count": 12,
   "metadata": {},
   "outputs": [
    {
     "output_type": "execute_result",
     "data": {
      "text/plain": [
       "((27231, 1, 28, 28), (27231,))"
      ]
     },
     "metadata": {},
     "execution_count": 12
    }
   ],
   "source": [
    "l=glob.glob('../1_data/temp7/*.png')\n",
    "add_label=np.empty(len(l),dtype=object)\n",
    "add_data=np.empty((len(l),1,28,28))\n",
    "\n",
    "for  i in range(len(l)):\n",
    "    pixel = 28\n",
    "    fname = l[i][15:]\n",
    "    idx = fname.split(\"_\")[1]\n",
    "    num_image = 1 # 画像枚数\n",
    "    channel = 1 # グレースケール\n",
    "    photo = np.empty((num_image, channel, pixel, pixel)) # 配列初期化\n",
    "\n",
    "    img_ = Image.open(l[i])\n",
    "    img_ = np.array(img_).astype(np.float32)\n",
    "    photo[0, :] = img_\n",
    "    add_data[i]= np.copy(photo)\n",
    "    add_label[i]= idx\n",
    "    # if i%1000==0:\n",
    "    #     print(i)\n",
    "    \n",
    "add_data.shape,add_label.shape"
   ]
  },
  {
   "cell_type": "code",
   "execution_count": 13,
   "metadata": {},
   "outputs": [],
   "source": [
    "df_label= pd.DataFrame(add_label)\n",
    "enc=sp.OneHotEncoder(categories=[[\"a\",\"i\",\"u\",\"e\",\"o\",\"ka\",\"ki\",\"ku\",\"ke\",\"ko\",\"sa\",\"si\",\"su\",\"se\",\"so\"]],sparse=False)\n",
    "add_label_onehot=enc.fit_transform(df_label)"
   ]
  },
  {
   "cell_type": "code",
   "execution_count": 14,
   "metadata": {},
   "outputs": [
    {
     "output_type": "execute_result",
     "data": {
      "text/plain": [
       "((3000, 1, 28, 28), (3000, 15))"
      ]
     },
     "metadata": {},
     "execution_count": 14
    }
   ],
   "source": [
    "data.shape,label.shape"
   ]
  },
  {
   "cell_type": "code",
   "execution_count": 15,
   "metadata": {},
   "outputs": [
    {
     "output_type": "stream",
     "name": "stdout",
     "text": [
      "(30231, 1, 28, 28) (30231, 15)\n"
     ]
    }
   ],
   "source": [
    "integ_data=np.append(data,add_data,axis=0)\n",
    "integ_label=np.append(label,add_label_onehot,axis=0)\n",
    "print(integ_data.shape,integ_label.shape)\n",
    "np.save(\"../1_data/integ_data7\",integ_data)\n",
    "np.save(\"../1_data/integ_label7\",integ_label)"
   ]
  },
  {
   "cell_type": "code",
   "execution_count": null,
   "metadata": {},
   "outputs": [],
   "source": []
  }
 ],
 "metadata": {
  "kernelspec": {
   "display_name": "Python 3",
   "language": "python",
   "name": "python3"
  },
  "language_info": {
   "codemirror_mode": {
    "name": "ipython",
    "version": 3
   },
   "file_extension": ".py",
   "mimetype": "text/x-python",
   "name": "python",
   "nbconvert_exporter": "python",
   "pygments_lexer": "ipython3",
   "version": "3.7.3-final"
  }
 },
 "nbformat": 4,
 "nbformat_minor": 2
}