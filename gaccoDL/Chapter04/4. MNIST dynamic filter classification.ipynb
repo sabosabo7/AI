{
  "nbformat": 4,
  "nbformat_minor": 0,
  "metadata": {
    "colab": {
      "name": "4. MNIST dynamic filter classification.ipynb",
      "version": "0.3.2",
      "provenance": [],
      "collapsed_sections": []
    },
    "kernelspec": {
      "name": "python3",
      "display_name": "Python 3"
    },
    "accelerator": "GPU"
  },
  "cells": [
    {
      "cell_type": "markdown",
      "metadata": {
        "id": "oBDR3CvxewJw",
        "colab_type": "text"
      },
      "source": [
        "# MNIST Dynamic Filter Classification"
      ]
    },
    {
      "cell_type": "markdown",
      "metadata": {
        "id": "3K8paN7eevHX",
        "colab_type": "text"
      },
      "source": [
        "Note: This notebook is desinged to run with Python3 and GPU runtime.\n",
        "\n",
        "![Python 3 and CPU runtime](https://raw.githubusercontent.com/enakai00/colab_tfbook/master/docs/imgs/runtime_gpu.png)"
      ]
    },
    {
      "cell_type": "markdown",
      "metadata": {
        "id": "-xkr13nCB0Il",
        "colab_type": "text"
      },
      "source": [
        "This notebook uses TensorFlow2.x."
      ]
    },
    {
      "cell_type": "code",
      "metadata": {
        "id": "kop8_9RihcJX",
        "colab_type": "code",
        "outputId": "ebe840b9-4b99-42ab-fcb5-5647f39f8999",
        "colab": {
          "base_uri": "https://localhost:8080/",
          "height": 34
        }
      },
      "source": [
        "%tensorflow_version 2.x"
      ],
      "execution_count": 0,
      "outputs": [
        {
          "output_type": "stream",
          "text": [
            "TensorFlow 2.x selected.\n"
          ],
          "name": "stdout"
        }
      ]
    },
    {
      "cell_type": "markdown",
      "metadata": {
        "id": "VJO3PPzqsq8d",
        "colab_type": "text"
      },
      "source": [
        "####[MDF-01]\n",
        "Import modules and set random seeds."
      ]
    },
    {
      "cell_type": "code",
      "metadata": {
        "id": "gB5UUoAXIVmC",
        "colab_type": "code",
        "colab": {}
      },
      "source": [
        "import numpy as np\n",
        "from pandas import DataFrame\n",
        "\n",
        "import tensorflow as tf\n",
        "from tensorflow.keras import layers, models, initializers\n",
        "from tensorflow.keras.datasets import mnist\n",
        "\n",
        "np.random.seed(20190222)\n",
        "tf.random.set_seed(20190222)"
      ],
      "execution_count": 0,
      "outputs": []
    },
    {
      "cell_type": "markdown",
      "metadata": {
        "id": "yz2h7_8St1wi",
        "colab_type": "text"
      },
      "source": [
        "####[MDF-02]\n",
        "Download the MNIST dataset and store into NumPy arrays."
      ]
    },
    {
      "cell_type": "code",
      "metadata": {
        "id": "ASgzWK5AjWvn",
        "colab_type": "code",
        "colab": {}
      },
      "source": [
        "(train_images, train_labels), (test_images, test_labels) = mnist.load_data()\n",
        "train_images = train_images.reshape(\n",
        "                  (len(train_images), 784)).astype('float32') / 255\n",
        "test_images = test_images.reshape(\n",
        "                  (len(test_images), 784)).astype('float32') / 255\n",
        "train_labels = tf.keras.utils.to_categorical(train_labels, 10)\n",
        "test_labels = tf.keras.utils.to_categorical(test_labels, 10)"
      ],
      "execution_count": 0,
      "outputs": []
    },
    {
      "cell_type": "markdown",
      "metadata": {
        "id": "qdQ0Tp2IvFy8",
        "colab_type": "text"
      },
      "source": [
        "####[MDF-03]\n",
        "Define a CNN model with a single convolutional filter layer."
      ]
    },
    {
      "cell_type": "code",
      "metadata": {
        "id": "tpL_niBTXggS",
        "colab_type": "code",
        "outputId": "f0a353a3-967c-4c56-a8df-3b604bce1637",
        "colab": {
          "base_uri": "https://localhost:8080/",
          "height": 357
        }
      },
      "source": [
        "model = models.Sequential()\n",
        "model.add(layers.Reshape((28, 28, 1), input_shape=(28*28,), name='reshape'))\n",
        "model.add(layers.Conv2D(16, (5, 5), padding='same',\n",
        "                        kernel_initializer=initializers.TruncatedNormal(),\n",
        "                        use_bias=True, activation='relu',\n",
        "                        name='conv_filter'))\n",
        "model.add(layers.MaxPooling2D((2, 2), name='max_pooling'))\n",
        "model.add(layers.Flatten(name='flatten'))\n",
        "model.add(layers.Dense(1024, activation='relu',\n",
        "                       kernel_initializer=initializers.TruncatedNormal(),\n",
        "                       name='hidden'))\n",
        "model.add(layers.Dense(10, activation='softmax', name='softmax'))\n",
        "\n",
        "model.summary()"
      ],
      "execution_count": 0,
      "outputs": [
        {
          "output_type": "stream",
          "text": [
            "Model: \"sequential\"\n",
            "_________________________________________________________________\n",
            "Layer (type)                 Output Shape              Param #   \n",
            "=================================================================\n",
            "reshape (Reshape)            (None, 28, 28, 1)         0         \n",
            "_________________________________________________________________\n",
            "conv_filter (Conv2D)         (None, 28, 28, 16)        416       \n",
            "_________________________________________________________________\n",
            "max_pooling (MaxPooling2D)   (None, 14, 14, 16)        0         \n",
            "_________________________________________________________________\n",
            "flatten (Flatten)            (None, 3136)              0         \n",
            "_________________________________________________________________\n",
            "hidden (Dense)               (None, 1024)              3212288   \n",
            "_________________________________________________________________\n",
            "softmax (Dense)              (None, 10)                10250     \n",
            "=================================================================\n",
            "Total params: 3,222,954\n",
            "Trainable params: 3,222,954\n",
            "Non-trainable params: 0\n",
            "_________________________________________________________________\n"
          ],
          "name": "stdout"
        }
      ]
    },
    {
      "cell_type": "markdown",
      "metadata": {
        "id": "fBltXsSRvZn0",
        "colab_type": "text"
      },
      "source": [
        "####[MDF-04]\n",
        "Compile the model using the Adam optimizer, and Cross entroy as a loss function."
      ]
    },
    {
      "cell_type": "code",
      "metadata": {
        "id": "BakcuKxdQoSL",
        "colab_type": "code",
        "colab": {}
      },
      "source": [
        "model.compile(optimizer='adam', \n",
        "              loss='categorical_crossentropy',\n",
        "              metrics=['acc'])"
      ],
      "execution_count": 0,
      "outputs": []
    },
    {
      "cell_type": "markdown",
      "metadata": {
        "id": "knfetV1MiKQ-",
        "colab_type": "text"
      },
      "source": [
        "####[MDF-05]\n",
        "Train the model. It achieves the 99.0% accuracy."
      ]
    },
    {
      "cell_type": "code",
      "metadata": {
        "id": "LlQCTsKKXkr5",
        "colab_type": "code",
        "outputId": "8eb6f3af-32bd-4548-fe2c-6d05d806d498",
        "colab": {
          "base_uri": "https://localhost:8080/",
          "height": 462
        }
      },
      "source": [
        "history = model.fit(train_images, train_labels,\n",
        "                    validation_data=(test_images, test_labels),\n",
        "                    batch_size=128, epochs=10)"
      ],
      "execution_count": 0,
      "outputs": [
        {
          "output_type": "stream",
          "text": [
            "WARNING: Logging before flag parsing goes to stderr.\n",
            "W0827 07:47:08.125761 140206261483392 deprecation.py:323] From /tensorflow-2.0.0b1/python3.6/tensorflow/python/ops/math_grad.py:1250: add_dispatch_support.<locals>.wrapper (from tensorflow.python.ops.array_ops) is deprecated and will be removed in a future version.\n",
            "Instructions for updating:\n",
            "Use tf.where in 2.0, which has the same broadcast rule as np.where\n"
          ],
          "name": "stderr"
        },
        {
          "output_type": "stream",
          "text": [
            "Train on 60000 samples, validate on 10000 samples\n",
            "Epoch 1/10\n",
            "60000/60000 [==============================] - 6s 104us/sample - loss: 0.1761 - acc: 0.9474 - val_loss: 0.0601 - val_acc: 0.9791\n",
            "Epoch 2/10\n",
            "60000/60000 [==============================] - 5s 84us/sample - loss: 0.0521 - acc: 0.9837 - val_loss: 0.0453 - val_acc: 0.9862\n",
            "Epoch 3/10\n",
            "60000/60000 [==============================] - 5s 84us/sample - loss: 0.0316 - acc: 0.9899 - val_loss: 0.0461 - val_acc: 0.9838\n",
            "Epoch 4/10\n",
            "60000/60000 [==============================] - 5s 86us/sample - loss: 0.0218 - acc: 0.9932 - val_loss: 0.0401 - val_acc: 0.9872\n",
            "Epoch 5/10\n",
            "60000/60000 [==============================] - 5s 84us/sample - loss: 0.0147 - acc: 0.9955 - val_loss: 0.0334 - val_acc: 0.9886\n",
            "Epoch 6/10\n",
            "60000/60000 [==============================] - 5s 85us/sample - loss: 0.0110 - acc: 0.9964 - val_loss: 0.0384 - val_acc: 0.9886\n",
            "Epoch 7/10\n",
            "60000/60000 [==============================] - 5s 85us/sample - loss: 0.0090 - acc: 0.9973 - val_loss: 0.0381 - val_acc: 0.9891\n",
            "Epoch 8/10\n",
            "60000/60000 [==============================] - 5s 85us/sample - loss: 0.0093 - acc: 0.9971 - val_loss: 0.0396 - val_acc: 0.9887\n",
            "Epoch 9/10\n",
            "60000/60000 [==============================] - 5s 85us/sample - loss: 0.0063 - acc: 0.9980 - val_loss: 0.0291 - val_acc: 0.9908\n",
            "Epoch 10/10\n",
            "60000/60000 [==============================] - 5s 86us/sample - loss: 0.0058 - acc: 0.9983 - val_loss: 0.0331 - val_acc: 0.9904\n"
          ],
          "name": "stdout"
        }
      ]
    },
    {
      "cell_type": "markdown",
      "metadata": {
        "id": "TG5R1JCmtflv",
        "colab_type": "text"
      },
      "source": [
        "####[MDF-06]\n",
        "Plot charts for the accuracy and loss values."
      ]
    },
    {
      "cell_type": "code",
      "metadata": {
        "id": "s8xZbQ1j1k9Z",
        "colab_type": "code",
        "outputId": "3c57d7e0-ffce-4b98-f2f5-6a386fcd7826",
        "colab": {
          "base_uri": "https://localhost:8080/",
          "height": 538
        }
      },
      "source": [
        "DataFrame({'acc': history.history['acc'], \n",
        "           'val_acc': history.history['val_acc']}).plot()\n",
        "DataFrame({'loss': history.history['loss'], \n",
        "           'val_loss': history.history['val_loss']}).plot()"
      ],
      "execution_count": 0,
      "outputs": [
        {
          "output_type": "execute_result",
          "data": {
            "text/plain": [
              "<matplotlib.axes._subplots.AxesSubplot at 0x7f839c3e5320>"
            ]
          },
          "metadata": {
            "tags": []
          },
          "execution_count": 7
        },
        {
          "output_type": "display_data",
          "data": {
            "image/png": "[encoded data removed]",
            "text/plain": [
              "<Figure size 432x288 with 1 Axes>"
            ]
          },
          "metadata": {
            "tags": []
          }
        },
        {
          "output_type": "display_data",
          "data": {
            "image/png": "[encoded data removed]",
            "text/plain": [
              "<Figure size 432x288 with 1 Axes>"
            ]
          },
          "metadata": {
            "tags": []
          }
        }
      ]
    },
    {
      "cell_type": "markdown",
      "metadata": {
        "id": "nPjRGMgSiYzH",
        "colab_type": "text"
      },
      "source": [
        "####[MDF-07]\n",
        "Mount your Google Drive on `/content/gdrive`."
      ]
    },
    {
      "cell_type": "code",
      "metadata": {
        "id": "KTDOKlWoe2Kz",
        "colab_type": "code",
        "outputId": "f3fc398b-036d-48f0-be7d-86d308c479d2",
        "colab": {
          "base_uri": "https://localhost:8080/",
          "height": 34
        }
      },
      "source": [
        "from google.colab import drive\n",
        "drive.mount('/content/gdrive')"
      ],
      "execution_count": 0,
      "outputs": [
        {
          "output_type": "stream",
          "text": [
            "Drive already mounted at /content/gdrive; to attempt to forcibly remount, call drive.mount(\"/content/gdrive\", force_remount=True).\n"
          ],
          "name": "stdout"
        }
      ]
    },
    {
      "cell_type": "markdown",
      "metadata": {
        "id": "RX5280gwikJN",
        "colab_type": "text"
      },
      "source": [
        "####[MDF-08]\n",
        "Export the trained model as a file `MNIST_single.hd5` on your Google Drive."
      ]
    },
    {
      "cell_type": "code",
      "metadata": {
        "id": "jY2TeEWCwxix",
        "colab_type": "code",
        "outputId": "ddd030c9-7652-4cf2-efaf-02ddcd3fdd91",
        "colab": {
          "base_uri": "https://localhost:8080/",
          "height": 34
        }
      },
      "source": [
        "model.save('/content/gdrive/My Drive/MNIST_single.hd5', save_format='h5')\n",
        "!ls -lh '/content/gdrive/My Drive/MNIST_single.hd5'"
      ],
      "execution_count": 0,
      "outputs": [
        {
          "output_type": "stream",
          "text": [
            "-rw------- 1 root root 37M Aug 27 07:48 '/content/gdrive/My Drive/MNIST_single.hd5'\n"
          ],
          "name": "stdout"
        }
      ]
    }
  ]
}