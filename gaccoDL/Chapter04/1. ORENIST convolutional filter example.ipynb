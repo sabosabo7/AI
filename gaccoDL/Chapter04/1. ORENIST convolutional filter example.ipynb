{
  "nbformat": 4,
  "nbformat_minor": 0,
  "metadata": {
    "colab": {
      "name": "1. ORENIST convolutional filter example.ipynb",
      "version": "0.3.2",
      "provenance": [],
      "collapsed_sections": []
    },
    "kernelspec": {
      "name": "python3",
      "display_name": "Python 3"
    }
  },
  "cells": [
    {
      "cell_type": "markdown",
      "metadata": {
        "id": "NH-43cCiMiOx",
        "colab_type": "text"
      },
      "source": [
        "# ORENIST Convolutional Filter Example"
      ]
    },
    {
      "cell_type": "markdown",
      "metadata": {
        "id": "n6uvAAr7M6Ol",
        "colab_type": "text"
      },
      "source": [
        "Note: This notebook is desinged to run with Python3 and CPU (no GPU) runtime.\n",
        "\n",
        "![Python 3 and CPU runtime](https://raw.githubusercontent.com/enakai00/colab_tfbook/master/docs/imgs/runtime_cpu.png)"
      ]
    },
    {
      "cell_type": "markdown",
      "metadata": {
        "id": "-xkr13nCB0Il",
        "colab_type": "text"
      },
      "source": [
        "This notebook uses TensorFlow2.x."
      ]
    },
    {
      "cell_type": "code",
      "metadata": {
        "id": "cbO4iT7wgk1z",
        "colab_type": "code",
        "outputId": "0217abf6-5f3c-48fa-c50a-436a031bc826",
        "colab": {
          "base_uri": "https://localhost:8080/",
          "height": 34
        }
      },
      "source": [
        "%tensorflow_version 2.x"
      ],
      "execution_count": 1,
      "outputs": [
        {
          "output_type": "stream",
          "text": [
            "TensorFlow 2.x selected.\n"
          ],
          "name": "stdout"
        }
      ]
    },
    {
      "cell_type": "markdown",
      "metadata": {
        "id": "VJO3PPzqsq8d",
        "colab_type": "text"
      },
      "source": [
        "####[OCF-01]\n",
        "Import modules."
      ]
    },
    {
      "cell_type": "code",
      "metadata": {
        "id": "gB5UUoAXIVmC",
        "colab_type": "code",
        "colab": {}
      },
      "source": [
        "import numpy as np\n",
        "import matplotlib.pyplot as plt\n",
        "import pickle\n",
        "\n",
        "import tensorflow as tf\n",
        "from tensorflow.keras import layers, models"
      ],
      "execution_count": 0,
      "outputs": []
    },
    {
      "cell_type": "markdown",
      "metadata": {
        "id": "yz2h7_8St1wi",
        "colab_type": "text"
      },
      "source": [
        "####[OCF-02]\n",
        "Download the ORENIST dataset and store into NumPy arrays."
      ]
    },
    {
      "cell_type": "code",
      "metadata": {
        "id": "ASgzWK5AjWvn",
        "colab_type": "code",
        "outputId": "0d586fe4-2f77-4b68-d510-a4700d6e5256",
        "colab": {
          "base_uri": "https://localhost:8080/",
          "height": 85
        }
      },
      "source": [
        "!curl -LO https://github.com/enakai00/colab_tfbook/raw/master/Chapter04/ORENIST.data\n",
        "with open('ORENIST.data', 'rb') as file:\n",
        "    images, labels = pickle.load(file)"
      ],
      "execution_count": 3,
      "outputs": [
        {
          "output_type": "stream",
          "text": [
            "  % Total    % Received % Xferd  Average Speed   Time    Time     Time  Current\n",
            "                                 Dload  Upload   Total   Spent    Left  Speed\n",
            "100   151  100   151    0     0     26      0  0:00:05  0:00:05 --:--:--    36\n",
            "100  553k  100  553k    0     0  95419      0  0:00:05  0:00:05 --:--:-- 95419\n"
          ],
          "name": "stdout"
        }
      ]
    },
    {
      "cell_type": "markdown",
      "metadata": {
        "id": "qdQ0Tp2IvFy8",
        "colab_type": "text"
      },
      "source": [
        "####[OCF-03]\n",
        "Show some examples."
      ]
    },
    {
      "cell_type": "code",
      "metadata": {
        "id": "tpL_niBTXggS",
        "colab_type": "code",
        "outputId": "42510ee1-b739-411a-fdd4-e92b6581fc24",
        "colab": {
          "base_uri": "https://localhost:8080/",
          "height": 310
        }
      },
      "source": [
        "fig = plt.figure(figsize=(10, 5))\n",
        "for i in range(40):\n",
        "    subplot = fig.add_subplot(4, 10, i+1)\n",
        "    subplot.set_xticks([])\n",
        "    subplot.set_yticks([])\n",
        "    subplot.set_title('%d' % np.argmax(labels[i]))\n",
        "    subplot.imshow(images[i].reshape(28, 28),\n",
        "                   vmin=0, vmax=1, cmap=plt.cm.gray_r)"
      ],
      "execution_count": 4,
      "outputs": [
        {
          "output_type": "display_data",
          "data": {
            "image/png": "[encoded data removed]",
            "text/plain": [
              "<Figure size 720x360 with 40 Axes>"
            ]
          },
          "metadata": {
            "tags": []
          }
        }
      ]
    },
    {
      "cell_type": "markdown",
      "metadata": {
        "id": "fBltXsSRvZn0",
        "colab_type": "text"
      },
      "source": [
        "####[OCF-04]\n",
        "Define fixed convolutional filters to extract vertical and horizontal edges."
      ]
    },
    {
      "cell_type": "code",
      "metadata": {
        "id": "BakcuKxdQoSL",
        "colab_type": "code",
        "colab": {}
      },
      "source": [
        "def edge_filter(shape=None, dtype=None):\n",
        "    filter0 = np.array(\n",
        "            [[ 2, 1, 0,-1,-2],\n",
        "             [ 3, 2, 0,-2,-3],\n",
        "             [ 4, 3, 0,-3,-4],\n",
        "             [ 3, 2, 0,-2,-3],\n",
        "             [ 2, 1, 0,-1,-2]]) / 23.0\n",
        "    filter1 = np.array(\n",
        "            [[ 2, 3, 4, 3, 2],\n",
        "             [ 1, 2, 3, 2, 1],\n",
        "             [ 0, 0, 0, 0, 0],\n",
        "             [-1,-2,-3,-2,-1],\n",
        "             [-2,-3,-4,-3,-2]]) / 23.0\n",
        "    \n",
        "    filter_array = np.zeros([5, 5, 1, 2])\n",
        "    filter_array[:, :, 0, 0] = filter0\n",
        "    filter_array[:, :, 0, 1] = filter1\n",
        "\n",
        "    return filter_array"
      ],
      "execution_count": 0,
      "outputs": []
    },
    {
      "cell_type": "markdown",
      "metadata": {
        "id": "TzFSX5dORuKA",
        "colab_type": "text"
      },
      "source": [
        "####[OCF-05]\n",
        "Define a model to apply the fixed convolutional filters."
      ]
    },
    {
      "cell_type": "code",
      "metadata": {
        "id": "TZw9C2dLkSvG",
        "colab_type": "code",
        "outputId": "0a37ae15-e095-447b-9132-20fc851c5659",
        "colab": {
          "base_uri": "https://localhost:8080/",
          "height": 323
        }
      },
      "source": [
        "model = models.Sequential()\n",
        "model.add(layers.Reshape((28, 28, 1), input_shape=(28*28,), name='reshape'))\n",
        "model.add(layers.Conv2D(2, (5, 5), padding='same',\n",
        "                        kernel_initializer=edge_filter,\n",
        "                        use_bias=False,\n",
        "                        name='conv_filter'))\n",
        "model.add(layers.Lambda(lambda x: abs(x), name='abs'))\n",
        "model.add(layers.Lambda(lambda x: tf.keras.backend.relu(x-0.2), name='cut_off'))\n",
        "model.add(layers.MaxPooling2D((2, 2), name='max_pooling'))\n",
        "\n",
        "model.summary()"
      ],
      "execution_count": 6,
      "outputs": [
        {
          "output_type": "stream",
          "text": [
            "Model: \"sequential\"\n",
            "_________________________________________________________________\n",
            "Layer (type)                 Output Shape              Param #   \n",
            "=================================================================\n",
            "reshape (Reshape)            (None, 28, 28, 1)         0         \n",
            "_________________________________________________________________\n",
            "conv_filter (Conv2D)         (None, 28, 28, 2)         50        \n",
            "_________________________________________________________________\n",
            "abs (Lambda)                 (None, 28, 28, 2)         0         \n",
            "_________________________________________________________________\n",
            "cut_off (Lambda)             (None, 28, 28, 2)         0         \n",
            "_________________________________________________________________\n",
            "max_pooling (MaxPooling2D)   (None, 14, 14, 2)         0         \n",
            "=================================================================\n",
            "Total params: 50\n",
            "Trainable params: 50\n",
            "Non-trainable params: 0\n",
            "_________________________________________________________________\n"
          ],
          "name": "stdout"
        }
      ]
    },
    {
      "cell_type": "markdown",
      "metadata": {
        "id": "VzcaWnHdSGvL",
        "colab_type": "text"
      },
      "source": [
        "####[OCF-06]\n",
        "Define a model to extract outputs from intermediate layers."
      ]
    },
    {
      "cell_type": "code",
      "metadata": {
        "id": "PD-RX6k72TWx",
        "colab_type": "code",
        "colab": {}
      },
      "source": [
        "layer_outputs = [model.get_layer('cut_off').output,\n",
        "                 model.get_layer('max_pooling').output]\n",
        "model2 = models.Model(inputs=model.input, outputs=layer_outputs)"
      ],
      "execution_count": 0,
      "outputs": []
    },
    {
      "cell_type": "markdown",
      "metadata": {
        "id": "iuw7gKvESdcH",
        "colab_type": "text"
      },
      "source": [
        "####[OCF-07]\n",
        "Apply the convolutional filters to the ORENST dataset."
      ]
    },
    {
      "cell_type": "code",
      "metadata": {
        "id": "YodHmwNEnWjz",
        "colab_type": "code",
        "colab": {}
      },
      "source": [
        "conv_output, pool_output = model2.predict(np.array(images[:9]))"
      ],
      "execution_count": 0,
      "outputs": []
    },
    {
      "cell_type": "markdown",
      "metadata": {
        "id": "135GMgsWSrLF",
        "colab_type": "text"
      },
      "source": [
        "####[OCF-08]\n",
        "Show images after applying the convolutional filters."
      ]
    },
    {
      "cell_type": "code",
      "metadata": {
        "id": "Bp6hT6n4nobF",
        "colab_type": "code",
        "outputId": "dec7981b-56ff-4359-80db-636dff9a10af",
        "colab": {
          "base_uri": "https://localhost:8080/",
          "height": 213
        }
      },
      "source": [
        "fig = plt.figure(figsize=(10, 3))\n",
        "filter_vals = edge_filter()\n",
        "v_max = np.max(conv_output)\n",
        "\n",
        "for i in range(2):\n",
        "    subplot = fig.add_subplot(3, 10, 10*(i+1)+1)\n",
        "    subplot.set_xticks([])\n",
        "    subplot.set_yticks([])\n",
        "    subplot.imshow(filter_vals[:, :, 0, i], cmap=plt.cm.gray_r)\n",
        "\n",
        "for i in range(9):\n",
        "    subplot = fig.add_subplot(3, 10, i+2)\n",
        "    subplot.set_xticks([])\n",
        "    subplot.set_yticks([])\n",
        "    subplot.set_title('%d' % np.argmax(labels[i]))\n",
        "    subplot.imshow(images[i].reshape((28, 28)),\n",
        "                   vmin=0, vmax=1, cmap=plt.cm.gray_r)\n",
        "    \n",
        "    subplot = fig.add_subplot(3, 10, 10+i+2)\n",
        "    subplot.set_xticks([])\n",
        "    subplot.set_yticks([])\n",
        "    subplot.imshow(conv_output[i, :, :, 0],\n",
        "                   vmin=0, vmax=v_max, cmap=plt.cm.gray_r)\n",
        "    \n",
        "    subplot = fig.add_subplot(3, 10, 20+i+2)\n",
        "    subplot.set_xticks([])\n",
        "    subplot.set_yticks([])\n",
        "    subplot.imshow(conv_output[i, :, :, 1],\n",
        "                   vmin=0, vmax=v_max, cmap=plt.cm.gray_r)"
      ],
      "execution_count": 9,
      "outputs": [
        {
          "output_type": "display_data",
          "data": {
            "image/png": "[encoded data removed]",
            "text/plain": [
              "<Figure size 720x216 with 29 Axes>"
            ]
          },
          "metadata": {
            "tags": []
          }
        }
      ]
    },
    {
      "cell_type": "markdown",
      "metadata": {
        "id": "7KQ2eWw8S-_s",
        "colab_type": "text"
      },
      "source": [
        "####[OCF-9]\n",
        "Show images after applying the pooling layer."
      ]
    },
    {
      "cell_type": "code",
      "metadata": {
        "id": "WVIdMBfb16-e",
        "colab_type": "code",
        "outputId": "93a5eb70-19c2-43ad-cb86-49bd1324bbb0",
        "colab": {
          "base_uri": "https://localhost:8080/",
          "height": 213
        }
      },
      "source": [
        "fig = plt.figure(figsize=(10, 3))\n",
        "filter_vals = edge_filter()\n",
        "v_max = np.max(pool_output)\n",
        "\n",
        "for i in range(2):\n",
        "    subplot = fig.add_subplot(3, 10, 10*(i+1)+1)\n",
        "    subplot.set_xticks([])\n",
        "    subplot.set_yticks([])\n",
        "    subplot.imshow(filter_vals[:, :, 0, i], cmap=plt.cm.gray_r)\n",
        "\n",
        "for i in range(9):\n",
        "    subplot = fig.add_subplot(3, 10, i+2)\n",
        "    subplot.set_xticks([])\n",
        "    subplot.set_yticks([])\n",
        "    subplot.set_title('%d' % np.argmax(labels[i]))\n",
        "    subplot.imshow(images[i].reshape((28, 28)),\n",
        "                   vmin=0, vmax=1, cmap=plt.cm.gray_r)\n",
        "    \n",
        "    subplot = fig.add_subplot(3, 10, 10+i+2)\n",
        "    subplot.set_xticks([])\n",
        "    subplot.set_yticks([])\n",
        "    subplot.imshow(pool_output[i, :, :, 0],\n",
        "                   vmin=0, vmax=v_max, cmap=plt.cm.gray_r)\n",
        "    \n",
        "    subplot = fig.add_subplot(3, 10, 20+i+2)\n",
        "    subplot.set_xticks([])\n",
        "    subplot.set_yticks([])\n",
        "    subplot.imshow(pool_output[i, :, :, 1],\n",
        "                   vmin=0, vmax=v_max, cmap=plt.cm.gray_r)"
      ],
      "execution_count": 10,
      "outputs": [
        {
          "output_type": "display_data",
          "data": {
            "image/png": "[encoded data removed]",
            "text/plain": [
              "<Figure size 720x216 with 29 Axes>"
            ]
          },
          "metadata": {
            "tags": []
          }
        }
      ]
    }
  ]
}