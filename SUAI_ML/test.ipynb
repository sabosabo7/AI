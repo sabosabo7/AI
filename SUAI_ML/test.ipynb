{
 "metadata": {
  "language_info": {
   "codemirror_mode": {
    "name": "ipython",
    "version": 3
   },
   "file_extension": ".py",
   "mimetype": "text/x-python",
   "name": "python",
   "nbconvert_exporter": "python",
   "pygments_lexer": "ipython3",
   "version": "3.7.3-final"
  },
  "orig_nbformat": 2,
  "kernelspec": {
   "name": "python3",
   "display_name": "Python 3",
   "language": "python"
  }
 },
 "nbformat": 4,
 "nbformat_minor": 2,
 "cells": [
  {
   "cell_type": "code",
   "execution_count": 1,
   "metadata": {},
   "outputs": [],
   "source": [
    "import numpy as np"
   ]
  },
  {
   "cell_type": "code",
   "execution_count": 7,
   "metadata": {},
   "outputs": [
    {
     "output_type": "execute_result",
     "data": {
      "text/plain": [
       "12.941049999999999"
      ]
     },
     "metadata": {},
     "execution_count": 7
    }
   ],
   "source": [
    "X=np.array([\n",
    "    [1,2],\n",
    "    [2,3],\n",
    "    [3,4]\n",
    "])\n",
    "\n",
    "t=np.array([1,2,3])\n",
    "w=np.array([0.01,0.02])\n",
    "\n",
    "a=np.sum((t-np.dot(X,w))**2)\n",
    "a+0.1*np.sum(w**2)"
   ]
  }
 ]
}