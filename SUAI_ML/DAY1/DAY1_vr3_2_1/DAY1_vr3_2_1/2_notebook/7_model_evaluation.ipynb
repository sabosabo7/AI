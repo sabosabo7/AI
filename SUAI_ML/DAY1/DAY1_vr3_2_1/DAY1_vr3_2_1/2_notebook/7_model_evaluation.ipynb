{
 "cells": [
  {
   "cell_type": "markdown",
   "metadata": {},
   "source": [
    "## モデルの評価"
   ]
  },
  {
   "cell_type": "code",
   "execution_count": 11,
   "metadata": {},
   "outputs": [],
   "source": [
    "%matplotlib inline\n",
    "import pandas as pd\n",
    "import numpy as np\n",
    "from sklearn.linear_model import LinearRegression, SGDClassifier\n",
    "from sklearn.metrics import mean_squared_error, mean_absolute_error # 回帰問題における性能評価に関する関数\n",
    "from  sklearn.metrics import accuracy_score, precision_recall_fscore_support, confusion_matrix # 回帰問題における性能評価に関する関数"
   ]
  },
  {
   "cell_type": "markdown",
   "metadata": {},
   "source": [
    "### 回帰問題\n",
    "- 回帰問題で用いる指標は以下の3つ\n",
    "    - MSE：平均二乗誤差\n",
    "    - RMSE：平方根平均二乗誤差\n",
    "    - MAE：平均絶対値誤差"
   ]
  },
  {
   "cell_type": "code",
   "execution_count": 12,
   "metadata": {},
   "outputs": [],
   "source": [
    "# データ\n",
    "df_house = pd.DataFrame({\n",
    "        \"Price\":[24.8, 59.5, 7, 7.5, 9.8, 13.5, 14.9, 27, 27, 28, 28.5, 23, 12.9, 18, 23.7, 29.8, 17.8, 5.5, 8.7, 10.3, 14.5, 17.6, 16.8],\n",
    "        \"AreaSize\":[98.4, 379.8, 58.6, 61.5, 99.6, 76.2, 115.7, 165.2, 215.2, 157.8, 212.9, 137.8, 87.2, 139.6, 172.6, 151.9, 179.5, 50, 105, 132, 174, 176, 168.7],\n",
    "        \"HouseSize\":[74.2, 163.7, 50.5, 58, 66.4, 66.2, 59.6, 98.6, 87.4, 116.9, 96.9, 82.8, 75.1, 77.9, 125, 85.6, 70.1, 48.7, 66.5, 51.9, 82.3, 86.1, 80.8],\n",
    "        \"PassedYear\":[4.8, 9.3, 13, 12.8, 14, 6, 14.7, 13.6, 13.3, 6.7, 3.1, 10.3, 11.6, 10.5, 3.8, 5.4, 4.5, 14.6, 13.7, 13, 10.3, 4.4, 12.8],\n",
    "        \"Train\":[5, 12, 16, 16, 16, 16, 16, 16, 16, 16, 16, 19, 23, 23, 23, 28, 32, 37, 37, 37, 37, 37, 41],\n",
    "        \"Walk\":[6, 12, 2, 1, 5, 1, 4, 2, 7, 6, 5, 20, 8, 3, 5, 4, 2, 3, 11, 6, 18, 10, 2]\n",
    "    })\n",
    "df_house.index.name=\"id\""
   ]
  },
  {
   "cell_type": "code",
   "execution_count": 13,
   "metadata": {},
   "outputs": [
    {
     "data": {
      "text/plain": [
       "LinearRegression(copy_X=True, fit_intercept=True, n_jobs=None,\n",
       "         normalize=False)"
      ]
     },
     "execution_count": 13,
     "metadata": {},
     "output_type": "execute_result"
    }
   ],
   "source": [
    "# 線形回帰\n",
    "y = df_house[\"Price\"].values\n",
    "X = df_house[[\"AreaSize\", \"Train\"]].values\n",
    "regr = LinearRegression(fit_intercept=True)\n",
    "regr.fit(X, y)"
   ]
  },
  {
   "cell_type": "code",
   "execution_count": 14,
   "metadata": {},
   "outputs": [
    {
     "name": "stdout",
     "output_type": "stream",
     "text": [
      "MSE = 14.885\n",
      "MAE = 3.057\n",
      "RMSE = 3.858\n"
     ]
    }
   ],
   "source": [
    "# 値を予測\n",
    "y_pred = regr.predict(X)\n",
    "\n",
    "# MSEを計算\n",
    "mse = mean_squared_error(y, y_pred) \n",
    "print(\"MSE = %s\"%round(mse,3) )  \n",
    "\n",
    "# MAEを計算\n",
    "mae = mean_absolute_error(y, y_pred) \n",
    "print(\"MAE = %s\"%round(mae,3) )\n",
    "\n",
    "# RMSEを計算\n",
    "rmse = np.sqrt(mse)\n",
    "print(\"RMSE = %s\"%round(rmse, 3) )"
   ]
  },
  {
   "cell_type": "markdown",
   "metadata": {},
   "source": [
    "### 分類問題\n",
    "- 分類問題で用いる指標\n",
    "  - Accuracy\n",
    "  - Precision\n",
    "  - Recall\n",
    "  - F1-score"
   ]
  },
  {
   "cell_type": "code",
   "execution_count": 15,
   "metadata": {},
   "outputs": [],
   "source": [
    "# Priceの値を2000万以上なら1，そうでなければ0に変更\n",
    "df_house['Price'] = df_house['Price'] >= 20"
   ]
  },
  {
   "cell_type": "code",
   "execution_count": 16,
   "metadata": {},
   "outputs": [
    {
     "data": {
      "text/plain": [
       "SGDClassifier(alpha=0.0001, average=False, class_weight=None,\n",
       "       early_stopping=False, epsilon=0.1, eta0=0.0, fit_intercept=True,\n",
       "       l1_ratio=0.15, learning_rate='optimal', loss='log', max_iter=10000,\n",
       "       n_iter=None, n_iter_no_change=5, n_jobs=None, penalty='none',\n",
       "       power_t=0.5, random_state=1234, shuffle=True, tol=0.001,\n",
       "       validation_fraction=0.1, verbose=0, warm_start=False)"
      ]
     },
     "execution_count": 16,
     "metadata": {},
     "output_type": "execute_result"
    }
   ],
   "source": [
    "# ロジスティック回帰\n",
    "y = df_house[\"Price\"].values\n",
    "X = df_house[[\"AreaSize\", \"Train\"]].values\n",
    "clf = SGDClassifier(loss='log', penalty='none', max_iter=10000, fit_intercept=True, random_state=1234, tol=1e-3)\n",
    "clf.fit(X, y)"
   ]
  },
  {
   "cell_type": "code",
   "execution_count": 17,
   "metadata": {},
   "outputs": [
    {
     "name": "stdout",
     "output_type": "stream",
     "text": [
      "正答率（Accuracy） = 82.609%\n",
      "適合率（Precision） = 72.727%\n",
      "再現率（Recall） = 88.889%\n",
      "F1値（F1-score） = 80.000%\n"
     ]
    }
   ],
   "source": [
    "# ラベルを予測\n",
    "y_pred = clf.predict(X)\n",
    "\n",
    "# 正答率を計算\n",
    "accuracy =  accuracy_score(y, y_pred)\n",
    "print('正答率（Accuracy） = {:.3f}%'.format(100 * accuracy))\n",
    "\n",
    "# Precision, Recall, F1-scoreを計算\n",
    "precision, recall, f1_score, _ = precision_recall_fscore_support(y, y_pred)\n",
    "\n",
    "# カテゴリ「2000万以上」に関するPrecision, Recall, F1-scoreを表示\n",
    "print('適合率（Precision） = {:.3f}%'.format(100 * precision[1]))\n",
    "print('再現率（Recall） = {:.3f}%'.format(100 * recall[1]))\n",
    "print('F1値（F1-score） = {:.3f}%'.format(100 * f1_score[1]))"
   ]
  },
  {
   "cell_type": "code",
   "execution_count": 18,
   "metadata": {},
   "outputs": [
    {
     "data": {
      "text/html": [
       "<div>\n",
       "<style scoped>\n",
       "    .dataframe tbody tr th:only-of-type {\n",
       "        vertical-align: middle;\n",
       "    }\n",
       "\n",
       "    .dataframe tbody tr th {\n",
       "        vertical-align: top;\n",
       "    }\n",
       "\n",
       "    .dataframe thead th {\n",
       "        text-align: right;\n",
       "    }\n",
       "</style>\n",
       "<table border=\"1\" class=\"dataframe\">\n",
       "  <thead>\n",
       "    <tr style=\"text-align: right;\">\n",
       "      <th></th>\n",
       "      <th>予測 = 2000万未満</th>\n",
       "      <th>予測 = 2000万以上</th>\n",
       "    </tr>\n",
       "  </thead>\n",
       "  <tbody>\n",
       "    <tr>\n",
       "      <th>正解 = 2000万未満</th>\n",
       "      <td>11</td>\n",
       "      <td>3</td>\n",
       "    </tr>\n",
       "    <tr>\n",
       "      <th>正解 = 2000万以上</th>\n",
       "      <td>1</td>\n",
       "      <td>8</td>\n",
       "    </tr>\n",
       "  </tbody>\n",
       "</table>\n",
       "</div>"
      ],
      "text/plain": [
       "              予測 = 2000万未満  予測 = 2000万以上\n",
       "正解 = 2000万未満            11             3\n",
       "正解 = 2000万以上             1             8"
      ]
     },
     "execution_count": 18,
     "metadata": {},
     "output_type": "execute_result"
    }
   ],
   "source": [
    "# 予測値と正解のクロス集計（混同行列）\n",
    "conf_mat = confusion_matrix(y, y_pred)\n",
    "conf_mat = pd.DataFrame(conf_mat, \n",
    "                        index=['正解 = 2000万未満', '正解 = 2000万以上'], \n",
    "                        columns=['予測 = 2000万未満', '予測 = 2000万以上'])\n",
    "conf_mat"
   ]
  },
  {
   "cell_type": "code",
   "execution_count": 29,
   "metadata": {},
   "outputs": [
    {
     "data": {
      "text/html": [
       "<div>\n",
       "<style scoped>\n",
       "    .dataframe tbody tr th:only-of-type {\n",
       "        vertical-align: middle;\n",
       "    }\n",
       "\n",
       "    .dataframe tbody tr th {\n",
       "        vertical-align: top;\n",
       "    }\n",
       "\n",
       "    .dataframe thead th {\n",
       "        text-align: right;\n",
       "    }\n",
       "</style>\n",
       "<table border=\"1\" class=\"dataframe\">\n",
       "  <thead>\n",
       "    <tr style=\"text-align: right;\">\n",
       "      <th></th>\n",
       "      <th>予測 = 2000万未満</th>\n",
       "      <th>予測 = 2000万以上</th>\n",
       "    </tr>\n",
       "  </thead>\n",
       "  <tbody>\n",
       "    <tr>\n",
       "      <th>正解 = 2000万未満</th>\n",
       "      <td>11</td>\n",
       "      <td>3</td>\n",
       "    </tr>\n",
       "    <tr>\n",
       "      <th>正解 = 2000万以上</th>\n",
       "      <td>1</td>\n",
       "      <td>8</td>\n",
       "    </tr>\n",
       "  </tbody>\n",
       "</table>\n",
       "</div>"
      ],
      "text/plain": [
       "              予測 = 2000万未満  予測 = 2000万以上\n",
       "正解 = 2000万未満            11             3\n",
       "正解 = 2000万以上             1             8"
      ]
     },
     "execution_count": 29,
     "metadata": {},
     "output_type": "execute_result"
    }
   ],
   "source": [
    "conf_mat = confusion_matrix(y.astype(int), y_pred.astype(int))\n",
    "conf_mat = pd.DataFrame(conf_mat, \n",
    "                        index=['正解 = 2000万未満', '正解 = 2000万以上'], \n",
    "                        columns=['予測 = 2000万未満', '予測 = 2000万以上'])\n",
    "conf_mat\n"
   ]
  },
  {
   "cell_type": "code",
   "execution_count": 30,
   "metadata": {},
   "outputs": [
    {
     "data": {
      "text/plain": [
       "0.7272727272727273"
      ]
     },
     "execution_count": 30,
     "metadata": {},
     "output_type": "execute_result"
    }
   ],
   "source": [
    "8/11"
   ]
  },
  {
   "cell_type": "code",
   "execution_count": null,
   "metadata": {},
   "outputs": [],
   "source": []
  },
  {
   "cell_type": "code",
   "execution_count": 19,
   "metadata": {},
   "outputs": [
    {
     "ename": "SyntaxError",
     "evalue": "invalid syntax (<ipython-input-19-e3d444fc5336>, line 1)",
     "output_type": "error",
     "traceback": [
      "\u001b[0;36m  File \u001b[0;32m\"<ipython-input-19-e3d444fc5336>\"\u001b[0;36m, line \u001b[0;32m1\u001b[0m\n\u001b[0;31m    196695\t1024\u001b[0m\n\u001b[0m          \t   ^\u001b[0m\n\u001b[0;31mSyntaxError\u001b[0m\u001b[0;31m:\u001b[0m invalid syntax\n"
     ]
    }
   ],
   "source": [
    "196695\t1024\n",
    "正解 = successful\t132316\t1640"
   ]
  },
  {
   "cell_type": "code",
   "execution_count": null,
   "metadata": {},
   "outputs": [],
   "source": [
    "(196695+1640)/(196695+1024+132316+1640)"
   ]
  },
  {
   "cell_type": "code",
   "execution_count": null,
   "metadata": {},
   "outputs": [],
   "source": [
    "132316/(132316+196695)"
   ]
  },
  {
   "cell_type": "code",
   "execution_count": null,
   "metadata": {},
   "outputs": [],
   "source": [
    "1640/(132316+1640)"
   ]
  },
  {
   "cell_type": "code",
   "execution_count": null,
   "metadata": {},
   "outputs": [],
   "source": [
    "1640/(1640+1024)"
   ]
  },
  {
   "cell_type": "code",
   "execution_count": null,
   "metadata": {},
   "outputs": [],
   "source": [
    "13/32"
   ]
  },
  {
   "cell_type": "code",
   "execution_count": null,
   "metadata": {},
   "outputs": [],
   "source": [
    "132316+1640"
   ]
  },
  {
   "cell_type": "code",
   "execution_count": null,
   "metadata": {},
   "outputs": [],
   "source": [
    "196695+1024"
   ]
  },
  {
   "cell_type": "code",
   "execution_count": null,
   "metadata": {},
   "outputs": [],
   "source": [
    "failed        197719\n",
    "successful    133956"
   ]
  }
 ],
 "metadata": {
  "kernelspec": {
   "display_name": "Python 3",
   "language": "python",
   "name": "python3"
  },
  "language_info": {
   "codemirror_mode": {
    "name": "ipython",
    "version": 3
   },
   "file_extension": ".py",
   "mimetype": "text/x-python",
   "name": "python",
   "nbconvert_exporter": "python",
   "pygments_lexer": "ipython3",
   "version": "3.7.3"
  }
 },
 "nbformat": 4,
 "nbformat_minor": 2
}
