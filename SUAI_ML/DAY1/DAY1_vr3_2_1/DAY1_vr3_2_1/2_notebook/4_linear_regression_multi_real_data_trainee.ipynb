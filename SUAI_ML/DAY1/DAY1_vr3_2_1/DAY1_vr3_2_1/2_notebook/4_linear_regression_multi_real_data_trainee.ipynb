{
 "cells": [
  {
   "cell_type": "markdown",
   "metadata": {},
   "source": [
    "## 線形回帰\n",
    "- 実際のデータを使って線形回帰を行う"
   ]
  },
  {
   "cell_type": "code",
   "execution_count": 9,
   "metadata": {},
   "outputs": [],
   "source": [
    "%matplotlib inline\n",
    "import pandas as pd\n",
    "import numpy as np\n",
    "from sklearn.linear_model import LinearRegression\n",
    "import seaborn as sns\n",
    "import matplotlib.pyplot as plt\n",
    "from mpl_toolkits.mplot3d import Axes3D #3D散布図の描画"
   ]
  },
  {
   "cell_type": "markdown",
   "metadata": {},
   "source": [
    "### 1. データの読み込み "
   ]
  },
  {
   "cell_type": "code",
   "execution_count": 10,
   "metadata": {},
   "outputs": [
    {
     "output_type": "display_data",
     "data": {
      "text/plain": "      price  sqft_living  sqft_lot  sqft_above  yr_built  sqft_living15  \\\n0  221900.0         1180      5650        1180      1955           1340   \n1  538000.0         2570      7242        2170      1951           1690   \n2  180000.0          770     10000         770      1933           2720   \n3  604000.0         1960      5000        1050      1965           1360   \n4  510000.0         1680      8080        1680      1987           1800   \n\n   sqft_lot15  \n0        5650  \n1        7639  \n2        8062  \n3        5000  \n4        7503  ",
      "text/html": "<div>\n<style scoped>\n    .dataframe tbody tr th:only-of-type {\n        vertical-align: middle;\n    }\n\n    .dataframe tbody tr th {\n        vertical-align: top;\n    }\n\n    .dataframe thead th {\n        text-align: right;\n    }\n</style>\n<table border=\"1\" class=\"dataframe\">\n  <thead>\n    <tr style=\"text-align: right;\">\n      <th></th>\n      <th>price</th>\n      <th>sqft_living</th>\n      <th>sqft_lot</th>\n      <th>sqft_above</th>\n      <th>yr_built</th>\n      <th>sqft_living15</th>\n      <th>sqft_lot15</th>\n    </tr>\n  </thead>\n  <tbody>\n    <tr>\n      <th>0</th>\n      <td>221900.0</td>\n      <td>1180</td>\n      <td>5650</td>\n      <td>1180</td>\n      <td>1955</td>\n      <td>1340</td>\n      <td>5650</td>\n    </tr>\n    <tr>\n      <th>1</th>\n      <td>538000.0</td>\n      <td>2570</td>\n      <td>7242</td>\n      <td>2170</td>\n      <td>1951</td>\n      <td>1690</td>\n      <td>7639</td>\n    </tr>\n    <tr>\n      <th>2</th>\n      <td>180000.0</td>\n      <td>770</td>\n      <td>10000</td>\n      <td>770</td>\n      <td>1933</td>\n      <td>2720</td>\n      <td>8062</td>\n    </tr>\n    <tr>\n      <th>3</th>\n      <td>604000.0</td>\n      <td>1960</td>\n      <td>5000</td>\n      <td>1050</td>\n      <td>1965</td>\n      <td>1360</td>\n      <td>5000</td>\n    </tr>\n    <tr>\n      <th>4</th>\n      <td>510000.0</td>\n      <td>1680</td>\n      <td>8080</td>\n      <td>1680</td>\n      <td>1987</td>\n      <td>1800</td>\n      <td>7503</td>\n    </tr>\n  </tbody>\n</table>\n</div>"
     },
     "metadata": {}
    },
    {
     "output_type": "execute_result",
     "data": {
      "text/plain": [
       "              price   sqft_living      sqft_lot    sqft_above      yr_built  \\\n",
       "count  2.161300e+04  21613.000000  2.161300e+04  21613.000000  21613.000000   \n",
       "mean   5.400881e+05   2079.899736  1.510697e+04   1788.390691   1971.005136   \n",
       "std    3.671272e+05    918.440897  4.142051e+04    828.090978     29.373411   \n",
       "min    7.500000e+04    290.000000  5.200000e+02    290.000000   1900.000000   \n",
       "25%    3.219500e+05   1427.000000  5.040000e+03   1190.000000   1951.000000   \n",
       "50%    4.500000e+05   1910.000000  7.618000e+03   1560.000000   1975.000000   \n",
       "75%    6.450000e+05   2550.000000  1.068800e+04   2210.000000   1997.000000   \n",
       "max    7.700000e+06  13540.000000  1.651359e+06   9410.000000   2015.000000   \n",
       "\n",
       "       sqft_living15     sqft_lot15  \n",
       "count   21613.000000   21613.000000  \n",
       "mean     1986.552492   12768.455652  \n",
       "std       685.391304   27304.179631  \n",
       "min       399.000000     651.000000  \n",
       "25%      1490.000000    5100.000000  \n",
       "50%      1840.000000    7620.000000  \n",
       "75%      2360.000000   10083.000000  \n",
       "max      6210.000000  871200.000000  "
      ],
      "text/html": "<div>\n<style scoped>\n    .dataframe tbody tr th:only-of-type {\n        vertical-align: middle;\n    }\n\n    .dataframe tbody tr th {\n        vertical-align: top;\n    }\n\n    .dataframe thead th {\n        text-align: right;\n    }\n</style>\n<table border=\"1\" class=\"dataframe\">\n  <thead>\n    <tr style=\"text-align: right;\">\n      <th></th>\n      <th>price</th>\n      <th>sqft_living</th>\n      <th>sqft_lot</th>\n      <th>sqft_above</th>\n      <th>yr_built</th>\n      <th>sqft_living15</th>\n      <th>sqft_lot15</th>\n    </tr>\n  </thead>\n  <tbody>\n    <tr>\n      <th>count</th>\n      <td>2.161300e+04</td>\n      <td>21613.000000</td>\n      <td>2.161300e+04</td>\n      <td>21613.000000</td>\n      <td>21613.000000</td>\n      <td>21613.000000</td>\n      <td>21613.000000</td>\n    </tr>\n    <tr>\n      <th>mean</th>\n      <td>5.400881e+05</td>\n      <td>2079.899736</td>\n      <td>1.510697e+04</td>\n      <td>1788.390691</td>\n      <td>1971.005136</td>\n      <td>1986.552492</td>\n      <td>12768.455652</td>\n    </tr>\n    <tr>\n      <th>std</th>\n      <td>3.671272e+05</td>\n      <td>918.440897</td>\n      <td>4.142051e+04</td>\n      <td>828.090978</td>\n      <td>29.373411</td>\n      <td>685.391304</td>\n      <td>27304.179631</td>\n    </tr>\n    <tr>\n      <th>min</th>\n      <td>7.500000e+04</td>\n      <td>290.000000</td>\n      <td>5.200000e+02</td>\n      <td>290.000000</td>\n      <td>1900.000000</td>\n      <td>399.000000</td>\n      <td>651.000000</td>\n    </tr>\n    <tr>\n      <th>25%</th>\n      <td>3.219500e+05</td>\n      <td>1427.000000</td>\n      <td>5.040000e+03</td>\n      <td>1190.000000</td>\n      <td>1951.000000</td>\n      <td>1490.000000</td>\n      <td>5100.000000</td>\n    </tr>\n    <tr>\n      <th>50%</th>\n      <td>4.500000e+05</td>\n      <td>1910.000000</td>\n      <td>7.618000e+03</td>\n      <td>1560.000000</td>\n      <td>1975.000000</td>\n      <td>1840.000000</td>\n      <td>7620.000000</td>\n    </tr>\n    <tr>\n      <th>75%</th>\n      <td>6.450000e+05</td>\n      <td>2550.000000</td>\n      <td>1.068800e+04</td>\n      <td>2210.000000</td>\n      <td>1997.000000</td>\n      <td>2360.000000</td>\n      <td>10083.000000</td>\n    </tr>\n    <tr>\n      <th>max</th>\n      <td>7.700000e+06</td>\n      <td>13540.000000</td>\n      <td>1.651359e+06</td>\n      <td>9410.000000</td>\n      <td>2015.000000</td>\n      <td>6210.000000</td>\n      <td>871200.000000</td>\n    </tr>\n  </tbody>\n</table>\n</div>"
     },
     "metadata": {},
     "execution_count": 10
    }
   ],
   "source": [
    "df_house = pd.read_csv(\"../1_data/kc_house_data.csv\")[['price', 'sqft_living', 'sqft_lot', 'sqft_above', 'yr_built', 'sqft_living15', 'sqft_lot15']]\n",
    "\n",
    "# 先程と似た中古住宅のデータ\n",
    "display(df_house.head())\n",
    "df_house.describe()"
   ]
  },
  {
   "cell_type": "markdown",
   "metadata": {},
   "source": [
    "### 2. [演習] データの統計量を確認し，Scikit-learnを用いて線形回帰を実装してみましょう\n",
    "- 先程は説明変数を選択しましたが，この演習ではすべての説明変数を使用しましょう\n",
    "- 散布図行列を書いてみましょう\n",
    "- 相関係数を確認してみましょう\n",
    "- 相関係数をヒートマップで可視化してみましょう\n",
    "- w0, w1, ..., w6と二乗誤差を表示してみましょう"
   ]
  },
  {
   "cell_type": "code",
   "execution_count": null,
   "metadata": {},
   "outputs": [],
   "source": [
    "pd.plotting.scatter_matrix(df_house,figsize=(10,10))\n",
    "plt.show()"
   ]
  },
  {
   "cell_type": "code",
   "execution_count": 11,
   "metadata": {},
   "outputs": [
    {
     "output_type": "execute_result",
     "data": {
      "text/plain": [
       "                  price  sqft_living  sqft_lot  sqft_above  yr_built  \\\n",
       "price          1.000000     0.702035  0.089661    0.605567  0.054012   \n",
       "sqft_living    0.702035     1.000000  0.172826    0.876597  0.318049   \n",
       "sqft_lot       0.089661     0.172826  1.000000    0.183512  0.053080   \n",
       "sqft_above     0.605567     0.876597  0.183512    1.000000  0.423898   \n",
       "yr_built       0.054012     0.318049  0.053080    0.423898  1.000000   \n",
       "sqft_living15  0.585379     0.756420  0.144608    0.731870  0.326229   \n",
       "sqft_lot15     0.082447     0.183286  0.718557    0.194050  0.070958   \n",
       "\n",
       "               sqft_living15  sqft_lot15  \n",
       "price               0.585379    0.082447  \n",
       "sqft_living         0.756420    0.183286  \n",
       "sqft_lot            0.144608    0.718557  \n",
       "sqft_above          0.731870    0.194050  \n",
       "yr_built            0.326229    0.070958  \n",
       "sqft_living15       1.000000    0.183192  \n",
       "sqft_lot15          0.183192    1.000000  "
      ],
      "text/html": "<div>\n<style scoped>\n    .dataframe tbody tr th:only-of-type {\n        vertical-align: middle;\n    }\n\n    .dataframe tbody tr th {\n        vertical-align: top;\n    }\n\n    .dataframe thead th {\n        text-align: right;\n    }\n</style>\n<table border=\"1\" class=\"dataframe\">\n  <thead>\n    <tr style=\"text-align: right;\">\n      <th></th>\n      <th>price</th>\n      <th>sqft_living</th>\n      <th>sqft_lot</th>\n      <th>sqft_above</th>\n      <th>yr_built</th>\n      <th>sqft_living15</th>\n      <th>sqft_lot15</th>\n    </tr>\n  </thead>\n  <tbody>\n    <tr>\n      <th>price</th>\n      <td>1.000000</td>\n      <td>0.702035</td>\n      <td>0.089661</td>\n      <td>0.605567</td>\n      <td>0.054012</td>\n      <td>0.585379</td>\n      <td>0.082447</td>\n    </tr>\n    <tr>\n      <th>sqft_living</th>\n      <td>0.702035</td>\n      <td>1.000000</td>\n      <td>0.172826</td>\n      <td>0.876597</td>\n      <td>0.318049</td>\n      <td>0.756420</td>\n      <td>0.183286</td>\n    </tr>\n    <tr>\n      <th>sqft_lot</th>\n      <td>0.089661</td>\n      <td>0.172826</td>\n      <td>1.000000</td>\n      <td>0.183512</td>\n      <td>0.053080</td>\n      <td>0.144608</td>\n      <td>0.718557</td>\n    </tr>\n    <tr>\n      <th>sqft_above</th>\n      <td>0.605567</td>\n      <td>0.876597</td>\n      <td>0.183512</td>\n      <td>1.000000</td>\n      <td>0.423898</td>\n      <td>0.731870</td>\n      <td>0.194050</td>\n    </tr>\n    <tr>\n      <th>yr_built</th>\n      <td>0.054012</td>\n      <td>0.318049</td>\n      <td>0.053080</td>\n      <td>0.423898</td>\n      <td>1.000000</td>\n      <td>0.326229</td>\n      <td>0.070958</td>\n    </tr>\n    <tr>\n      <th>sqft_living15</th>\n      <td>0.585379</td>\n      <td>0.756420</td>\n      <td>0.144608</td>\n      <td>0.731870</td>\n      <td>0.326229</td>\n      <td>1.000000</td>\n      <td>0.183192</td>\n    </tr>\n    <tr>\n      <th>sqft_lot15</th>\n      <td>0.082447</td>\n      <td>0.183286</td>\n      <td>0.718557</td>\n      <td>0.194050</td>\n      <td>0.070958</td>\n      <td>0.183192</td>\n      <td>1.000000</td>\n    </tr>\n  </tbody>\n</table>\n</div>"
     },
     "metadata": {},
     "execution_count": 11
    }
   ],
   "source": [
    "df_house.corr()"
   ]
  },
  {
   "cell_type": "code",
   "execution_count": null,
   "metadata": {},
   "outputs": [],
   "source": [
    "sns.heatmap(df_house)\n",
    "plt.show()"
   ]
  },
  {
   "cell_type": "code",
   "execution_count": 12,
   "metadata": {},
   "outputs": [],
   "source": [
    "y=df_house[\"price\"].values\n",
    "x=df_house.iloc[:,1:].values\n"
   ]
  },
  {
   "cell_type": "code",
   "execution_count": 13,
   "metadata": {},
   "outputs": [
    {
     "output_type": "execute_result",
     "data": {
      "text/plain": [
       "LinearRegression(copy_X=True, fit_intercept=True, n_jobs=None,\n",
       "         normalize=False)"
      ]
     },
     "metadata": {},
     "execution_count": 13
    }
   ],
   "source": [
    "regr=LinearRegression(fit_intercept=True)\n",
    "regr.fit(x,y)\n"
   ]
  },
  {
   "cell_type": "code",
   "execution_count": 19,
   "metadata": {},
   "outputs": [],
   "source": [
    "w0 =regr.intercept_\n",
    "w=regr.coef_\n",
    "\n"
   ]
  },
  {
   "cell_type": "code",
   "execution_count": 26,
   "metadata": {},
   "outputs": [
    {
     "output_type": "stream",
     "name": "stdout",
     "text": [
      "w0=5028516.27,w1=244.02,w2=0.03,w3=21.22,w4=-2639.64,w5=89.67,w6=-0.76,mse=670336500985470.12\n"
     ]
    }
   ],
   "source": [
    "y_est = np.sum(w*x,axis=1)+w0\n",
    "mse = 0.5* np.sum((y-y_est)**2)\n",
    "print(\"w0={0:.2f},w1={1[0]:.2f},w2={1[1]:.2f},w3={1[2]:.2f},w4={1[3]:.2f},w5={1[4]:.2f},w6={1[5]:.2f},mse={2:.2f}\".format(w0,w,mse))\n"
   ]
  },
  {
   "cell_type": "code",
   "execution_count": null,
   "metadata": {},
   "outputs": [],
   "source": []
  }
 ],
 "metadata": {
  "kernelspec": {
   "display_name": "Python 3",
   "language": "python",
   "name": "python3"
  },
  "language_info": {
   "codemirror_mode": {
    "name": "ipython",
    "version": 3
   },
   "file_extension": ".py",
   "mimetype": "text/x-python",
   "name": "python",
   "nbconvert_exporter": "python",
   "pygments_lexer": "ipython3",
   "version": "3.7.3-final"
  }
 },
 "nbformat": 4,
 "nbformat_minor": 2
}