{
 "cells": [
  {
   "cell_type": "markdown",
   "metadata": {},
   "source": [
    "## 事前準備のお願い\n",
    "- こちらのNotebookがすべてエラーなく実行できれば事前準備はOKです\n",
    "- 実行するときは，実行したい部分（セル）をクリックした後にShiftキーとEnterキーを同時押し"
   ]
  },
  {
   "cell_type": "markdown",
   "metadata": {},
   "source": [
    "### (1) Anaconda3-2019.03がインストールされていることを確認\n",
    "* Anaconda3-2019.03でない場合は、一旦このNotebookを閉じて、Anaconda3-2019.03をインストールしなおしてください。その際、バージョンの混乱を避けるため、先にインストール済みのAnacondaをアンインストールしておいて下さい。\n",
    "* Anaconda3-2019.03のAnacondaがインストールされていることを確認できた方は、(2)以降に進んでください。"
   ]
  },
  {
   "cell_type": "markdown",
   "metadata": {
    "ExecuteTime": {
     "end_time": "2018-03-30T03:25:46.484654Z",
     "start_time": "2018-03-30T03:25:46.471092Z"
    }
   },
   "source": [
    "### (2) 各ライブラリのバージョン確認"
   ]
  },
  {
   "cell_type": "code",
   "execution_count": 1,
   "metadata": {},
   "outputs": [
    {
     "name": "stdout",
     "output_type": "stream",
     "text": [
      "1.16.2\n",
      "1.16.2であればok\n",
      "0.24.2\n",
      "0.24.2であればok\n",
      "0.20.3\n",
      "0.20.3であればok\n",
      "3.0.3\n",
      "3.0.3であればok\n",
      "0.9.1\n",
      "0.9.1であればok\n",
      "5.4.1\n",
      "5.4.1であればok\n"
     ]
    }
   ],
   "source": [
    "import numpy as np\n",
    "print(np.__version__)\n",
    "print(\"1.16.2であればok\")\n",
    "\n",
    "import pandas as pd\n",
    "print(pd.__version__)\n",
    "print(\"0.24.2であればok\")\n",
    "\n",
    "import sklearn as sk\n",
    "print(sk.__version__)\n",
    "print(\"0.20.3であればok\")\n",
    "\n",
    "import matplotlib as mpl\n",
    "print(mpl.__version__)\n",
    "print(\"3.0.3であればok\")\n",
    "\n",
    "import seaborn as sns\n",
    "print(sns.__version__)\n",
    "print(\"0.9.1であればok\")\n",
    "\n",
    "\n",
    "import PIL as pil\n",
    "print(pil.__version__)\n",
    "print(\"5.4.1であればok\")"
   ]
  },
  {
   "cell_type": "markdown",
   "metadata": {},
   "source": [
    "### (3) tensorflowのインストール\n",
    "* 端末にて以下を実行しインストールする\n",
    "```\n",
    "pip install tensorflow==1.14.0\n",
    "```\n"
   ]
  },
  {
   "cell_type": "code",
   "execution_count": 2,
   "metadata": {},
   "outputs": [
    {
     "name": "stdout",
     "output_type": "stream",
     "text": [
      "1.14.0\n",
      "1.14.0であればok\n"
     ]
    }
   ],
   "source": [
    "import tensorflow as tf\n",
    "print(tf.__version__)\n",
    "print(\"1.14.0であればok\")"
   ]
  },
  {
   "cell_type": "markdown",
   "metadata": {},
   "source": [
    "### (4) kerasのインストール\n",
    "* 端末にて以下を実行しインストールする\n",
    "```\n",
    "pip install keras==2.2.4\n",
    "```"
   ]
  },
  {
   "cell_type": "code",
   "execution_count": 3,
   "metadata": {},
   "outputs": [
    {
     "name": "stdout",
     "output_type": "stream",
     "text": [
      "2.2.4\n",
      "2.2.4であればok\n"
     ]
    },
    {
     "name": "stderr",
     "output_type": "stream",
     "text": [
      "Using TensorFlow backend.\n"
     ]
    }
   ],
   "source": [
    "import keras\n",
    "keras.__version__\n",
    "print(keras.__version__)\n",
    "print(\"2.2.4であればok\")"
   ]
  },
  {
   "cell_type": "markdown",
   "metadata": {},
   "source": [
    "### (5) 描画用ライブラリのインストール\n",
    "\n",
    "#### [macの場合]\n",
    "* graphvizのインストール\n",
    "``` \n",
    "brew install graphviz==0.11\n",
    "```\n",
    "* 必要ライブラリのインストール\n",
    "```\n",
    "pip install graphviz==0.11\n",
    "pip install pydotplus==2.0.2\n",
    "```\n",
    "\n",
    "#### [windowsの場合]\n",
    "* graphvizのインストール  \n",
    "http://ruby.kyoto-wu.ac.jp/info-com/Softwares/Graphviz/\n",
    "* 必要ライブラリのインストール\n",
    "```\n",
    "pip install graphviz==0.11\n",
    "pip install pydotplus==2.0.2\n",
    "```\n"
   ]
  },
  {
   "cell_type": "code",
   "execution_count": 4,
   "metadata": {
    "ExecuteTime": {
     "end_time": "2018-03-30T03:27:19.014087Z",
     "start_time": "2018-03-30T03:27:19.005961Z"
    }
   },
   "outputs": [
    {
     "name": "stdout",
     "output_type": "stream",
     "text": [
      "0.11\n",
      "0.11であればok\n",
      "2.0.2\n",
      "2.0.2であればok\n"
     ]
    }
   ],
   "source": [
    "import graphviz\n",
    "print(graphviz.__version__)\n",
    "print(\"0.11であればok\")\n",
    "\n",
    "from pydotplus import version as pdp\n",
    "print(pdp.__version__)\n",
    "print(\"2.0.2であればok\")"
   ]
  },
  {
   "cell_type": "code",
   "execution_count": null,
   "metadata": {},
   "outputs": [],
   "source": []
  }
 ],
 "metadata": {
  "kernelspec": {
   "display_name": "Python 3",
   "language": "python",
   "name": "python3"
  },
  "language_info": {
   "codemirror_mode": {
    "name": "ipython",
    "version": 3
   },
   "file_extension": ".py",
   "mimetype": "text/x-python",
   "name": "python",
   "nbconvert_exporter": "python",
   "pygments_lexer": "ipython3",
   "version": "3.7.3"
  }
 },
 "nbformat": 4,
 "nbformat_minor": 2
}
