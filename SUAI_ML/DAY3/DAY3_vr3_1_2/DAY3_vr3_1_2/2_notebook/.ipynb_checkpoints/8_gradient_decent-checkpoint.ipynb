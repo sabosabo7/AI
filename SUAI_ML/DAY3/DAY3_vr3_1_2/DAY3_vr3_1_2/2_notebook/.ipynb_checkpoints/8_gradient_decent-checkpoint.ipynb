{
 "cells": [
  {
   "cell_type": "markdown",
   "metadata": {},
   "source": [
    "## 最急降下法"
   ]
  },
  {
   "cell_type": "code",
   "execution_count": 1,
   "metadata": {},
   "outputs": [],
   "source": [
    "%matplotlib inline\n",
    "import pandas as pd\n",
    "import numpy as np\n",
    "import matplotlib.pyplot as plt\n",
    "from pylab import *"
   ]
  },
  {
   "cell_type": "markdown",
   "metadata": {},
   "source": [
    "### 最急降下法とは\n",
    "関数の勾配が最も急な方向に探索の方向を取りながら最小点にたどり着く方法。"
   ]
  },
  {
   "cell_type": "markdown",
   "metadata": {
    "collapsed": true
   },
   "source": [
    "### 2次2変数の最小値探索問題（凸2次計画問題）\n",
    "関数 $f(x,y)=(x-3)^2+(2y-1)^2$の最小点を求めよ。\n",
    "ただし、移動距離$\\alpha$は計算を簡単にするため0.1に固定する。収束条件は1.0e-5とする。"
   ]
  },
  {
   "cell_type": "markdown",
   "metadata": {},
   "source": [
    "まずは、$x,y$のそれぞれについて微分を行う。これを偏微分と呼ぶ。\n",
    "$$\\frac{\\partial f}{\\partial x} = 2x -6$$\n",
    "  \n",
    "$$\\frac{\\partial f}{\\partial y} = 8y -4$$\n",
    "微分の結果の関数は傾きを表す。進むべき方向は値が小さくなる方向であるため、マイナスをつける。\n",
    "$$- \\nabla f(x,y)=(-(2x-6),-(8y-4)) = (-2x+6,-8y+4)$$\n",
    "これを勾配ベクトルと呼ぶ。  \n",
    "例えば、$(x,y)=(1,1)$での勾配ベクトルは、\n",
    "$$- \\nabla f(1,1)=(-2 \\times 1 + 6,-8 \\times1+4)=(4,-4)$$\n",
    "となるため、$(x,y)=(1,1)$上の球は右下45°の方向に転がっていくことになる。"
   ]
  },
  {
   "cell_type": "markdown",
   "metadata": {},
   "source": [
    "### グラフを描画"
   ]
  },
  {
   "cell_type": "code",
   "execution_count": null,
   "metadata": {},
   "outputs": [],
   "source": [
    "axis_x = np.arange(-10,10,0.1)\n",
    "axis_y = np.arange(-10,10,0.1)\n",
    "mx, my = meshgrid(axis_x, axis_y) \n",
    "\n",
    "#目的関数の値をつくる\n",
    "mz = np.ones([200,200])\n",
    "for i,y in enumerate(axis_y):\n",
    "    z = [] \n",
    "    for x in axis_x:\n",
    "        z.append((x-3)**2 + (2*y-1)**2) #目的関数\n",
    "    mz[i] = z\n",
    "    \n",
    "#目的関数\n",
    "plt.pcolor(mx,my,mz,cmap=\"jet\")\n",
    "plt.colorbar()\n",
    "\n",
    "#目的関数の最小値\n",
    "plt.scatter(x=3,y=0.5,marker=\"x\",s=100,c=\"k\")\n",
    "\n",
    "#表示範囲\n",
    "plt.xlim([-10,10])\n",
    "plt.ylim([-10,10])\n",
    "\n",
    "#描画\n",
    "plt.show()"
   ]
  },
  {
   "cell_type": "code",
   "execution_count": null,
   "metadata": {},
   "outputs": [],
   "source": [
    "#条件設定\n",
    "x = -9 #初期値\n",
    "y = -9 #初期値\n",
    "alpha = 0.1 #学習率\n",
    "norm = 1\n",
    "i = 0 \n",
    "maxIter = 1000\n",
    "\n",
    "#結果を格納するdataframe\n",
    "df_re = pd.DataFrame()\n",
    "df_re.loc[i,\"x\"] = x\n",
    "df_re.loc[i,\"y\"] = y\n",
    "df_re.loc[i,\"norm\"] = norm\n",
    "i += 1\n",
    "\n",
    "#計算\n",
    "while norm > 1.0e-5:\n",
    "    dx = -2 * x + 6\n",
    "    dy = -8 * y + 4\n",
    "    x += dx * alpha \n",
    "    y += dy * alpha\n",
    "    norm = np.linalg.norm([dx,dy])\n",
    "    df_re.loc[i,\"x\"] = x\n",
    "    df_re.loc[i,\"y\"] = y\n",
    "    df_re.loc[i,\"norm\"] = norm\n",
    "    i += 1\n",
    "    \n",
    "    if i > maxIter:\n",
    "        break\n",
    "        \n",
    "print(i,round(x,3),round(y,3),norm)"
   ]
  },
  {
   "cell_type": "markdown",
   "metadata": {},
   "source": [
    "### 結果のプロット"
   ]
  },
  {
   "cell_type": "code",
   "execution_count": null,
   "metadata": {
    "scrolled": true
   },
   "outputs": [],
   "source": [
    "axis_x = np.arange(-10,10,0.1)\n",
    "axis_y = np.arange(-10,10,0.1)\n",
    "mx, my = meshgrid(axis_x, axis_y) \n",
    "\n",
    "#目的関数の値をつくる。\n",
    "mz = np.ones([200,200])\n",
    "for i,y in enumerate(axis_y):\n",
    "    z = [] \n",
    "    for x in axis_x:\n",
    "        z.append((x-3)**2 + (2*y-1)**2) #目的関数\n",
    "    mz[i] = z\n",
    "    \n",
    "#目的関数\n",
    "plt.pcolor(mx,my,mz,cmap=\"jet\")\n",
    "plt.colorbar()\n",
    "\n",
    "#目的関数の最小値\n",
    "plt.scatter(x=3,y=0.5,marker=\"x\",s=100,c=\"black\")\n",
    "\n",
    "#表示範囲\n",
    "plt.xlim([-10,10])\n",
    "plt.ylim([-10,10])\n",
    "\n",
    "#探索点\n",
    "plt.plot(df_re[\"x\"], df_re[\"y\"], marker=\"o\", c=\"k\")\n",
    "\n",
    "#描画\n",
    "plt.show()"
   ]
  },
  {
   "cell_type": "markdown",
   "metadata": {},
   "source": [
    "### [演習]\n",
    "- 初期値を(x,y)=(9,9)に変更すると結果はどうかわるでしょうか？\n",
    "- 学習率$\\alpha$を0.2に変更すると結果はどうかわるでしょうか？\n",
    "- 学習率$\\alpha$を0.3に変更すると結果はどうかわるでしょうか？"
   ]
  },
  {
   "cell_type": "code",
   "execution_count": null,
   "metadata": {},
   "outputs": [],
   "source": []
  }
 ],
 "metadata": {
  "anaconda-cloud": {},
  "kernelspec": {
   "display_name": "Python 3",
   "language": "python",
   "name": "python3"
  },
  "language_info": {
   "codemirror_mode": {
    "name": "ipython",
    "version": 3
   },
   "file_extension": ".py",
   "mimetype": "text/x-python",
   "name": "python",
   "nbconvert_exporter": "python",
   "pygments_lexer": "ipython3",
   "version": "3.7.3"
  }
 },
 "nbformat": 4,
 "nbformat_minor": 1
}
