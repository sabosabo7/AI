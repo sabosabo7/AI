{
 "cells": [
  {
   "cell_type": "markdown",
   "metadata": {},
   "source": [
    "## K-means"
   ]
  },
  {
   "cell_type": "code",
   "execution_count": null,
   "metadata": {
    "ExecuteTime": {
     "end_time": "2018-03-28T12:23:46.957445Z",
     "start_time": "2018-03-28T12:23:44.143244Z"
    },
    "collapsed": true
   },
   "outputs": [],
   "source": [
    "import pandas as pd\n",
    "import numpy as np\n",
    "import matplotlib.pyplot as plt\n",
    "%matplotlib inline\n",
    "from sklearn.cluster import KMeans\n",
    "import seaborn as sns\n",
    "from sklearn.datasets import make_blobs"
   ]
  },
  {
   "cell_type": "markdown",
   "metadata": {},
   "source": [
    "### データを生成"
   ]
  },
  {
   "cell_type": "code",
   "execution_count": null,
   "metadata": {
    "ExecuteTime": {
     "end_time": "2018-03-28T12:23:47.346808Z",
     "start_time": "2018-03-28T12:23:46.960952Z"
    },
    "collapsed": true
   },
   "outputs": [],
   "source": [
    "# そのまま実行します\n",
    "X, y = make_blobs(n_samples=200, centers=3, n_features=2,\n",
    "                  cluster_std=2.0, random_state=2010)\n",
    "df_data = pd.DataFrame(X, columns=[\"x1\",\"x2\"])\n",
    "df_data[\"label\"] = y\n",
    "display(df_data.head())\n",
    "sns.lmplot(x=\"x1\", y=\"x2\", hue=\"label\", data=df_data,fit_reg=False)"
   ]
  },
  {
   "cell_type": "markdown",
   "metadata": {},
   "source": [
    "一部「外れ値」があり、別クラスタの領域に入り込んでいるデータも含まれている。"
   ]
  },
  {
   "cell_type": "markdown",
   "metadata": {},
   "source": [
    "### K=2"
   ]
  },
  {
   "cell_type": "code",
   "execution_count": null,
   "metadata": {
    "ExecuteTime": {
     "end_time": "2018-03-28T12:23:47.655681Z",
     "start_time": "2018-03-28T12:23:47.350457Z"
    },
    "collapsed": true
   },
   "outputs": [],
   "source": [
    "# クラスタ数を2設定\n",
    "k = 2\n",
    "clf = KMeans(n_clusters=k)\n",
    "clf.fit(X)\n",
    "y_pred = clf.predict(X)\n",
    "print(y_pred)\n",
    "\n",
    "# クラスタリング結果の描画, 赤×は中心点\n",
    "df_data[\"label_pred\"] = y_pred\n",
    "sns.lmplot(x=\"x1\", y=\"x2\", hue=\"label_pred\", data=df_data,fit_reg=False)\n",
    "plt.plot(clf.cluster_centers_[:,0],clf.cluster_centers_[:,1], marker=\"x\",ls=\"\",color=\"r\")"
   ]
  },
  {
   "cell_type": "markdown",
   "metadata": {},
   "source": [
    "### K=3"
   ]
  },
  {
   "cell_type": "code",
   "execution_count": null,
   "metadata": {
    "ExecuteTime": {
     "end_time": "2018-03-28T12:23:48.318487Z",
     "start_time": "2018-03-28T12:23:47.920321Z"
    },
    "collapsed": true
   },
   "outputs": [],
   "source": [
    "# クラスタ数を3に\n",
    "k = 3\n",
    "clf = KMeans(n_clusters=k)\n",
    "clf.fit(X)\n",
    "y_pred = clf.predict(X)\n",
    "print(y_pred)\n",
    "\n",
    "# クラスタリング結果の描画, 赤×は中心点\n",
    "df_data[\"label_pred\"] = y_pred\n",
    "sns.lmplot(x=\"x1\", y=\"x2\", hue=\"label_pred\", data=df_data,fit_reg=False)\n",
    "plt.plot(clf.cluster_centers_[:,0],clf.cluster_centers_[:,1], marker=\"x\",ls=\"\",color=\"r\")"
   ]
  },
  {
   "cell_type": "markdown",
   "metadata": {},
   "source": [
    "### K=4"
   ]
  },
  {
   "cell_type": "code",
   "execution_count": null,
   "metadata": {
    "ExecuteTime": {
     "end_time": "2018-03-28T12:23:49.106273Z",
     "start_time": "2018-03-28T12:23:48.781706Z"
    },
    "collapsed": true
   },
   "outputs": [],
   "source": [
    "# クラスタ数を4に\n",
    "k = 4\n",
    "clf = KMeans(n_clusters=k)\n",
    "clf.fit(X)\n",
    "y_pred = clf.predict(X)\n",
    "print(y_pred)\n",
    "\n",
    "# クラスタリング結果の描画, 赤×は中心点\n",
    "df_data[\"label_pred\"] = y_pred\n",
    "sns.lmplot(x=\"x1\", y=\"x2\", hue=\"label_pred\", data=df_data,fit_reg=False)\n",
    "plt.plot(clf.cluster_centers_[:,0],clf.cluster_centers_[:,1], marker=\"x\",ls=\"\",color=\"r\")"
   ]
  },
  {
   "cell_type": "markdown",
   "metadata": {},
   "source": [
    "### K=2-10 でエルボー図\n",
    "\n",
    "* 2から4 までだと少ないため、K=10まで試行し、エルボー図を描く。  \n",
    "* 今回は、KMeans のモデルが内部で計算して格納する、`inertia_` の値を利用する。  \n",
    "* `inertia_` は、データポイントとそれが属するクラスタ重心とのユークリッド距離の2乗の合計を示す値。  \n",
    "* K が増えるほど値が少なくなるのは当然ですが、急激に合計値の減少が緩やかになるポイントが重要。"
   ]
  },
  {
   "cell_type": "code",
   "execution_count": null,
   "metadata": {
    "ExecuteTime": {
     "end_time": "2018-03-28T12:23:51.308190Z",
     "start_time": "2018-03-28T12:23:51.295303Z"
    },
    "collapsed": true
   },
   "outputs": [],
   "source": [
    "def plot_elbow(X, sta_k, end_k):\n",
    "    sse = []\n",
    "    for i in range(sta_k, end_k+1):\n",
    "        clf = KMeans(n_clusters=i,random_state=1234)\n",
    "        clf.fit(X)\n",
    "        sse.append(clf.inertia_)\n",
    "\n",
    "    plt.plot(range(sta_k, end_k+1), sse, marker=\"o\")\n",
    "    plt.xlabel(\"Number of clusters\")\n",
    "    plt.ylabel(\"SSE\")\n",
    "    plt.show()"
   ]
  },
  {
   "cell_type": "code",
   "execution_count": null,
   "metadata": {
    "ExecuteTime": {
     "end_time": "2018-03-28T12:23:52.288231Z",
     "start_time": "2018-03-28T12:23:51.768334Z"
    },
    "collapsed": true
   },
   "outputs": [],
   "source": [
    "plot_elbow(X, sta_k=1, end_k=11)"
   ]
  },
  {
   "cell_type": "markdown",
   "metadata": {},
   "source": [
    "* この例では、きれいに「ひじ」が表れている。"
   ]
  },
  {
   "cell_type": "markdown",
   "metadata": {
    "collapsed": true
   },
   "source": [
    "### クラスタ内誤差平方和(SSE)とは\n",
    "\n",
    "$SSE=\\displaystyle \\sum^n_{i=1}\\displaystyle \\sum^k_{j=1}w^{(i,j)}||x^{(i)}-\\mu^{(j)}||^2_2$  \n",
    "\n",
    "$n:$データ数  \n",
    "$k:$クラスタ数  \n",
    "$w:$サンプル点$x^{(i)}$がクラスタ$j$内に存在する場合は$w^{(i,j)}=1$、存在しない場合は、$w^{(i,j)}=0$  "
   ]
  },
  {
   "cell_type": "code",
   "execution_count": null,
   "metadata": {
    "collapsed": true
   },
   "outputs": [],
   "source": []
  }
 ],
 "metadata": {
  "anaconda-cloud": {},
  "kernelspec": {
   "display_name": "Python 3",
   "language": "python",
   "name": "python3"
  },
  "language_info": {
   "codemirror_mode": {
    "name": "ipython",
    "version": 3
   },
   "file_extension": ".py",
   "mimetype": "text/x-python",
   "name": "python",
   "nbconvert_exporter": "python",
   "pygments_lexer": "ipython3",
   "version": "3.6.4"
  },
  "nav_menu": {},
  "toc": {
   "navigate_menu": true,
   "number_sections": false,
   "sideBar": true,
   "threshold": 6,
   "toc_cell": false,
   "toc_section_display": "block",
   "toc_window_display": false
  }
 },
 "nbformat": 4,
 "nbformat_minor": 1
}
