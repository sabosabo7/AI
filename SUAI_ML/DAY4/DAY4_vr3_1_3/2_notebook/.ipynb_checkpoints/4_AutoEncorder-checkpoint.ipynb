{
 "cells": [
  {
   "cell_type": "markdown",
   "metadata": {},
   "source": [
    "## Auntoencoder\n",
    "\n",
    "[参考]\n",
    "https://blog.keras.io/building-autoencoders-in-keras.html"
   ]
  },
  {
   "cell_type": "code",
   "execution_count": 22,
   "metadata": {
    "scrolled": true
   },
   "outputs": [],
   "source": [
    "from keras.layers import Input, Dense\n",
    "from keras.models import Model\n",
    "from keras.datasets import mnist\n",
    "import numpy as np\n",
    "from PIL import Image\n",
    "import matplotlib.pyplot as plt"
   ]
  },
  {
   "cell_type": "markdown",
   "metadata": {},
   "source": [
    "### MNISTデータの読み込み"
   ]
  },
  {
   "cell_type": "code",
   "execution_count": 23,
   "metadata": {},
   "outputs": [
    {
     "name": "stdout",
     "output_type": "stream",
     "text": [
      "Extracting ../../DAY7/2_notebook/mnist_data/train-images-idx3-ubyte.gz\n",
      "Extracting ../../DAY7/2_notebook/mnist_data/train-labels-idx1-ubyte.gz\n",
      "Extracting ../../DAY7/2_notebook/mnist_data/t10k-images-idx3-ubyte.gz\n",
      "Extracting ../../DAY7/2_notebook/mnist_data/t10k-labels-idx1-ubyte.gz\n"
     ]
    }
   ],
   "source": [
    "# Load the MNIST dataset\n",
    "from tensorflow.examples.tutorials.mnist import input_data\n",
    "mnist = input_data.read_data_sets(\"../../DAY7/2_notebook/mnist_data/\", one_hot=True) #パスは適宜変更する\n",
    "X_train = mnist.train.images\n",
    "X_test = mnist.test.images\n",
    "train_labels = mnist.train.labels\n",
    "test_labels = mnist.test.labels"
   ]
  },
  {
   "cell_type": "markdown",
   "metadata": {},
   "source": [
    "### モデルの構築"
   ]
  },
  {
   "cell_type": "code",
   "execution_count": 24,
   "metadata": {},
   "outputs": [
    {
     "name": "stderr",
     "output_type": "stream",
     "text": [
      "/Users/ogata/.pyenv/versions/anaconda3-5.0.1/lib/python3.6/site-packages/ipykernel_launcher.py:10: UserWarning: Update your `Model` call to the Keras 2 API: `Model(inputs=Tensor(\"in..., outputs=Tensor(\"de...)`\n",
      "  # Remove the CWD from sys.path while we load stuff.\n"
     ]
    }
   ],
   "source": [
    "encoding_dim = 36\n",
    "\n",
    "# 入力層の定義\n",
    "input_img = Input(shape=(784,))\n",
    "# 入力層〜中間層を定義\n",
    "encoded = Dense(encoding_dim, activation='relu')(input_img)\n",
    "# 中間層〜出力層を定義\n",
    "decoded = Dense(784, activation='sigmoid')(encoded)\n",
    "# 入力層〜出力層までをつなげて、ネットワークを完成させる\n",
    "autoencoder = Model(input=input_img, output=decoded)\n",
    "# 計算条件の定義\n",
    "autoencoder.compile(optimizer='adadelta', loss='binary_crossentropy')\n",
    "\n",
    "# 計算結果を利用しやすくするために、以下のモデルを定義\n",
    "# エンコーダ部分だけのモデルを定義\n",
    "encoder = Model(input_img, encoded)\n",
    "# デコーダ部分だけのモデルを定義\n",
    "encoded_input = Input(shape=(encoding_dim,))\n",
    "decoder_layer = autoencoder.layers[-1]\n",
    "decoder = Model(encoded_input, decoder_layer(encoded_input))"
   ]
  },
  {
   "cell_type": "markdown",
   "metadata": {},
   "source": [
    "### オートエンコーダの実行"
   ]
  },
  {
   "cell_type": "code",
   "execution_count": 25,
   "metadata": {},
   "outputs": [
    {
     "name": "stderr",
     "output_type": "stream",
     "text": [
      "/Users/ogata/.pyenv/versions/anaconda3-5.0.1/lib/python3.6/site-packages/ipykernel_launcher.py:5: UserWarning: The `nb_epoch` argument in `fit` has been renamed `epochs`.\n",
      "  \"\"\"\n"
     ]
    },
    {
     "name": "stdout",
     "output_type": "stream",
     "text": [
      "Train on 55000 samples, validate on 10000 samples\n",
      "Epoch 1/10\n",
      "55000/55000 [==============================] - 4s 80us/step - loss: 0.3561 - val_loss: 0.2718\n",
      "Epoch 2/10\n",
      "55000/55000 [==============================] - 4s 65us/step - loss: 0.2652 - val_loss: 0.2552\n",
      "Epoch 3/10\n",
      "55000/55000 [==============================] - 4s 73us/step - loss: 0.2453 - val_loss: 0.2328\n",
      "Epoch 4/10\n",
      "55000/55000 [==============================] - 4s 64us/step - loss: 0.2251 - val_loss: 0.2153\n",
      "Epoch 5/10\n",
      "55000/55000 [==============================] - 3s 60us/step - loss: 0.2103 - val_loss: 0.2026\n",
      "Epoch 6/10\n",
      "55000/55000 [==============================] - 3s 61us/step - loss: 0.1993 - val_loss: 0.1930\n",
      "Epoch 7/10\n",
      "55000/55000 [==============================] - 3s 61us/step - loss: 0.1907 - val_loss: 0.1851\n",
      "Epoch 8/10\n",
      "55000/55000 [==============================] - 3s 63us/step - loss: 0.1836 - val_loss: 0.1786\n",
      "Epoch 9/10\n",
      "55000/55000 [==============================] - 3s 63us/step - loss: 0.1775 - val_loss: 0.1729\n",
      "Epoch 10/10\n",
      "55000/55000 [==============================] - 3s 62us/step - loss: 0.1721 - val_loss: 0.1679\n"
     ]
    },
    {
     "data": {
      "text/plain": [
       "<keras.callbacks.History at 0x1131def28>"
      ]
     },
     "execution_count": 25,
     "metadata": {},
     "output_type": "execute_result"
    }
   ],
   "source": [
    "autoencoder.fit(X_train, X_train,\n",
    "                nb_epoch=10,\n",
    "                batch_size=256,\n",
    "                shuffle=True,\n",
    "                validation_data=(X_test, X_test))"
   ]
  },
  {
   "cell_type": "markdown",
   "metadata": {},
   "source": [
    "### テストデータを入力し、中間層と出力層の値を得る"
   ]
  },
  {
   "cell_type": "code",
   "execution_count": 26,
   "metadata": {
    "collapsed": true
   },
   "outputs": [],
   "source": [
    "encoded_imgs = encoder.predict(X_test)\n",
    "decoded_imgs = decoder.predict(encoded_imgs)\n",
    "# decoded_imgs = autoencoder.predict(X_test) #としても同じ"
   ]
  },
  {
   "cell_type": "markdown",
   "metadata": {},
   "source": [
    "### 結果の可視化"
   ]
  },
  {
   "cell_type": "code",
   "execution_count": 27,
   "metadata": {},
   "outputs": [
    {
     "data": {
      "image/png": "[encoded data removed]",
      "text/plain": [
       "<matplotlib.figure.Figure at 0x1c266e2be0>"
      ]
     },
     "metadata": {},
     "output_type": "display_data"
    }
   ],
   "source": [
    "n = 10  # how many digits we will display\n",
    "plt.figure(figsize=(20, 4))\n",
    "for i in range(n):\n",
    "    # display original\n",
    "    ax = plt.subplot(3, n, i + 1)\n",
    "    plt.imshow(X_test[i].reshape(28, 28))\n",
    "    plt.gray()\n",
    "    ax.get_xaxis().set_visible(False)\n",
    "    ax.get_yaxis().set_visible(False)\n",
    "\n",
    "    # 中間層の値\n",
    "    ax = plt.subplot(3, n, i + 1 + n)\n",
    "    plt.imshow(encoded_imgs[i].reshape(6,6)) #画像サイズは、encoding_dimに合わせて変更する\n",
    "    plt.gray()\n",
    "    ax.get_xaxis().set_visible(False)\n",
    "    ax.get_yaxis().set_visible(False)\n",
    "    \n",
    "    # display reconstruction\n",
    "    ax = plt.subplot(3, n, i + 1 + 2*n)\n",
    "    plt.imshow(decoded_imgs[i].reshape(28, 28))\n",
    "    plt.gray()\n",
    "    ax.get_xaxis().set_visible(False)\n",
    "    ax.get_yaxis().set_visible(False)\n",
    "plt.show()"
   ]
  },
  {
   "cell_type": "markdown",
   "metadata": {
    "collapsed": true
   },
   "source": [
    "### [演習]\n",
    "* Epoch数を減らすと再構成画像がどうなるか確認してみましょう\n",
    "* 中間層のノード数を減らすと再構成画像がどうなるか確認してみましょう"
   ]
  }
 ],
 "metadata": {
  "kernelspec": {
   "display_name": "Python 3",
   "language": "python",
   "name": "python3"
  },
  "language_info": {
   "codemirror_mode": {
    "name": "ipython",
    "version": 3
   },
   "file_extension": ".py",
   "mimetype": "text/x-python",
   "name": "python",
   "nbconvert_exporter": "python",
   "pygments_lexer": "ipython3",
   "version": "3.6.4"
  }
 },
 "nbformat": 4,
 "nbformat_minor": 2
}
