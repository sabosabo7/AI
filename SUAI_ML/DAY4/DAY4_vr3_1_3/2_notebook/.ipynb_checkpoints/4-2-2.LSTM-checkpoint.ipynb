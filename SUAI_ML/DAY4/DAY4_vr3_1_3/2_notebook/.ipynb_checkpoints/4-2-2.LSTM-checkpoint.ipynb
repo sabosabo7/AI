{
 "cells": [
  {
   "cell_type": "markdown",
   "metadata": {},
   "source": [
    "## LSTMのサンプル"
   ]
  },
  {
   "cell_type": "code",
   "execution_count": 33,
   "metadata": {
    "collapsed": true
   },
   "outputs": [],
   "source": [
    "import numpy\n",
    "import matplotlib.pyplot as plt\n",
    "import pandas\n",
    "import math\n",
    "from keras.models import Sequential\n",
    "from keras.layers import Dense\n",
    "from keras.layers import LSTM\n",
    "from sklearn.preprocessing import MinMaxScaler\n",
    "from sklearn.metrics import mean_squared_error\n",
    "import numpy as np"
   ]
  },
  {
   "cell_type": "markdown",
   "metadata": {},
   "source": [
    "### 国際線の月別乗客数のデータを読む\n",
    "https://datamarket.com/data/set/22u3/international-airline-passengers-monthly-totals-in-thousands-jan-49-dec-60#!ds=22u3&display=line\n",
    "    "
   ]
  },
  {
   "cell_type": "code",
   "execution_count": 34,
   "metadata": {
    "scrolled": true
   },
   "outputs": [
    {
     "data": {
      "image/png": "[encoded data removed]",
      "text/plain": [
       "<matplotlib.figure.Figure at 0x1a288ef550>"
      ]
     },
     "metadata": {},
     "output_type": "display_data"
    }
   ],
   "source": [
    "import pandas\n",
    "import matplotlib.pyplot as plt\n",
    "dataset = pandas.read_csv('../1_data/international-airline-passengers.csv', usecols=[1],\n",
    "                          engine='python', skipfooter=3)\n",
    "plt.plot(dataset)\n",
    "plt.show()"
   ]
  },
  {
   "cell_type": "code",
   "execution_count": 35,
   "metadata": {
    "collapsed": true
   },
   "outputs": [],
   "source": [
    "dataset = dataset.values\n",
    "dataset = dataset.astype('float32')\n",
    "\n",
    "scaler = MinMaxScaler(feature_range=(0, 1))\n",
    "dataset = scaler.fit_transform(dataset)\n"
   ]
  },
  {
   "cell_type": "code",
   "execution_count": 36,
   "metadata": {},
   "outputs": [
    {
     "name": "stdout",
     "output_type": "stream",
     "text": [
      "96 48\n",
      "96 48\n"
     ]
    }
   ],
   "source": [
    "# split into train and test sets\n",
    "train_size = int(len(dataset) * 0.67)\n",
    "test_size = len(dataset) - train_size\n",
    "train, test = dataset[0:train_size,:], dataset[train_size:len(dataset),:]\n",
    "print(len(train), len(test))\n",
    "\n",
    "# split into train and test sets\n",
    "train_size = int(len(dataset) * 0.67)\n",
    "test_size = len(dataset) - train_size\n",
    "train, test = dataset[0:train_size,:], dataset[train_size:len(dataset),:]\n",
    "print(len(train), len(test))"
   ]
  },
  {
   "cell_type": "code",
   "execution_count": 37,
   "metadata": {
    "collapsed": true
   },
   "outputs": [],
   "source": [
    "# convert an array of values into a dataset matrix\n",
    "def create_dataset(dataset, look_back=1):\n",
    "\tdataX, dataY = [], []\n",
    "\tfor i in range(len(dataset)-look_back-1):\n",
    "\t\ta = dataset[i:(i+look_back), 0]\n",
    "\t\tdataX.append(a)\n",
    "\t\tdataY.append(dataset[i + look_back, 0])\n",
    "\treturn numpy.array(dataX), numpy.array(dataY)"
   ]
  },
  {
   "cell_type": "code",
   "execution_count": 38,
   "metadata": {
    "collapsed": true
   },
   "outputs": [],
   "source": [
    "# reshape into X=t and Y=t+1\n",
    "look_back = 1\n",
    "trainX, trainY = create_dataset(train, look_back)\n",
    "testX, testY = create_dataset(test, look_back)\n",
    "\n",
    "# reshape into X=t and Y=t+1\n",
    "look_back = 1\n",
    "trainX, trainY = create_dataset(train, look_back)\n",
    "testX, testY = create_dataset(test, look_back)"
   ]
  },
  {
   "cell_type": "code",
   "execution_count": 39,
   "metadata": {
    "collapsed": true
   },
   "outputs": [],
   "source": [
    "# reshape input to be [samples, time steps, features]\n",
    "trainX = numpy.reshape(trainX, (trainX.shape[0], 1, trainX.shape[1]))\n",
    "testX = numpy.reshape(testX, (testX.shape[0], 1, testX.shape[1]))"
   ]
  },
  {
   "cell_type": "code",
   "execution_count": 40,
   "metadata": {
    "scrolled": true
   },
   "outputs": [
    {
     "name": "stdout",
     "output_type": "stream",
     "text": [
      "Epoch 1/10\n",
      " - 1s - loss: 0.0264\n",
      "Epoch 2/10\n",
      " - 1s - loss: 0.0121\n",
      "Epoch 3/10\n",
      " - 1s - loss: 0.0099\n",
      "Epoch 4/10\n",
      " - 0s - loss: 0.0090\n",
      "Epoch 5/10\n",
      " - 0s - loss: 0.0084\n",
      "Epoch 6/10\n",
      " - 0s - loss: 0.0077\n",
      "Epoch 7/10\n",
      " - 0s - loss: 0.0072\n",
      "Epoch 8/10\n",
      " - 0s - loss: 0.0064\n",
      "Epoch 9/10\n",
      " - 0s - loss: 0.0059\n",
      "Epoch 10/10\n",
      " - 0s - loss: 0.0052\n"
     ]
    },
    {
     "data": {
      "text/plain": [
       "<keras.callbacks.History at 0x1a28cfac88>"
      ]
     },
     "execution_count": 40,
     "metadata": {},
     "output_type": "execute_result"
    }
   ],
   "source": [
    "# create and fit the LSTM network\n",
    "model = Sequential()\n",
    "model.add(LSTM(2, input_shape=(1, look_back)))\n",
    "model.add(Dense(1))\n",
    "model.compile(loss='mean_squared_error', optimizer='adam')\n",
    "model.fit(trainX, trainY, epochs=10, batch_size=1, verbose=2)"
   ]
  },
  {
   "cell_type": "code",
   "execution_count": 41,
   "metadata": {},
   "outputs": [
    {
     "name": "stdout",
     "output_type": "stream",
     "text": [
      "Train Score: 36.41 RMSE\n",
      "Test Score: 104.65 RMSE\n"
     ]
    }
   ],
   "source": [
    "# make predictions\n",
    "trainPredict = model.predict([trainX])\n",
    "testPredict = model.predict([testX])\n",
    "# invert predictions\n",
    "trainPredict = scaler.inverse_transform(trainPredict)\n",
    "trainY = scaler.inverse_transform([trainY])\n",
    "testPredict = scaler.inverse_transform(testPredict)\n",
    "testY = scaler.inverse_transform([testY])\n",
    "# calculate root mean squared error\n",
    "trainScore = math.sqrt(mean_squared_error(trainY[0], trainPredict[:,0]))\n",
    "print('Train Score: %.2f RMSE' % (trainScore))\n",
    "testScore = math.sqrt(mean_squared_error(testY[0], testPredict[:,0]))\n",
    "print('Test Score: %.2f RMSE' % (testScore))"
   ]
  },
  {
   "cell_type": "code",
   "execution_count": 42,
   "metadata": {},
   "outputs": [
    {
     "data": {
      "image/png": "[encoded data removed]",
      "text/plain": [
       "<matplotlib.figure.Figure at 0x1a29f3a1d0>"
      ]
     },
     "metadata": {},
     "output_type": "display_data"
    }
   ],
   "source": [
    "# shift train predictions for plotting\n",
    "trainPredictPlot = numpy.empty_like(dataset)\n",
    "trainPredictPlot[:, :] = numpy.nan\n",
    "trainPredictPlot[look_back:len(trainPredict)+look_back, :] = trainPredict\n",
    "# shift test predictions for plotting\n",
    "testPredictPlot = numpy.empty_like(dataset)\n",
    "testPredictPlot[:, :] = numpy.nan\n",
    "testPredictPlot[len(trainPredict)+(look_back*2)+1:len(dataset)-1, :] = testPredict\n",
    "# plot baseline and predictions\n",
    "plt.plot(scaler.inverse_transform(dataset))\n",
    "plt.plot(trainPredictPlot)\n",
    "plt.plot(testPredictPlot)\n",
    "plt.show()"
   ]
  },
  {
   "cell_type": "markdown",
   "metadata": {},
   "source": [
    "### 重みの確認"
   ]
  },
  {
   "cell_type": "code",
   "execution_count": 45,
   "metadata": {
    "scrolled": false
   },
   "outputs": [
    {
     "name": "stdout",
     "output_type": "stream",
     "text": [
      "0\n",
      "Param= <tf.Variable 'lstm_4/kernel:0' shape=(1, 8) dtype=float32_ref>\n",
      "weight= [[ 0.54382843  0.62544775 -0.02797419 -0.36056828 -0.60727692  0.87846446\n",
      "  -0.02668621  0.98614311]]\n",
      "num: 8\n",
      "\n",
      "Param= <tf.Variable 'lstm_4/recurrent_kernel:0' shape=(2, 8) dtype=float32_ref>\n",
      "weight= [[ 0.16105284 -0.32751068  0.64108133 -0.09522343  0.20054789 -0.2986784\n",
      "  -0.2512897   0.50415397]\n",
      " [-0.10251348 -0.09915669 -0.33147573  0.54409516 -0.43589464 -0.47348508\n",
      "  -0.33406344  0.21898074]]\n",
      "num: 16\n",
      "\n",
      "Param= <tf.Variable 'lstm_4/bias:0' shape=(8,) dtype=float32_ref>\n",
      "weight= [ 0.26206791  0.27332172  1.          1.         -0.04771073  0.05697451\n",
      "  0.27441528  0.27421224]\n",
      "num: 8\n",
      "\n",
      "1\n",
      "Param= <tf.Variable 'dense_3/kernel:0' shape=(2, 1) dtype=float32_ref>\n",
      "weight= [[-0.78566593]\n",
      " [ 1.19296575]]\n",
      "num: 2\n",
      "\n",
      "Param= <tf.Variable 'dense_3/bias:0' shape=(1,) dtype=float32_ref>\n",
      "weight= [ 0.06676324]\n",
      "num: 1\n",
      "\n"
     ]
    }
   ],
   "source": [
    "weights = model.get_weights()\n",
    "for lay in range(len(model.layers)):\n",
    "    print(lay)\n",
    "    for p, w in zip(model.layers[lay].trainable_weights, model.layers[lay].get_weights()):\n",
    "        print('Param=', p)\n",
    "        print(\"weight=\", w)\n",
    "        print(\"num:\",w.flatten().shape[0])\n",
    "        print()"
   ]
  },
  {
   "cell_type": "code",
   "execution_count": 46,
   "metadata": {},
   "outputs": [
    {
     "name": "stdout",
     "output_type": "stream",
     "text": [
      "Param <tf.Variable 'lstm_4/kernel:0' shape=(1, 8) dtype=float32_ref>:\n",
      "[[ 0.54382843  0.62544775 -0.02797419 -0.36056828 -0.60727692  0.87846446\n",
      "  -0.02668621  0.98614311]]\n",
      "Param <tf.Variable 'lstm_4/recurrent_kernel:0' shape=(2, 8) dtype=float32_ref>:\n",
      "[[ 0.16105284 -0.32751068  0.64108133 -0.09522343  0.20054789 -0.2986784\n",
      "  -0.2512897   0.50415397]\n",
      " [-0.10251348 -0.09915669 -0.33147573  0.54409516 -0.43589464 -0.47348508\n",
      "  -0.33406344  0.21898074]]\n",
      "Param <tf.Variable 'lstm_4/bias:0' shape=(8,) dtype=float32_ref>:\n",
      "[ 0.26206791  0.27332172  1.          1.         -0.04771073  0.05697451\n",
      "  0.27441528  0.27421224]\n"
     ]
    }
   ],
   "source": [
    "for e in zip(model.layers[0].trainable_weights, model.layers[0].get_weights()):\n",
    "    print('Param %s:\\n%s' % (e[0],e[1]))"
   ]
  }
 ],
 "metadata": {
  "kernelspec": {
   "display_name": "Python 3",
   "language": "python",
   "name": "python3"
  },
  "language_info": {
   "codemirror_mode": {
    "name": "ipython",
    "version": 3
   },
   "file_extension": ".py",
   "mimetype": "text/x-python",
   "name": "python",
   "nbconvert_exporter": "python",
   "pygments_lexer": "ipython3",
   "version": "3.6.4"
  }
 },
 "nbformat": 4,
 "nbformat_minor": 2
}
