{
 "cells": [
  {
   "cell_type": "markdown",
   "metadata": {},
   "source": [
    "## K-means"
   ]
  },
  {
   "cell_type": "code",
   "execution_count": null,
   "metadata": {
    "ExecuteTime": {
     "end_time": "2018-03-28T12:24:08.926553Z",
     "start_time": "2018-03-28T12:24:06.811532Z"
    }
   },
   "outputs": [],
   "source": [
    "import numpy as np\n",
    "import pandas as pd\n",
    "import matplotlib.pyplot as plt\n",
    "%matplotlib inline\n",
    "from sklearn.cluster import KMeans\n",
    "from sklearn.preprocessing import StandardScaler\n",
    "from sklearn.datasets import make_blobs\n",
    "import seaborn as sns"
   ]
  },
  {
   "cell_type": "markdown",
   "metadata": {},
   "source": [
    "## [演習1] 分類数が既知のデータをクラスタリングする"
   ]
  },
  {
   "cell_type": "code",
   "execution_count": null,
   "metadata": {
    "ExecuteTime": {
     "end_time": "2018-03-28T12:24:09.541366Z",
     "start_time": "2018-03-28T12:24:08.929145Z"
    },
    "scrolled": true
   },
   "outputs": [],
   "source": [
    "# そのまま実行します\n",
    "X, y = make_blobs(n_samples=3000, centers=15, n_features=2,\n",
    "                  cluster_std=3, random_state=2532689, center_box=[-50, 50])\n",
    "df_data = pd.DataFrame(X, columns=[\"x1\",\"x2\"])\n",
    "df_data[\"label\"] = y\n",
    "display(df_data.head())\n",
    "sns.lmplot(x=\"x1\", y=\"x2\", hue=\"label\", data=df_data,fit_reg=False)"
   ]
  },
  {
   "cell_type": "code",
   "execution_count": null,
   "metadata": {
    "ExecuteTime": {
     "end_time": "2018-03-28T12:24:15.487333Z",
     "start_time": "2018-03-28T12:24:15.478822Z"
    }
   },
   "outputs": [],
   "source": [
    "# 標準化\n",
    "scaler = StandardScaler()\n",
    "X_std = scaler.fit_transform(X)"
   ]
  },
  {
   "cell_type": "markdown",
   "metadata": {},
   "source": [
    "### [演習]\n",
    "* 任意のkでk-meansを実行し、結果の散布図を描画してみましょう。\n",
    "* 散布図はクラスターごとに色分けし、中心点も描画してください。\n",
    "* エルボー図を描画してみましょう"
   ]
  },
  {
   "cell_type": "code",
   "execution_count": null,
   "metadata": {
    "ExecuteTime": {
     "end_time": "2018-03-28T12:24:41.794223Z",
     "start_time": "2018-03-28T12:24:41.681302Z"
    }
   },
   "outputs": [],
   "source": [
    "# クラスタリング\n",
    "clf = KMeans(n_clusters=10)\n",
    "clf.fit(X_std)\n",
    "y_pred = clf.predict(X_std)\n",
    "print(y_pred)\n",
    "print(clf.cluster_centers_)"
   ]
  },
  {
   "cell_type": "code",
   "execution_count": null,
   "metadata": {
    "ExecuteTime": {
     "end_time": "2018-03-28T12:24:42.689516Z",
     "start_time": "2018-03-28T12:24:42.188616Z"
    }
   },
   "outputs": [],
   "source": [
    "# クラスタリング結果の描画, 赤×は中心点\n",
    "df_data = pd.DataFrame(X_std, columns=[\"x1\",\"x2\"])\n",
    "df_data[\"label_pred\"] = y_pred\n",
    "sns.lmplot(x=\"x1\", y=\"x2\", hue=\"label_pred\", data=df_data,fit_reg=False)\n",
    "plt.plot(clf.cluster_centers_[:,0],clf.cluster_centers_[:,1], marker=\"x\",ls=\"\",color=\"r\")"
   ]
  },
  {
   "cell_type": "markdown",
   "metadata": {},
   "source": [
    "### エルボー図"
   ]
  },
  {
   "cell_type": "code",
   "execution_count": null,
   "metadata": {
    "ExecuteTime": {
     "end_time": "2018-03-28T12:24:45.052043Z",
     "start_time": "2018-03-28T12:24:43.257694Z"
    }
   },
   "outputs": [],
   "source": [
    "def plot_elbow(X, sta_k, end_k):\n",
    "    sse = []\n",
    "    for i in range(sta_k, end_k+1):\n",
    "        clf = KMeans(n_clusters=i,random_state=1234)\n",
    "        clf.fit(X)\n",
    "        sse.append(clf.inertia_)\n",
    "\n",
    "    plt.plot(range(sta_k, end_k+1), sse, marker=\"o\")\n",
    "    plt.xlabel(\"Number of clusters\")\n",
    "    plt.ylabel(\"SSE\")\n",
    "    plt.show()\n",
    "    \n",
    "plot_elbow(X_std, 1, 20)"
   ]
  },
  {
   "cell_type": "markdown",
   "metadata": {},
   "source": [
    "## [演習2] 分類数が未知のデータをクラスタリングする\n",
    "\n",
    "#### データセット読み込み\n",
    "\n",
    "ここでは、[Seeds Dataset](https://archive.ics.uci.edu/ml/datasets/seeds) を利用します。  \n",
    "Iris と似ていますが、こちらは麦の種のサイズを記録したものです。  \n",
    "これをクラスタリングしてみましょう。  \n",
    "  \n",
    "列の意味:\n",
    "1. area A, \n",
    "2. perimeter P, \n",
    "3. compactness C = 4*pi*A/P^2, \n",
    "4. length of kernel, \n",
    "5. width of kernel, \n",
    "6. asymmetry coefficient \n",
    "7. length of kernel groove. \n",
    "  \n",
    "実際にはラベルデータも含まれていますが、ラベルデータからは省きました。今回は、このラベルを正解データとしましょう。"
   ]
  },
  {
   "cell_type": "code",
   "execution_count": null,
   "metadata": {
    "ExecuteTime": {
     "end_time": "2018-03-28T12:24:48.151433Z",
     "start_time": "2018-03-28T12:24:45.055544Z"
    }
   },
   "outputs": [],
   "source": [
    "df_seeds = pd.read_csv(\"../1_data/seeds_dataset.csv\", header=None, sep=\"\\t\")\n",
    "print(df_seeds.shape)\n",
    "display(df_seeds.head())\n",
    "\n",
    "pd.plotting.scatter_matrix(df_seeds, figsize=(12,12))\n",
    "plt.show()"
   ]
  },
  {
   "cell_type": "code",
   "execution_count": null,
   "metadata": {
    "ExecuteTime": {
     "end_time": "2018-03-28T12:24:48.162144Z",
     "start_time": "2018-03-28T12:24:48.155116Z"
    },
    "scrolled": true
   },
   "outputs": [],
   "source": [
    "# 標準化\n",
    "X = df_seeds.as_matrix()\n",
    "scaler = StandardScaler()\n",
    "X_std = scaler.fit_transform(X)"
   ]
  },
  {
   "cell_type": "markdown",
   "metadata": {},
   "source": [
    "### [演習]\n",
    "* エルボー図を描画してみましょう\n",
    "\n",
    "### [問]\n",
    "* 正解データのラベル数はいくつだと思いますか？ エルボー図だけでなく、散布図も参考に。"
   ]
  },
  {
   "cell_type": "markdown",
   "metadata": {},
   "source": [
    "### エルボー図"
   ]
  },
  {
   "cell_type": "code",
   "execution_count": null,
   "metadata": {
    "ExecuteTime": {
     "end_time": "2018-03-28T12:24:49.309712Z",
     "start_time": "2018-03-28T12:24:48.165626Z"
    }
   },
   "outputs": [],
   "source": [
    "def plot_elbow(X, sta_k, end_k):\n",
    "    sse = []\n",
    "    for i in range(sta_k, end_k+1):\n",
    "        clf = KMeans(n_clusters=i,random_state=1234)\n",
    "        clf.fit(X)\n",
    "        sse.append(clf.inertia_)\n",
    "\n",
    "    plt.plot(range(sta_k, end_k+1), sse, marker=\"o\")\n",
    "    plt.xlabel(\"Number of clusters\")\n",
    "    plt.ylabel(\"SSE\")\n",
    "    plt.show()\n",
    "    \n",
    "plot_elbow(X_std, 1, 20)"
   ]
  },
  {
   "cell_type": "code",
   "execution_count": null,
   "metadata": {},
   "outputs": [],
   "source": []
  }
 ],
 "metadata": {
  "anaconda-cloud": {},
  "kernelspec": {
   "display_name": "Python 3",
   "language": "python",
   "name": "python3"
  },
  "language_info": {
   "codemirror_mode": {
    "name": "ipython",
    "version": 3
   },
   "file_extension": ".py",
   "mimetype": "text/x-python",
   "name": "python",
   "nbconvert_exporter": "python",
   "pygments_lexer": "ipython3",
   "version": "3.6.4"
  },
  "nav_menu": {},
  "toc": {
   "navigate_menu": true,
   "number_sections": false,
   "sideBar": true,
   "threshold": 6,
   "toc_cell": false,
   "toc_section_display": "block",
   "toc_window_display": false
  }
 },
 "nbformat": 4,
 "nbformat_minor": 1
}
