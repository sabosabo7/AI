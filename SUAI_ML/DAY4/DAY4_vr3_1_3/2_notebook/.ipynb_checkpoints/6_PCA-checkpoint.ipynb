{
 "cells": [
  {
   "cell_type": "markdown",
   "metadata": {
    "collapsed": true
   },
   "source": [
    "## 主成分分析"
   ]
  },
  {
   "cell_type": "code",
   "execution_count": null,
   "metadata": {
    "collapsed": true
   },
   "outputs": [],
   "source": [
    "%matplotlib inline\n",
    "import pandas as pd\n",
    "import numpy as np\n",
    "import matplotlib.pyplot as plt\n",
    "from sklearn.decomposition import PCA #主成分分析用ライブラリ\n",
    "from sklearn.preprocessing import StandardScaler"
   ]
  },
  {
   "cell_type": "markdown",
   "metadata": {},
   "source": [
    "## 簡単な例で、主成分分析を行ってみる\n",
    "### 架空のデータをつくる\n",
    "### 生徒20人分の数学テスト結果と物理テスト結果"
   ]
  },
  {
   "cell_type": "code",
   "execution_count": null,
   "metadata": {},
   "outputs": [],
   "source": [
    "df_test = pd.DataFrame({\"math\":[41,37,40,30,40,60,46,61,67,68,55,61,59,66,69,54,50,35,80,75],\n",
    "                                         \"physics\":[26,32,31,24,60,40,26,27,33,25,26,30,29,37,41,36,31,29,36,34]})\n",
    "df_test.index.name = \"id\"\n",
    "df_test[\"total\"] = df_test[\"math\"]  + df_test[\"physics\"]#点数の合計\n",
    "df_test"
   ]
  },
  {
   "cell_type": "markdown",
   "metadata": {},
   "source": [
    "### 散布図を作成"
   ]
  },
  {
   "cell_type": "code",
   "execution_count": null,
   "metadata": {},
   "outputs": [],
   "source": [
    "df_test.plot(kind=\"scatter\",x=\"math\",y=\"physics\",xlim=[0,100],ylim=[0,100])"
   ]
  },
  {
   "cell_type": "markdown",
   "metadata": {},
   "source": [
    "数学テスト結果と物理テスト結果に正の相関が見られる。   \n",
    "これは、数学のテスト結果があれば、物理のテスト結果を推測できるし、逆に、物理のテスト結果があれば、数学のテスト結果を推測できるということになる。\n",
    "であれば、この2つの変数を1つにまとめてしまっても元々の情報は損なわれない。  \n",
    "では、2つの変数(2次元)を1つの変数(1次元)にまとめる(削減)するにはどうすればいいか？  \n",
    "ここで、主成分分析の登場!"
   ]
  },
  {
   "cell_type": "markdown",
   "metadata": {},
   "source": [
    "### 主成分分析をやってみよう\n",
    "### 入力データのセッティング\n",
    "scikit learnは、この形式で入力データを用意することが多い"
   ]
  },
  {
   "cell_type": "code",
   "execution_count": null,
   "metadata": {},
   "outputs": [],
   "source": [
    "X = np.array(df_test[[\"math\",\"physics\"]])\n",
    "X"
   ]
  },
  {
   "cell_type": "markdown",
   "metadata": {},
   "source": [
    "### 主成分分析の実行"
   ]
  },
  {
   "cell_type": "code",
   "execution_count": null,
   "metadata": {},
   "outputs": [],
   "source": [
    "pca = PCA(n_components=2) #主成分分析用のオブジェクトをつくる。削減後の次元数を引数で指定する。2次元データなので、3以上にするとエラーになる\n",
    "pca.fit(X) #主成分分析の実行"
   ]
  },
  {
   "cell_type": "markdown",
   "metadata": {},
   "source": [
    "### 固有ベクトル(主成分の方向を決めるベクトル、基底)"
   ]
  },
  {
   "cell_type": "code",
   "execution_count": null,
   "metadata": {
    "scrolled": false
   },
   "outputs": [],
   "source": [
    "pca.components_"
   ]
  },
  {
   "cell_type": "markdown",
   "metadata": {},
   "source": [
    "### [問]\n",
    "以下の計算は何を確認しているでしょうか？"
   ]
  },
  {
   "cell_type": "code",
   "execution_count": null,
   "metadata": {},
   "outputs": [],
   "source": [
    "print(np.linalg.norm(pca.components_[0]), np.linalg.norm(pca.components_[1]))\n",
    "np.dot(pca.components_[0], pca.components_[1])"
   ]
  },
  {
   "cell_type": "markdown",
   "metadata": {},
   "source": [
    "### 平均値"
   ]
  },
  {
   "cell_type": "code",
   "execution_count": null,
   "metadata": {},
   "outputs": [],
   "source": [
    "pca.mean_"
   ]
  },
  {
   "cell_type": "markdown",
   "metadata": {},
   "source": [
    "### 主成分をグラフに描画\n",
    "第1主成分(PC1)と第2主成分(PC2)は必ず直交する"
   ]
  },
  {
   "cell_type": "code",
   "execution_count": null,
   "metadata": {},
   "outputs": [],
   "source": [
    "fig = plt.figure()#グラフオブジェクトをつくる\n",
    "ax = fig.add_subplot(111,aspect='equal')#キャンバスをつくる\n",
    "ax.scatter(X[:,0],X[:,1])#散布図\n",
    "ax.set_xlim([0, 100])#X軸の範囲の設定\n",
    "ax.set_ylim([0, 100])#Y軸の範囲の設定\n",
    "ax.set_xlabel('math')#X軸の名称の設定\n",
    "ax.set_ylabel('physics')#Y軸の名称の設定\n",
    "ax.quiver(pca.mean_[0], pca.mean_[1], pca.components_[0,0],pca.components_[0,1], color='b', width=0.01, scale=3)#第1主成分のベクトルを描く\n",
    "ax.quiver(pca.mean_[0], pca.mean_[1], pca.components_[1,0],pca.components_[1,1], color='r', width=0.01, scale=3)#第2主成分のベクトルを描く"
   ]
  },
  {
   "cell_type": "markdown",
   "metadata": {},
   "source": [
    "### 各主成分の寄与率\n",
    "第一主成分で約76%説明できることがわかる。合計は1になる。"
   ]
  },
  {
   "cell_type": "code",
   "execution_count": null,
   "metadata": {},
   "outputs": [],
   "source": [
    "print(\"寄与率=\",pca.explained_variance_ratio_)\n",
    "print(\"合計＝\", pca.explained_variance_ratio_.sum())"
   ]
  },
  {
   "cell_type": "markdown",
   "metadata": {},
   "source": [
    "### 第1主成分軸(PC1)と第2主成分軸(PC2)の2次元平面に射影する\n",
    "元データから平均を引き、固有ベクトルとの行列積を計算する"
   ]
  },
  {
   "cell_type": "code",
   "execution_count": null,
   "metadata": {},
   "outputs": [],
   "source": [
    "Y = np.dot((X - pca.mean_), pca.components_.T)\n",
    "Y"
   ]
  },
  {
   "cell_type": "code",
   "execution_count": null,
   "metadata": {
    "scrolled": true
   },
   "outputs": [],
   "source": [
    "# 新しい軸に射影されたベクトルは、fit_transform()でも求められる\n",
    "X_pca = pca.fit_transform(X)\n",
    "X_pca"
   ]
  },
  {
   "cell_type": "code",
   "execution_count": null,
   "metadata": {
    "scrolled": true
   },
   "outputs": [],
   "source": [
    "pd.DataFrame(Y,columns=[\"PC1\",\"PC2\"]).plot(kind=\"scatter\",x=\"PC1\",y=\"PC2\")"
   ]
  },
  {
   "cell_type": "markdown",
   "metadata": {},
   "source": [
    "### [問]\n",
    "- id=4,id=5,id=8は、どの生徒も合計が100点です。第一主成分(理系軸)で評価した場合は、どの生徒の得点が高いことになりますか？"
   ]
  },
  {
   "cell_type": "markdown",
   "metadata": {},
   "source": [
    "## 肺がんデータ・セットを用いた肺がん患者推定\n",
    "* https://archive.ics.uci.edu/ml/datasets/Breast+Cancer+Wisconsin+(Diagnostic)\n",
    "* 診断結果の意味：M = malignant(悪性), B = benign(良性)\n",
    "* 3列目以降は、細胞核のデジタル画像から算出され30個の実数値が入っている。"
   ]
  },
  {
   "cell_type": "code",
   "execution_count": null,
   "metadata": {},
   "outputs": [],
   "source": [
    "# 3列目以降は、細胞核のデジタル画像から算出され30個の実数値が入っている。\n",
    "df_wdbc = pd.read_csv(\"../1_data/wdbc.csv\",index_col=[0])\n",
    "print(df_wdbc.shape)\n",
    "display(df_wdbc.head())\n",
    "df_wdbc  = df_wdbc.iloc[:,2:] # 3説明変数だけにする"
   ]
  },
  {
   "cell_type": "markdown",
   "metadata": {},
   "source": [
    "### 各説明変数の平均値の確認"
   ]
  },
  {
   "cell_type": "code",
   "execution_count": null,
   "metadata": {
    "scrolled": true
   },
   "outputs": [],
   "source": [
    "df_wdbc.mean().plot()"
   ]
  },
  {
   "cell_type": "markdown",
   "metadata": {},
   "source": [
    "### 説明変数の標準化\n",
    "平均値の大きな変数が混じっているので標準化しておく"
   ]
  },
  {
   "cell_type": "code",
   "execution_count": null,
   "metadata": {
    "collapsed": true
   },
   "outputs": [],
   "source": [
    "stdsc = StandardScaler()\n",
    "X = stdsc.fit_transform(df_wdbc)"
   ]
  },
  {
   "cell_type": "markdown",
   "metadata": {},
   "source": [
    "### 主成分分析の実行"
   ]
  },
  {
   "cell_type": "code",
   "execution_count": null,
   "metadata": {},
   "outputs": [],
   "source": [
    "pca = PCA(n_components=30) #主成分分析用のオブジェクトをつくる。削減後の次元数を引数で指定する。\n",
    "pca.fit(X) #主成分分析の実行"
   ]
  },
  {
   "cell_type": "markdown",
   "metadata": {},
   "source": [
    "### 固有ベクトル(主成分の方向を決めるベクトル、基底)"
   ]
  },
  {
   "cell_type": "code",
   "execution_count": null,
   "metadata": {
    "scrolled": true
   },
   "outputs": [],
   "source": [
    "pca.components_"
   ]
  },
  {
   "cell_type": "markdown",
   "metadata": {},
   "source": [
    "### [問]\n",
    "以下の計算は何を確認しているでしょうか？"
   ]
  },
  {
   "cell_type": "code",
   "execution_count": null,
   "metadata": {
    "scrolled": true
   },
   "outputs": [],
   "source": [
    "for i in range(len(pca.components_)):\n",
    "    print(np.linalg.norm(pca.components_[i]))\n",
    "for i in range(len(pca.components_)):\n",
    "    for r in range(len(pca.components_)):\n",
    "        if i==r:\n",
    "            continue\n",
    "        print(np.dot(pca.components_[i], pca.components_[r]).round(5))"
   ]
  },
  {
   "cell_type": "markdown",
   "metadata": {},
   "source": [
    "### 各主成分の寄与率"
   ]
  },
  {
   "cell_type": "code",
   "execution_count": null,
   "metadata": {},
   "outputs": [],
   "source": [
    "print(\"寄与率=\",pca.explained_variance_ratio_)\n",
    "print(\"合計＝\", pca.explained_variance_ratio_.sum())"
   ]
  }
 ],
 "metadata": {
  "anaconda-cloud": {},
  "kernelspec": {
   "display_name": "Python 3",
   "language": "python",
   "name": "python3"
  },
  "language_info": {
   "codemirror_mode": {
    "name": "ipython",
    "version": 3
   },
   "file_extension": ".py",
   "mimetype": "text/x-python",
   "name": "python",
   "nbconvert_exporter": "python",
   "pygments_lexer": "ipython3",
   "version": "3.6.4"
  }
 },
 "nbformat": 4,
 "nbformat_minor": 1
}
