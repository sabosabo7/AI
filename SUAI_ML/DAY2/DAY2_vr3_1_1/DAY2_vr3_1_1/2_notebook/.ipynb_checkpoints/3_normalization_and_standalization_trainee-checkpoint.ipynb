{
 "cells": [
  {
   "cell_type": "markdown",
   "metadata": {},
   "source": [
    "## 代表的な前処理（正規化・標準化）"
   ]
  },
  {
   "cell_type": "code",
   "execution_count": null,
   "metadata": {},
   "outputs": [],
   "source": [
    "import numpy as np\n",
    "import pandas as pd\n",
    "import matplotlib.pyplot as plt\n",
    "%matplotlib inline\n",
    "from IPython.display import display\n",
    "from sklearn.preprocessing import StandardScaler, MinMaxScaler"
   ]
  },
  {
   "cell_type": "markdown",
   "metadata": {},
   "source": [
    "## 正規化、標準化の重要性"
   ]
  },
  {
   "cell_type": "markdown",
   "metadata": {},
   "source": [
    "* 尺度の異なる変数が混在している場合(例えば1~10と1~1,000,000など)、尺度の大きな変数ほどモデルへの影響度が大きくなることがある。\n",
    "* これを回避するために、あらかじめ尺度を揃えておくことがよく行われる。\n",
    "* 尺度を揃える方法として、正規化や標準化がある。\n",
    "* 尺度の影響を受けるかどうかはアルゴリズムによる。  \n",
    "    * 影響を受けるアルゴリズムの例:k近傍法、ニューラルネットワーク\n",
    "    * 影響を受けないアルゴリズムの例：決定木、ランダムフォレスト"
   ]
  },
  {
   "cell_type": "markdown",
   "metadata": {},
   "source": [
    "## 正規化と標準化の計算"
   ]
  },
  {
   "cell_type": "code",
   "execution_count": null,
   "metadata": {},
   "outputs": [],
   "source": [
    "df = pd.DataFrame({\"input\":[0,1,2,3,4,5]},dtype=float)\n",
    "\n",
    "# 正規化\n",
    "df[\"normalized\"] = (df[\"input\"] - df[\"input\"].min()) / (df[\"input\"].max() - df[\"input\"].min())\n",
    "\n",
    "#標準化\n",
    "df[\"standardized\"] = (df[\"input\"] - df[\"input\"].mean()) / df[\"input\"].std(ddof=0)\n",
    "\n",
    "display(df)"
   ]
  },
  {
   "cell_type": "markdown",
   "metadata": {},
   "source": [
    "## Scikit-learnを用いて正規化と標準化を行う方法"
   ]
  },
  {
   "cell_type": "code",
   "execution_count": null,
   "metadata": {},
   "outputs": [],
   "source": [
    "# 正規化の例\n",
    "# 正規化とは、全データを0-1の範囲におさめる操作\n",
    "from sklearn.preprocessing import MinMaxScaler\n",
    "df = pd.DataFrame({\"input\":[0,1,2,3,4,5]},dtype=float)\n",
    "mms = MinMaxScaler()\n",
    "mms.fit_transform(df[[\"input\"]].values)"
   ]
  },
  {
   "cell_type": "code",
   "execution_count": null,
   "metadata": {},
   "outputs": [],
   "source": [
    "# 標準化の例\n",
    "# 標準化とは、平均を引いて、標準偏差で割る操作\n",
    "from sklearn.preprocessing import StandardScaler\n",
    "df = pd.DataFrame({\"input\":[0,1,2,3,4,5]},dtype=float)\n",
    "stdsc = StandardScaler()\n",
    "stdsc.fit_transform(df[[\"input\"]].values)"
   ]
  },
  {
   "cell_type": "markdown",
   "metadata": {},
   "source": [
    "## 正規化と標準化の違いを理解するためのシミュレーション"
   ]
  },
  {
   "cell_type": "code",
   "execution_count": null,
   "metadata": {},
   "outputs": [],
   "source": [
    "np.random.seed(1234)\n",
    "df = pd.DataFrame({\"a\":np.random.normal(loc=0,scale=1,size=1000),\n",
    "                                   \"b\":np.random.normal(loc=100,scale=1,size=1000)})\n",
    "display(df.head(10))\n",
    "df.hist()\n",
    "plt.show()"
   ]
  },
  {
   "cell_type": "code",
   "execution_count": null,
   "metadata": {},
   "outputs": [],
   "source": [
    "# 異常値をまぜる\n",
    "df.loc[0,\"a\"] = 10\n",
    "df.hist()\n",
    "plt.show()"
   ]
  },
  {
   "cell_type": "code",
   "execution_count": null,
   "metadata": {},
   "outputs": [],
   "source": [
    "# 正規化\n",
    "df[\"a_norm\"] = (df[\"a\"] - df[\"a\"].min()) / (df[\"a\"].max() - df[\"a\"].min())\n",
    "df[\"b_norm\"] = (df[\"b\"] - df[\"b\"].min()) / (df[\"b\"].max() - df[\"b\"].min())\n",
    "\n",
    "#標準化\n",
    "df[\"a_stand\"] = (df[\"a\"] - df[\"a\"].mean()) / df[\"a\"].std(ddof=0)\n",
    "df[\"b_stand\"] = (df[\"b\"] - df[\"b\"].mean()) / df[\"b\"].std(ddof=0)\n",
    "\n",
    "df.head()\n",
    "\n",
    "#正規化の結果\n",
    "df.iloc[:,2:4].hist(bins=np.arange(0,1,.05))\n",
    "print(\"正規化の結果\")\n",
    "plt.show()\n",
    "\n",
    "#標準化の結果\n",
    "df.iloc[:,4:].hist(bins=np.arange(-5,5,0.5))\n",
    "print(\"標準化の結果\")\n",
    "plt.show()"
   ]
  },
  {
   "cell_type": "markdown",
   "metadata": {
    "collapsed": true
   },
   "source": [
    "### まとめ\n",
    "* 0付近にスケーリングしたいのであれば、標準化\n",
    "* 0-1にスケーリングしたいのであれば、正規化\n",
    "* 正規化は外れ値の影響を受けやすい"
   ]
  },
  {
   "cell_type": "markdown",
   "metadata": {},
   "source": [
    "## [演習] ワインデータセットを用いた標準化の練習\n",
    "* https://archive.ics.uci.edu/ml/datasets/wine\n",
    "* Class label: イタリアのある地域で栽培されているブドウ品種の種類\n",
    "* Class label以外：化学的性質\n",
    "* 化学的性質からブドウ品種を識別する問題"
   ]
  },
  {
   "cell_type": "code",
   "execution_count": null,
   "metadata": {},
   "outputs": [],
   "source": [
    "## データを読む\n",
    "df_wine = pd.read_csv(\"..//1_data/wine.csv\",index_col=[0])\n",
    "print(\"\")\n",
    "print(\"カラム名の確認\")\n",
    "print(df_wine.columns)\n",
    "\n",
    "print(\"\")\n",
    "print(\"データセットの頭出し\")\n",
    "display(df_wine.head())\n",
    "\n",
    "print(\"\")\n",
    "print(\"目的変数となるクラスラベルの内訳\")\n",
    "display(df_wine.groupby([\"Class label\"])[\"Class label\"].count())\n",
    "\n",
    "print(\"\")\n",
    "print(\"説明変数の要約\")\n",
    "display(df_wine.iloc[:,1:].describe())"
   ]
  },
  {
   "cell_type": "markdown",
   "metadata": {},
   "source": [
    "### 散布図の作成\n",
    "クラスラベルと化学成分の関係を把握するために、グラフを描いてみる"
   ]
  },
  {
   "cell_type": "code",
   "execution_count": null,
   "metadata": {
    "scrolled": true
   },
   "outputs": [],
   "source": [
    "import itertools\n",
    "li_combi = list(itertools.combinations(df_wine.columns[1:], 2))\n",
    "for X,Y in li_combi:\n",
    "    print(\"X=%s\"%X,\"Y=%s\"%Y)\n",
    "    df_wine.plot(kind=\"scatter\",x=X,y=Y,alpha=0.7,s=10,c=\"Class label\",colormap=\"winter\")#散布図の作成\n",
    "    plt.xlabel(X)\n",
    "    plt.ylabel(Y)\n",
    "    plt.tight_layout()\n",
    "    plt.show()#グラフをここで描画させるための行"
   ]
  },
  {
   "cell_type": "markdown",
   "metadata": {},
   "source": [
    "### 学習用データとテストデータに分ける"
   ]
  },
  {
   "cell_type": "code",
   "execution_count": null,
   "metadata": {},
   "outputs": [],
   "source": [
    "from sklearn.model_selection import train_test_split\n",
    "X, y = df_wine.iloc[:,1:].values, df_wine[\"Class label\"].values\n",
    "X_train, X_test, y_train, y_test = train_test_split(X, y, test_size=0.3, random_state=0)\n",
    "display(X_train)\n",
    "display(X_test)\n",
    "display(y_train)\n",
    "display(y_test)"
   ]
  },
  {
   "cell_type": "code",
   "execution_count": null,
   "metadata": {},
   "outputs": [],
   "source": [
    "# まずは正規化・標準化する前の1つ目の特徴に関するヒストグラムを出してみる\n",
    "plt.hist(X_train[:, 0]) # 学習用データ"
   ]
  },
  {
   "cell_type": "code",
   "execution_count": null,
   "metadata": {},
   "outputs": [],
   "source": [
    "plt.hist(X_test[:, 0]) # テスト用データ"
   ]
  },
  {
   "cell_type": "markdown",
   "metadata": {},
   "source": [
    "### [演習] 正規化・標準化\n",
    "* 以下の*をtrainまたはtestに置き換えましょう"
   ]
  },
  {
   "cell_type": "markdown",
   "metadata": {},
   "source": [
    "正規化または標準化を行うときは、まず学習用データだけでfitさせ、その係数を使ってテストデータの正規化または標準化を行うこと"
   ]
  },
  {
   "cell_type": "code",
   "execution_count": null,
   "metadata": {},
   "outputs": [],
   "source": [
    "#ワインデータの正規化\n",
    "normsc = MinMaxScaler()\n",
    "X_train_norm = normsc.fit_transform(X_*)\n",
    "plt.hist(X_train_norm[:, 0]) #正規化後の1つ目の特徴に関するヒストグラム（学習用データ）"
   ]
  },
  {
   "cell_type": "code",
   "execution_count": null,
   "metadata": {},
   "outputs": [],
   "source": [
    "X_test_norm = normsc.transform(X_*)\n",
    "plt.hist(X_test_norm[:, 0]) #正規化後の1つ目の特徴に関するヒストグラム（テストデータ）"
   ]
  },
  {
   "cell_type": "code",
   "execution_count": null,
   "metadata": {},
   "outputs": [],
   "source": [
    "#ワインデータの標準化\n",
    "stdsc = StandardScaler()\n",
    "X_train_stand = stdsc.fit_transform(X_*)\n",
    "plt.hist(X_train_stand[:, 0]) #標準化後の1つ目の特徴に関するヒストグラム（学習用データ）"
   ]
  },
  {
   "cell_type": "code",
   "execution_count": null,
   "metadata": {},
   "outputs": [],
   "source": [
    "X_test_stand = stdsc.transform(X_*)\n",
    "plt.hist(X_test_stand[:, 0]) #標準化後の1つ目の特徴に関するヒストグラム（テストデータ）"
   ]
  }
 ],
 "metadata": {
  "anaconda-cloud": {},
  "kernelspec": {
   "display_name": "Python 3",
   "language": "python",
   "name": "python3"
  },
  "language_info": {
   "codemirror_mode": {
    "name": "ipython",
    "version": 3
   },
   "file_extension": ".py",
   "mimetype": "text/x-python",
   "name": "python",
   "nbconvert_exporter": "python",
   "pygments_lexer": "ipython3",
   "version": "3.7.3"
  },
  "nav_menu": {},
  "toc": {
   "navigate_menu": true,
   "number_sections": false,
   "sideBar": true,
   "threshold": 6,
   "toc_cell": false,
   "toc_section_display": "block",
   "toc_window_display": false
  }
 },
 "nbformat": 4,
 "nbformat_minor": 1
}
