{
 "cells": [
  {
   "cell_type": "markdown",
   "metadata": {},
   "source": [
    "# 変数"
   ]
  },
  {
   "cell_type": "code",
   "execution_count": 2,
   "metadata": {},
   "outputs": [],
   "source": [
    "x = 10 #xに10を代入"
   ]
  },
  {
   "cell_type": "code",
   "execution_count": 3,
   "metadata": {},
   "outputs": [
    {
     "name": "stdout",
     "output_type": "stream",
     "text": [
      "10\n"
     ]
    }
   ],
   "source": [
    "print(x) #xを出力"
   ]
  },
  {
   "cell_type": "code",
   "execution_count": 4,
   "metadata": {},
   "outputs": [
    {
     "data": {
      "text/plain": [
       "15"
      ]
     },
     "execution_count": 4,
     "metadata": {},
     "output_type": "execute_result"
    }
   ],
   "source": [
    "x + 5 #x=10に5を加算"
   ]
  },
  {
   "cell_type": "code",
   "execution_count": 5,
   "metadata": {},
   "outputs": [
    {
     "name": "stdout",
     "output_type": "stream",
     "text": [
      "20\n"
     ]
    }
   ],
   "source": [
    "y = x + 10 #yにx+5を代入\n",
    "print(y)"
   ]
  },
  {
   "cell_type": "code",
   "execution_count": 6,
   "metadata": {},
   "outputs": [
    {
     "name": "stdout",
     "output_type": "stream",
     "text": [
      "2\n",
      "8\n"
     ]
    }
   ],
   "source": [
    "print(12 % 10) #12÷10の剰余\n",
    "print(2 ** 3) #2の3乗"
   ]
  },
  {
   "cell_type": "code",
   "execution_count": 7,
   "metadata": {},
   "outputs": [
    {
     "name": "stdout",
     "output_type": "stream",
     "text": [
      "108\n"
     ]
    }
   ],
   "source": [
    "x = 2 * ((3 + 4) ** 2 + 5) #x=2×{(1+1)^2}の計算 \n",
    "print(x)"
   ]
  },
  {
   "cell_type": "markdown",
   "metadata": {},
   "source": [
    "### 変数演習"
   ]
  },
  {
   "cell_type": "code",
   "execution_count": 8,
   "metadata": {},
   "outputs": [
    {
     "name": "stdout",
     "output_type": "stream",
     "text": [
      "20.0\n"
     ]
    }
   ],
   "source": [
    "value1 = 1.5 #value１に1.5を代入\n",
    "value2 = 45 #value2に45を代入\n",
    "answer_value = value2 / (value1 * value1) #value2 ÷  (value1 × value1)を計算し、その計算結果をanswer_valueに代入している。\n",
    "print(answer_value) #answer_valueの中の値を出力"
   ]
  },
  {
   "cell_type": "code",
   "execution_count": null,
   "metadata": {},
   "outputs": [],
   "source": []
  },
  {
   "cell_type": "markdown",
   "metadata": {},
   "source": [
    "# Pythonのデータの型"
   ]
  },
  {
   "cell_type": "code",
   "execution_count": 9,
   "metadata": {},
   "outputs": [
    {
     "ename": "SyntaxError",
     "evalue": "invalid character in identifier (<ipython-input-9-83750c0973d8>, line 1)",
     "output_type": "error",
     "traceback": [
      "\u001b[0;36m  File \u001b[0;32m\"<ipython-input-9-83750c0973d8>\"\u001b[0;36m, line \u001b[0;32m1\u001b[0m\n\u001b[0;31m    1.0 ＋ \"12.2\" #float型　と　String型 はデータ型が違うのでこの計算を実行するとエラーが出てしまう。\u001b[0m\n\u001b[0m        ^\u001b[0m\n\u001b[0;31mSyntaxError\u001b[0m\u001b[0;31m:\u001b[0m invalid character in identifier\n"
     ]
    }
   ],
   "source": [
    "# 1.0 ＋ \"12.2\"\n",
    "#float型　と　String型 はデータ型が違うのでこの計算を実行するとエラーが出てしまう。"
   ]
  },
  {
   "cell_type": "code",
   "execution_count": 28,
   "metadata": {},
   "outputs": [
    {
     "name": "stdout",
     "output_type": "stream",
     "text": [
      "10\n",
      "5.0\n"
     ]
    }
   ],
   "source": [
    "x = 10 #xに10を代入\n",
    "y = x/2 #xを整数型である2で割ったあと計算結果をyに代入\n",
    "print(x) #xの値を出力　→　10が表示される\n",
    "print(y) #yの値を出力　→　5.0が出力される、float型であることに注意"
   ]
  },
  {
   "cell_type": "code",
   "execution_count": 29,
   "metadata": {},
   "outputs": [
    {
     "name": "stdout",
     "output_type": "stream",
     "text": [
      "<class 'float'>\n"
     ]
    }
   ],
   "source": [
    "print(type(y)) #type(x)で変数xのデータ型を調べることができる。"
   ]
  },
  {
   "cell_type": "code",
   "execution_count": 32,
   "metadata": {},
   "outputs": [],
   "source": [
    "# '10' + 5\n",
    "#char型の\"10\"と整数型の５は演算不可。シングルクオーテーションでかっこった数値はchar型とみなされる。"
   ]
  },
  {
   "cell_type": "markdown",
   "metadata": {},
   "source": [
    "## リスト"
   ]
  },
  {
   "cell_type": "code",
   "execution_count": 33,
   "metadata": {},
   "outputs": [
    {
     "name": "stdout",
     "output_type": "stream",
     "text": [
      "['国語', '算数', '理科', '社会']\n",
      "<class 'list'>\n"
     ]
    }
   ],
   "source": [
    "#1 作成\n",
    "subject_name = [\"国語\",\"算数\",\"理科\",\"社会\"] #リスト型変数の宣言\n",
    "print(subject_name) #リスト変数を引数にして各要素全てを出力\n",
    "print(type(subject_name)) #type()でsubject_nameの型を調べる。リスト型であるとわかる。"
   ]
  },
  {
   "cell_type": "code",
   "execution_count": 34,
   "metadata": {},
   "outputs": [
    {
     "name": "stdout",
     "output_type": "stream",
     "text": [
      "算数\n",
      "['国語', '算数']\n"
     ]
    }
   ],
   "source": [
    "#2 参照\n",
    "print(subject_name[1]) #算数を表示\n",
    "print(subject_name[0:2]) #国語，算数を表示"
   ]
  },
  {
   "cell_type": "code",
   "execution_count": 35,
   "metadata": {},
   "outputs": [
    {
     "ename": "SyntaxError",
     "evalue": "invalid character in identifier (<ipython-input-35-44117e2a882a>, line 5)",
     "output_type": "error",
     "traceback": [
      "\u001b[0;36m  File \u001b[0;32m\"<ipython-input-35-44117e2a882a>\"\u001b[0;36m, line \u001b[0;32m5\u001b[0m\n\u001b[0;31m    print(subject_name)　#subject_nameの要素を表示\u001b[0m\n\u001b[0m                       ^\u001b[0m\n\u001b[0;31mSyntaxError\u001b[0m\u001b[0;31m:\u001b[0m invalid character in identifier\n"
     ]
    }
   ],
   "source": [
    "#3 末尾に追加\n",
    "subject_name.append(\"追加\") #subject_nameに\"追加\"を追加\n",
    "print(subject_name) #subject_nameの要素を表示\n",
    "subject_name.extend([\"追加A\", \"追加B\"]) #subject_nameに2つの要素を追加\n",
    "print(subject_name)　#subject_nameの要素を表示"
   ]
  },
  {
   "cell_type": "code",
   "execution_count": null,
   "metadata": {},
   "outputs": [],
   "source": [
    "#3 途中に追加\n",
    "subject_name.insert(2, \"割り込み\") #subject_nameの2番目に\"割り込み\"を追加\n",
    "print(subject_name) #subject_nameの要素を表示"
   ]
  },
  {
   "cell_type": "code",
   "execution_count": null,
   "metadata": {},
   "outputs": [],
   "source": [
    "#4 削除\n",
    "subject_name.remove(\"割り込み\") #subject_nameの要素から\"割り込み\"という要素を削除\n",
    "print(subject_name) #subject_nameの要素を表示"
   ]
  },
  {
   "cell_type": "code",
   "execution_count": null,
   "metadata": {},
   "outputs": [],
   "source": [
    "subject_name[0] = \"Japanese\"\n",
    "print(subject_name)"
   ]
  },
  {
   "cell_type": "markdown",
   "metadata": {},
   "source": [
    "## 辞書"
   ]
  },
  {
   "cell_type": "code",
   "execution_count": null,
   "metadata": {},
   "outputs": [],
   "source": [
    "#1 作成\n",
    "subject_dict = {\"国語\":70, \"数学\":80, \"理科\":100} #辞書は{}で囲む。その中身は{キー:値, キー:値, ...}とする。\n",
    "print(subject_dict) #subject_dictのキーとその値を出力"
   ]
  },
  {
   "cell_type": "code",
   "execution_count": null,
   "metadata": {},
   "outputs": [],
   "source": [
    "#2 参照\n",
    "print(subject_dict[\"数学\"]) #キーに\"数学\"を選んで、そのキーの値である80を出力する"
   ]
  },
  {
   "cell_type": "code",
   "execution_count": null,
   "metadata": {},
   "outputs": [],
   "source": [
    "#3 追加\n",
    "subject_dict[\"英語\"] = 90 #辞書型変数subject_dictにキーが\"英語\"でその値である90を追加する。\n",
    "print(subject_dict) #subject_dictのキーとその値を出力"
   ]
  },
  {
   "cell_type": "code",
   "execution_count": null,
   "metadata": {},
   "outputs": [],
   "source": [
    "#4 削除\n",
    "subject_dict.pop(\"数学\") #キーが数学でその値である80をセットで削除する \n",
    "print(subject_dict) #subject_dictのキーとその値を出力"
   ]
  },
  {
   "cell_type": "markdown",
   "metadata": {},
   "source": [
    "## タプル"
   ]
  },
  {
   "cell_type": "code",
   "execution_count": null,
   "metadata": {},
   "outputs": [],
   "source": [
    "#1 作成と参照\n",
    "sample_tuple = (10,20,\"Hello\") #タプルは()で要素を囲む.　タプルの要素には順番にはインデックスが割り振られている。要素のデータ型は混合で良い.\n",
    "print(sample_tuple) #sample_tupleの要素を出力\n",
    "print(sample_tuple[1]) #sample_tupleの2番目の要素を出力 → 20"
   ]
  },
  {
   "cell_type": "markdown",
   "metadata": {},
   "source": [
    "## セット"
   ]
  },
  {
   "cell_type": "code",
   "execution_count": null,
   "metadata": {},
   "outputs": [],
   "source": [
    "sample_set = {10,100,\"hello\"} #集合型. {}で囲む. 重リストと違って複の要素がないことと、順番がないことに注意\n",
    "print(sample_set) #集合型変数sample_setの要素を出力"
   ]
  },
  {
   "cell_type": "markdown",
   "metadata": {},
   "source": [
    "### Pythonのデータの型演習1"
   ]
  },
  {
   "cell_type": "code",
   "execution_count": null,
   "metadata": {},
   "outputs": [],
   "source": [
    "sato_dict = {\"height\":1.5, \"weight\":45} #これは辞書型\n",
    "BMI_value = sato_dict[\"weight\"] / (sato_dict[\"height\"] * sato_dict[\"height\"]) #BMIの計算．辞書型の値参照は 「辞書型変数名[呼び出す値のキー]」\n",
    "print(\"satoさんのBMIは\" + str(BMI_value) + \"です。\") #BMI_valueを一度str()で文字列型に変換して文字列として出力\n",
    "print(\"satoさんのBMIは{}です。\".format(BMI_value)) #BMI_valueの値を表示させたい部分に{}としてやって出力文字列の後に.format(BMI_value)として出力\n",
    "print(f\"satoさんのBMIは{BMI_value}です。\") #これでもよい"
   ]
  },
  {
   "cell_type": "markdown",
   "metadata": {},
   "source": [
    "### Pythonのデータの型演習2"
   ]
  },
  {
   "cell_type": "code",
   "execution_count": null,
   "metadata": {},
   "outputs": [],
   "source": [
    "x1 =  3.14 #float型の値3.14をx1に代入\n",
    "x2 = \"3.14\" #文字列型の値\"3.14\"をx2に代入、3.14は文字列として扱われることに注意\n",
    "x3 = [3.14] #要素3.14が入ったリストをx3に代入\n",
    "x4 = {'pi':3.14} #キーが'pi'、その値が3.14の辞書をx4に代入\n",
    "print(type(x1)) #x1のデータ型を出力\n",
    "print(type(x2)) #x2のデータ型を出力\n",
    "print(type(x3)) #x3のデータ型を出力\n",
    "print(type(x4)) #x4のデータ型を出力"
   ]
  },
  {
   "cell_type": "markdown",
   "metadata": {},
   "source": [
    "# 制御文"
   ]
  },
  {
   "cell_type": "markdown",
   "metadata": {},
   "source": [
    "### 繰り返し処理 for文"
   ]
  },
  {
   "cell_type": "code",
   "execution_count": null,
   "metadata": {},
   "outputs": [],
   "source": [
    "for i in [1, 2, 3]: #リストの中身を順番に変数iに代入していきその値を表示する。リストの要素の数だけ繰り返している。\n",
    "    print(i)"
   ]
  },
  {
   "cell_type": "code",
   "execution_count": null,
   "metadata": {},
   "outputs": [],
   "source": [
    "for i in range(5): #range(5)で変数iに0から4を繰り返すたびにだ隠喩していきそれを出力。5までではなく4で泊まることに注意。\n",
    "    print(i)"
   ]
  },
  {
   "cell_type": "code",
   "execution_count": null,
   "metadata": {},
   "outputs": [],
   "source": [
    "for i in range(2,5): #range(2, 5)は2から始まって4まで表示されるのに注意。\n",
    "    print(i)"
   ]
  },
  {
   "cell_type": "code",
   "execution_count": null,
   "metadata": {},
   "outputs": [],
   "source": [
    "for i in range(2,5,2): #range(2, 5, 2)は2から始まって、等差2で4まで表示される。range(初期値, 終了する値の+1, 等差)\n",
    "    print(i)"
   ]
  },
  {
   "cell_type": "markdown",
   "metadata": {},
   "source": [
    "### 繰り返し処理 while文"
   ]
  },
  {
   "cell_type": "code",
   "execution_count": null,
   "metadata": {},
   "outputs": [],
   "source": [
    "count = 1 #変数countの初期値は1\n",
    "while count <= 3:     #countが3以下の時，繰り返し処理を行う\n",
    "    print(count) #countの値を出力\n",
    "    count = count + 1 #countにそれ自身の値に1を足した値を代入"
   ]
  },
  {
   "cell_type": "code",
   "execution_count": null,
   "metadata": {},
   "outputs": [],
   "source": [
    "count = 0 #countの初期値に0を代入\n",
    "while True: #「while 条件式」の条件式が真の時ループされるので、無限ループを発生していることに注意\n",
    "    count = count + 1  #countにそれ自身の値に1を足した値を代入\n",
    "    if count == 5: #countに5が代入されている時、if文の処理が実行される\n",
    "        break #breakはwhileに対してなので、無限ループを発生しているwhileを抜け出す。\n",
    "    print(count) #if文の条件が偽の時、if文の処理が無視されるのでこちらを実行"
   ]
  },
  {
   "cell_type": "markdown",
   "metadata": {},
   "source": [
    "### 条件分岐 if文"
   ]
  },
  {
   "cell_type": "code",
   "execution_count": 36,
   "metadata": {},
   "outputs": [
    {
     "name": "stdout",
     "output_type": "stream",
     "text": [
      "エアコンを点ける\n"
     ]
    }
   ],
   "source": [
    "temperature = 30         # 任意の数値\n",
    "if (temperature > 25):   # temperatureが25より大きい場合\n",
    "    print(\"エアコンを点ける\")\n",
    "else:                    # “それ以外の場合”はelse以下\n",
    "    print(\"エアコンは点けない\")"
   ]
  },
  {
   "cell_type": "markdown",
   "metadata": {},
   "source": [
    "### 制御文演習1"
   ]
  },
  {
   "cell_type": "code",
   "execution_count": 37,
   "metadata": {},
   "outputs": [
    {
     "name": "stdout",
     "output_type": "stream",
     "text": [
      "正解です\n"
     ]
    }
   ],
   "source": [
    "# for文による演算\n",
    "num1 = 1\n",
    "for x in range(1, 11, 1): #xに初期値1で等差1の数列を値10まで代入\n",
    "    num1 = num1 * 2 \n",
    "\n",
    "# 演算子による演算\n",
    "num2 = 2 ** 10 #2の10乗を代入\n",
    "\n",
    "# 条件の分岐\n",
    "if num1 == num2: #num1とnum2を比較して値が等しければ下の処理を実行。違ければelseの処理を実行\n",
    "    print(\"正解です\")\n",
    "else:\n",
    "    print(\"不正解です\")"
   ]
  },
  {
   "cell_type": "markdown",
   "metadata": {},
   "source": [
    "### 制御文演習2"
   ]
  },
  {
   "cell_type": "code",
   "execution_count": 38,
   "metadata": {},
   "outputs": [
    {
     "name": "stdout",
     "output_type": "stream",
     "text": [
      "正解です\n"
     ]
    }
   ],
   "source": [
    "# while文による演算\n",
    "num1 = 1\n",
    "count = 1\n",
    "\n",
    "while count < 11: #countが10の時まで繰り返す\n",
    "    num1 = num1 * 2\n",
    "    count = count + 1\n",
    "    \n",
    "# 演算子による演算\n",
    "num2 = 2 ** 10\n",
    "\n",
    "# 条件の分岐\n",
    "if num1 == num2:  #num1とnum2を比較して値が等しければ下の処理を実行。違ければelseの処理を実行\n",
    "    print(\"正解です\")\n",
    "else:\n",
    "    print(\"不正解です\")"
   ]
  },
  {
   "cell_type": "code",
   "execution_count": null,
   "metadata": {},
   "outputs": [],
   "source": []
  },
  {
   "cell_type": "markdown",
   "metadata": {},
   "source": [
    "# 関数"
   ]
  },
  {
   "cell_type": "code",
   "execution_count": 39,
   "metadata": {},
   "outputs": [
    {
     "name": "stdout",
     "output_type": "stream",
     "text": [
      "29\n",
      "77\n",
      "149\n"
     ]
    }
   ],
   "source": [
    "a = 2**2 + 3**2 + 4**2 #2と3と4をそれぞれ二乗して和をとる\n",
    "b = 4**2 + 5**2 + 6**2 #4と5と6をそれぞれ二乗して和をとる\n",
    "c = 6**2 + 7**2 + 8**2 #6と7と8をそれぞれ二乗して和をとる\n",
    "print(a)\n",
    "print(b)\n",
    "print(c)"
   ]
  },
  {
   "cell_type": "code",
   "execution_count": 40,
   "metadata": {},
   "outputs": [],
   "source": [
    "def calc_hypotenuse(x,y): #calc_hypotenuse()関数を定義\n",
    "    ans = (x**2 + y**2)**(1/2) #関数が呼び出されると(x^2+y^2)^(1/2)が計算され変数ansに代入される\n",
    "    return ans #ansの値が関数の戻り値となる。"
   ]
  },
  {
   "cell_type": "code",
   "execution_count": 41,
   "metadata": {},
   "outputs": [
    {
     "name": "stdout",
     "output_type": "stream",
     "text": [
      "3.605551275463989\n",
      "6.4031242374328485\n",
      "9.219544457292887\n"
     ]
    }
   ],
   "source": [
    "a = calc_hypotenuse(2,3) #calc_hypotenuse()の引数に2と3が入り、関数が呼び出されている。\n",
    "b = calc_hypotenuse(4,5) #calc_hypotenuse()の引数に4と5が入り、関数が呼び出されている。\n",
    "c = calc_hypotenuse(6,7) #calc_hypotenuse()の引数に6と7が入り、関数が呼び出されている。\n",
    "print(a)\n",
    "print(b)\n",
    "print(c)"
   ]
  },
  {
   "cell_type": "code",
   "execution_count": 42,
   "metadata": {},
   "outputs": [
    {
     "name": "stdout",
     "output_type": "stream",
     "text": [
      "関数が呼ばれました\n"
     ]
    }
   ],
   "source": [
    "def print_func(): #関数の定義\n",
    "    print(\"関数が呼ばれました\")\n",
    "print_func()                 # 引数がない場合　左辺は必要ない"
   ]
  },
  {
   "cell_type": "markdown",
   "metadata": {},
   "source": [
    "### 関数演習1"
   ]
  },
  {
   "cell_type": "code",
   "execution_count": 43,
   "metadata": {},
   "outputs": [
    {
     "name": "stdout",
     "output_type": "stream",
     "text": [
      "20.0\n"
     ]
    }
   ],
   "source": [
    "Tanaka = {\"height\":2, \"weight\":80} #辞書型の値が変数Tanakaに代入される。\n",
    "def BMI_function(height, weight): #BMI_function(height, weight)の定義\n",
    "    ans = weight / (height * height) #BMIの計算\n",
    "    return ans #ansが関数の戻り値\n",
    "BMI = BMI_function(Tanaka[\"height\"], Tanaka[\"weight\"]) #BMI_function()を呼び出し、関数の戻り値を変数BMIに代入される。\n",
    "print(BMI) # BMI値を出力 "
   ]
  },
  {
   "cell_type": "markdown",
   "metadata": {},
   "source": [
    "### 関数演習2"
   ]
  },
  {
   "cell_type": "code",
   "execution_count": 44,
   "metadata": {},
   "outputs": [
    {
     "name": "stdout",
     "output_type": "stream",
     "text": [
      "普通\n"
     ]
    }
   ],
   "source": [
    "if BMI <18: #上のBMIの値が18より下であればif文の処理を実行。\n",
    "    print(\"痩せ気味\")\n",
    "elif BMI >= 18 and BMI < 25: #elifでさらに条件式と比較する\n",
    "    print(\"普通\")\n",
    "else: #全て偽であれば以下を実行\n",
    "    print(\"太り気味\")"
   ]
  },
  {
   "cell_type": "markdown",
   "metadata": {},
   "source": [
    "### 関数演習3"
   ]
  },
  {
   "cell_type": "code",
   "execution_count": 45,
   "metadata": {},
   "outputs": [
    {
     "name": "stdout",
     "output_type": "stream",
     "text": [
      "SVMを行います\n"
     ]
    }
   ],
   "source": [
    "def machine_learning(mode): #machine_learning(mode)関数を定義\n",
    "    if (mode == \"SVM\"): #modeの値が\"SVM\"なら真で以下を実行、偽ならその下のelif文に続く\n",
    "        print(\"SVMを行います\")\n",
    "    elif (mode == \"決定木\"): #modeの値が\"決定木\"ならば以下を実行、偽ならelse文に続く\n",
    "        print(\"決定木を行います\")\n",
    "    else: #全て偽なら以下を実行する\n",
    "        print(\"random forestを行います\")\n",
    "machine_learning(\"SVM\") #引数に文字列型の値を用いて関数を呼び出し"
   ]
  },
  {
   "cell_type": "code",
   "execution_count": null,
   "metadata": {},
   "outputs": [],
   "source": []
  },
  {
   "cell_type": "markdown",
   "metadata": {},
   "source": [
    "# クラス"
   ]
  },
  {
   "cell_type": "code",
   "execution_count": 46,
   "metadata": {},
   "outputs": [],
   "source": [
    "class ModelA:                                # ModelA クラスの宣言\n",
    "    def __init__(self):                      # 呼び出す際に呼ばれる関数\n",
    "        self.gas = 100                       # 車の持つ要素を定義\n",
    "    \n",
    "    def run(self):                           # 車が走る際の処理を関数で表現\n",
    "        self.gas = self.gas - 5              # gasは減り，distanceは増える\n",
    "        print(\"10km走りました\")\n",
    "    \n",
    "    def charge(self, supply_amount): \n",
    "        self.gas = self.gas + supply_amount #ガソリンの補給を表現\n",
    "        print(\"現在のガソリンは{}リットルです\".format(self.gas)) #現在のガソリン量を表示"
   ]
  },
  {
   "cell_type": "code",
   "execution_count": 47,
   "metadata": {},
   "outputs": [],
   "source": [
    "model_A = ModelA() # model_A という名前のインスタンス作成"
   ]
  },
  {
   "cell_type": "code",
   "execution_count": 48,
   "metadata": {},
   "outputs": [
    {
     "name": "stdout",
     "output_type": "stream",
     "text": [
      "10km走りました\n"
     ]
    }
   ],
   "source": [
    "model_A.run() # model_Aのrun関数を実行"
   ]
  },
  {
   "cell_type": "code",
   "execution_count": 49,
   "metadata": {},
   "outputs": [
    {
     "name": "stdout",
     "output_type": "stream",
     "text": [
      "95\n"
     ]
    }
   ],
   "source": [
    "print(model_A.gas)      # model_Aのgas残量を確認"
   ]
  },
  {
   "cell_type": "markdown",
   "metadata": {},
   "source": [
    "## 継承"
   ]
  },
  {
   "cell_type": "code",
   "execution_count": 50,
   "metadata": {},
   "outputs": [],
   "source": [
    "class ModelB(ModelA): #ModelBクラスはModelAクラスを継承、引き継いでいる。\n",
    "    def __init__(self): # 呼び出す際に呼ばれる関数\n",
    "        super().__init__() #親クラス(ModelAクラス)の__init__()関数を呼び出す。 \n",
    "\n",
    "    def turbo(self): #ターボを再現する関数\n",
    "        self.gas = self.gas-10 #ガソリンを10L減らす代わりにターボを発動\n",
    "        print(\"ターボ機能を発動します！\")"
   ]
  },
  {
   "cell_type": "code",
   "execution_count": 51,
   "metadata": {},
   "outputs": [
    {
     "name": "stdout",
     "output_type": "stream",
     "text": [
      "10km走りました\n",
      "95\n"
     ]
    }
   ],
   "source": [
    "model_B = ModelB() #model_Bという名前のインスタンスを生成\n",
    "model_B.run() #model_Bのrunメソッドを実行、ModelBクラスで定義していなくても、ModelAクラスを継承しているので呼び出すことができる。\n",
    "print(model_B.gas) #model_Bインスタンスのガソリンを表示"
   ]
  },
  {
   "cell_type": "code",
   "execution_count": 52,
   "metadata": {},
   "outputs": [
    {
     "name": "stdout",
     "output_type": "stream",
     "text": [
      "ターボ機能を発動します！\n",
      "85\n"
     ]
    }
   ],
   "source": [
    "model_B.turbo() #model_Bインスタンスのturboメソッドを呼び出し\n",
    "print(model_B.gas)"
   ]
  },
  {
   "cell_type": "markdown",
   "metadata": {},
   "source": [
    "### クラス演習1"
   ]
  },
  {
   "cell_type": "code",
   "execution_count": 53,
   "metadata": {},
   "outputs": [],
   "source": [
    "class Human: #Humanクラスを宣言\n",
    "    def __init__(self): #Humanクラスが呼び出されるときに実行される\n",
    "        print(\"initialize\")\n",
    "        self.health = 100 #インスタンスがもつhealthメソッドを100に初期化\n",
    "        self.time = 10 #インスタンスがもつtimeメソッドを10に初期化\n",
    "        self.achieve = 0 #インスタンスがもつachieveメソッドを0に初期化\n",
    "    \n",
    "    def work(self, work_value): #仕事の価値観と健康のバランスをメソッドで定義\n",
    "        print(\"work\")\n",
    "        self.achieve = self.achieve + work_value #仕事をやれば達成感も上がる\n",
    "        self.health = self.health - 50 * work_value #その代わり体力は仕事をやれば減っていく\n",
    "        \n",
    "    def rest(self, rest_value): #メソッドで表現\n",
    "        print(\"rest\") \n",
    "        self.time = self.time - rest_value #休めば時間が減る\n",
    "        self.health = self.health + 50 * rest_value #休めば体力が増える\n",
    "        \n",
    "    def show(self): #インスタンスを引数にとり、それぞれのステータスを出力\n",
    "        print(\"体力：{}\".format(self.health)) \n",
    "        print(\"時間：{}\".format(self.time))\n",
    "        print(\"業績：{}\".format(self.achieve))"
   ]
  },
  {
   "cell_type": "code",
   "execution_count": 54,
   "metadata": {},
   "outputs": [
    {
     "name": "stdout",
     "output_type": "stream",
     "text": [
      "initialize\n",
      "体力：100\n",
      "時間：10\n",
      "業績：0\n"
     ]
    }
   ],
   "source": [
    "YourWork = Human() #YourWorkという名前のインスタンスを生成\n",
    "YourWork.show()"
   ]
  },
  {
   "cell_type": "code",
   "execution_count": 55,
   "metadata": {},
   "outputs": [
    {
     "name": "stdout",
     "output_type": "stream",
     "text": [
      "work\n",
      "体力：50\n",
      "時間：10\n",
      "業績：1\n"
     ]
    }
   ],
   "source": [
    "YourWork.work(1) #業績を1つのこす\n",
    "YourWork.show() #YourWorkインスタンスのステータスを表示"
   ]
  },
  {
   "cell_type": "code",
   "execution_count": 56,
   "metadata": {},
   "outputs": [
    {
     "name": "stdout",
     "output_type": "stream",
     "text": [
      "rest\n",
      "体力：100\n",
      "時間：9\n",
      "業績：1\n"
     ]
    }
   ],
   "source": [
    "YourWork.rest(1) #一回休む\n",
    "YourWork.show() #YourWorkインスタンスのステータスを表示"
   ]
  },
  {
   "cell_type": "markdown",
   "metadata": {},
   "source": [
    "### クラス演習2"
   ]
  },
  {
   "cell_type": "code",
   "execution_count": 57,
   "metadata": {},
   "outputs": [],
   "source": [
    "class Engineer(Human): #Humanクラスを継承して新しくEngineerクラスを宣言\n",
    "    def work_hard(self, work_value): #沢山の仕事をすることをメソッドで定義\n",
    "        print(\"work_hard\")\n",
    "        self.achieve = self.achieve + work_value * 2 #働いた2倍分達成感を得る\n",
    "        self.health = self.health - 150 * work_value #先ほどより体力が減る"
   ]
  },
  {
   "cell_type": "code",
   "execution_count": 58,
   "metadata": {},
   "outputs": [
    {
     "name": "stdout",
     "output_type": "stream",
     "text": [
      "initialize\n",
      "work_hard\n",
      "体力：-50\n",
      "時間：10\n",
      "業績：2\n",
      "rest\n",
      "体力：0\n",
      "時間：9\n",
      "業績：2\n"
     ]
    }
   ],
   "source": [
    "YourWork = Engineer() #YourWorkというインスタンスを新しく生成\n",
    "YourWork.work_hard(1) #1回分働く\n",
    "YourWork.show() #ステータス表示\n",
    "YourWork.rest(1) #一回休憩する\n",
    "YourWork.show() #ステータス表示"
   ]
  },
  {
   "cell_type": "markdown",
   "metadata": {},
   "source": [
    "### クラス演習3"
   ]
  },
  {
   "cell_type": "code",
   "execution_count": 59,
   "metadata": {},
   "outputs": [],
   "source": [
    "class Machine_learning: #Machine_learningクラスを宣言\n",
    "    def __init__(self): #Machine_learningクラスが呼び出されるときに実行される\n",
    "        print(\"initialize\") \n",
    "        self.memory = 0 #memoryプロパティを0に初期化\n",
    "        self.time = 0 #timeプロパティを0に初期化\n",
    "        self.achieve = 0 #achieveプロパティを0に初期化\n",
    "        \n",
    "    def Tree(self, work_value): #決定木を表現\n",
    "        print(\"Tree\")\n",
    "        self.memory = self.memory + 30 * work_value #メモリー使用料は使ってきた分と仕事の量によって決定\n",
    "        self.time = self.time + work_value #消費時間はそれまでの消費時間と仕事の量によって決定\n",
    "        self.achieve = self.achieve + work_value #成果もそれまでの成果と仕事の量により決定\n",
    "    \n",
    "    def Random_Forest(self, work_value): #ランダムフォレストを表現、メモリーと時間を消費するが、成果が大きく帰ってる\n",
    "        print(\"Random_Forest\") \n",
    "        self.memory = self.memory + 40 * work_value \n",
    "        self.time = self.time + 2 * work_value\n",
    "        self.achieve = self.achieve + 3 * work_value\n",
    "        \n",
    "    def show(self): #ステータスを表示\n",
    "        print(\"メモリ使用量：{}\".format(self.memory))\n",
    "        print(\"消費時間：{}\".format(self.time))\n",
    "        print(\"成果：{}\".format(self.achieve))"
   ]
  },
  {
   "cell_type": "code",
   "execution_count": 60,
   "metadata": {},
   "outputs": [
    {
     "name": "stdout",
     "output_type": "stream",
     "text": [
      "initialize\n",
      "Tree\n",
      "メモリ使用量：30\n",
      "消費時間：1\n",
      "成果：1\n",
      "Random_Forest\n",
      "メモリ使用量：70\n",
      "消費時間：3\n",
      "成果：4\n"
     ]
    }
   ],
   "source": [
    "model = Machine_learning() #modelという名前のインスタンスを生成\n",
    "model.Tree(1) #仕事の量を1として決定木のステータスをシミュレーション\n",
    "model.show() #ステータスを表示\n",
    "model.Random_Forest(1) #仕事の量を1としてランダムフォレストのステータスをシミュレーション\n",
    "model.show() #ステータスを表示"
   ]
  },
  {
   "cell_type": "code",
   "execution_count": null,
   "metadata": {},
   "outputs": [],
   "source": []
  },
  {
   "cell_type": "code",
   "execution_count": null,
   "metadata": {},
   "outputs": [],
   "source": []
  },
  {
   "cell_type": "code",
   "execution_count": null,
   "metadata": {},
   "outputs": [],
   "source": []
  }
 ],
 "metadata": {
  "kernelspec": {
   "display_name": "Python 3",
   "language": "python",
   "name": "python3"
  },
  "language_info": {
   "codemirror_mode": {
    "name": "ipython",
    "version": 3
   },
   "file_extension": ".py",
   "mimetype": "text/x-python",
   "name": "python",
   "nbconvert_exporter": "python",
   "pygments_lexer": "ipython3",
   "version": "3.7.3"
  }
 },
 "nbformat": 4,
 "nbformat_minor": 2
}
